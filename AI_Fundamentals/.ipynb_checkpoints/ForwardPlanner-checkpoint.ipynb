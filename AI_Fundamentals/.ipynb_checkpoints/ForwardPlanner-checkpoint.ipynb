{
 "cells": [
  {
   "cell_type": "markdown",
   "metadata": {},
   "source": [
    "# Module 10 - Programming Assignment\n",
    "\n",
    "## Directions\n",
    "\n",
    "1. Change the name of this file to be your JHED id as in `jsmith299.ipynb`. Because sure you use your JHED ID (it's made out of your name and not your student id which is just letters and numbers).\n",
    "2. Make sure the notebook you submit is cleanly and fully executed. I do not grade unexecuted notebooks.\n",
    "3. Submit your notebook back in Blackboard where you downloaded this file.\n",
    "\n",
    "*Provide the output **exactly** as requested*"
   ]
  },
  {
   "cell_type": "markdown",
   "metadata": {},
   "source": [
    "# Forward Planner\n",
    "\n",
    "## Unify\n",
    "\n",
    "Use the accompanying `unification.py` file for unification. For this assignment, you're almost certainly going to want to be able to:\n",
    "\n",
    "1. specify the problem in terms of S-expressions.\n",
    "2. parse them.\n",
    "3. work with the parsed versions.\n",
    "\n",
    "`parse` and `unification` work exactly like the programming assignment for last time."
   ]
  },
  {
   "cell_type": "code",
   "execution_count": 1,
   "metadata": {},
   "outputs": [],
   "source": [
    "from unification import parse, unification, unify, is_variable\n",
    "from copy import deepcopy\n",
    "import itertools"
   ]
  },
  {
   "cell_type": "markdown",
   "metadata": {},
   "source": [
    "## Forward Planner\n",
    "\n",
    "In this assigment, you're going to implement a Forward Planner. What does that mean? If you look in your book, you will not find pseudocode for a forward planner. It just says \"use state space search\" but this is less than helpful and it's a bit more complicated than that. **(but please please do not try to implement STRIPS or GraphPlan...that is wrong).**\n",
    "\n",
    "At a high level, a forward planner takes the current state of the world $S_0$ and attempts to derive a plan, basically by Depth First Search. We have all the ingredients we said we would need in Module 1: states, actions, a transition function and a goal test. We have a set of predicates that describe a state (and therefore all possible states), we have actions and we have, at least, an implicit transition function: applying an action in a state causes the state to change as described by the add and delete lists.\n",
    "\n",
    "Let's say we have a drill that's an item, two places such as home and store, and we know that I'm at home and the drill is at the store and I want to go buy a drill (have it be at home). We might represent that as:\n",
    "\n",
    "<code>\n",
    "start_state = [\n",
    "    \"(item Saw)\",\n",
    "    \"(item Drill)\",\n",
    "    \"(place Home)\",\n",
    "    \"(place Store)\",\n",
    "    \"(place Bank)\",\n",
    "    \"(agent Me)\",\n",
    "    \"(at Me Home)\",\n",
    "    \"(at Saw Store)\",\n",
    "    \"(at Drill Store)\",\n",
    "    \"(at Money Bank)\"\n",
    "]\n",
    "</code>\n",
    "\n",
    "And we have a goal state:\n",
    "\n",
    "<code>\n",
    "goal = [\n",
    "    \"(item Saw)\",\n",
    "    \"(item Drill)\",\n",
    "    \"(place Home)\",\n",
    "    \"(place Store)\",\n",
    "    \"(place Bank)\",\n",
    "    \"(agent Me)\",\n",
    "    \"(at Me Home)\",\n",
    "    \"(at Drill Me)\",\n",
    "    \"(at Saw Store)\",\n",
    "    \"(at Money Bank)\"\n",
    "]\n",
    "</code>\n",
    "\n",
    "The actions/operators are:\n",
    "\n",
    "<code>\n",
    "actions = {\n",
    "    \"drive\": {\n",
    "        \"action\": \"(drive ?agent ?from ?to)\",\n",
    "        \"conditions\": [\n",
    "            \"(agent ?agent)\",\n",
    "            \"(place ?from)\",\n",
    "            \"(place ?to)\",\n",
    "            \"(at ?agent ?from)\"\n",
    "        ],\n",
    "        \"add\": [\n",
    "            \"(at ?agent ?to)\"\n",
    "        ],\n",
    "        \"delete\": [\n",
    "            \"(at ?agent ?from)\"\n",
    "        ]\n",
    "    },\n",
    "    \"buy\": {\n",
    "        \"action\": \"(buy ?purchaser ?seller ?item)\",\n",
    "        \"conditions\": [\n",
    "            \"(item ?item)\",\n",
    "            \"(place ?seller)\",\n",
    "            \"(agent ?purchaser)\",\n",
    "            \"(at ?item ?seller)\",\n",
    "            \"(at ?purchaser ?seller)\"\n",
    "        ],\n",
    "        \"add\": [\n",
    "            \"(at ?item ?purchaser)\"\n",
    "        ],\n",
    "        \"delete\": [\n",
    "            \"(at ?item ?seller)\"\n",
    "        ]\n",
    "    }\n",
    "}\n",
    "</code>\n",
    "\n",
    "These will all need to be parsed from s-expressions to the underlying Python representation before you can use them. You might as well do it at the start of your algorithm, once. The order of the conditions is *not* arbitrary. It is much, much better for the unification and backtracking if you have the \"type\" predicates (item, place, agent) before the more complex ones. Trust me on this.\n",
    "\n",
    "As for the algorithm itself, there is going to be an *outer* level of search and an *inner* level of search.\n",
    "\n",
    "The *outer* level of search that is exactly what I describe here: you have a state, you generate successor states by applying actions to the current state, you examine those successor states as we did at the first week of the semester and if one is the goal you stop, if you see a repeat state, you put it on the explored list (you should implement graph search not tree search). What could be simpler?\n",
    "\n",
    "It turns out the Devil is in the details. There is an *inner* level of search hidden in \"you generate successor states by applying actions to the current state\". Where?\n",
    "\n",
    "How do you know if an action applies in a state? Only if the preconditions successfully unify with the current state. That seems easy enough...you check each predicate in the conditions to see if it unifies with the current state and if it does, you use the substitution list on the action, the add and delete lists and create the successor state based on them.\n",
    "\n",
    "Except for one small problem...there may be more than one way to unify an action with the current state. You must essentially search for all successful unifications of the candidate action and the current state. This is where my question through the semester appliesm, \"how would you modify state space search to return all the paths to the goal?\"\n",
    "\n",
    "Unification can be seen as state space search by trying to unify the first precondition with the current state, progressively working your way through the precondition list. If you fail at any point, you may need to backtrack because there might have been another unification of that predicate that would succeed. Similarly, as already mentioned, there may be more than one.\n",
    "\n",
    "So...by using unification and a properly defined <code>successors</code> function, you should be able to apply graph based search to the problem and return a \"path\" through the states from the initial state to the goal. You'll definitely want to use graph-based search since <code>( drive Me Store), (drive Me Home), (drive Me Store), (drive Me Home), (drive Me Store), (buy Me Store Drill), (drive Me Home)</code> is a valid plan.\n",
    "\n",
    "Your function should return the plan...a list of actions, fully instantiated, for the agent to do in order: [a1, a2, a3]. If you pass an extra intermediate=True parameter, it should also return the resulting state of each action: [s0, a1, s1, a2, s2, a3, s3].\n",
    "\n",
    "-----"
   ]
  },
  {
   "cell_type": "markdown",
   "metadata": {},
   "source": [
    "(you can just overwrite that one and add as many others as you need). Remember to follow the **Guidelines**.\n",
    "\n",
    "\n",
    "-----\n",
    "\n",
    "So you need to implement `forward_planner` as described above. `start_state`, `goal` and `actions` should all have the layout above and be s-expressions.\n",
    "\n",
    "Your implementation should return the plan as a **List of instantiated actions**. If `debug=True`, you should print out the intermediate states of the plan as well."
   ]
  },
  {
   "cell_type": "code",
   "execution_count": 2,
   "metadata": {},
   "outputs": [],
   "source": [
    "def forward_planner( start_state, goal, actions, debug=False):\n",
    "    return []"
   ]
  },
  {
   "cell_type": "markdown",
   "metadata": {},
   "source": [
    "You will be solving the problem from above. Here is the start state:"
   ]
  },
  {
   "cell_type": "code",
   "execution_count": 3,
   "metadata": {},
   "outputs": [],
   "source": [
    "start_state = [\n",
    "    \"(item Saw)\",\n",
    "    \"(item Drill)\",\n",
    "    \"(place Home)\",\n",
    "    \"(place Store)\",\n",
    "    \"(place Bank)\",\n",
    "    \"(agent Me)\",\n",
    "    \"(at Me Home)\",\n",
    "    \"(at Saw Store)\",\n",
    "    \"(at Drill Store)\"\n",
    "]"
   ]
  },
  {
   "cell_type": "markdown",
   "metadata": {},
   "source": [
    "The goal state:"
   ]
  },
  {
   "cell_type": "code",
   "execution_count": 4,
   "metadata": {
    "tags": []
   },
   "outputs": [],
   "source": [
    "goal = [\n",
    "    \"(item Saw)\",    \n",
    "    \"(item Drill)\",\n",
    "    \"(place Home)\",\n",
    "    \"(place Store)\",\n",
    "    \"(place Bank)\",    \n",
    "    \"(agent Me)\",\n",
    "    \"(at Me Home)\",\n",
    "    \"(at Drill Me)\",\n",
    "    \"(at Saw Store)\"    \n",
    "]"
   ]
  },
  {
   "cell_type": "markdown",
   "metadata": {},
   "source": [
    "and the actions/operators:"
   ]
  },
  {
   "cell_type": "code",
   "execution_count": 5,
   "metadata": {},
   "outputs": [],
   "source": [
    "actions = {\n",
    "    \"drive\": {\n",
    "        \"action\": \"(drive ?agent ?from ?to)\",\n",
    "        \"conditions\": [\n",
    "            \"(agent ?agent)\",\n",
    "            \"(place ?from)\",\n",
    "            \"(place ?to)\",\n",
    "            \"(at ?agent ?from)\"\n",
    "        ],\n",
    "        \"add\": [\n",
    "            \"(at ?agent ?to)\"\n",
    "        ],\n",
    "        \"delete\": [\n",
    "            \"(at ?agent ?from)\"\n",
    "        ]\n",
    "    },\n",
    "    \"buy\": {\n",
    "        \"action\": \"(buy ?purchaser ?seller ?item)\",\n",
    "        \"conditions\": [\n",
    "            \"(item ?item)\",\n",
    "            \"(place ?seller)\",\n",
    "            \"(agent ?purchaser)\",\n",
    "            \"(at ?item ?seller)\",\n",
    "            \"(at ?purchaser ?seller)\"\n",
    "        ],\n",
    "        \"add\": [\n",
    "            \"(at ?item ?purchaser)\"\n",
    "        ],\n",
    "        \"delete\": [\n",
    "            \"(at ?item ?seller)\"\n",
    "        ]\n",
    "    }\n",
    "}"
   ]
  },
  {
   "cell_type": "markdown",
   "metadata": {},
   "source": [
    "**Note** The facts for each state are really an ordered set. When comparing two states, you may need to convert them to a Set first."
   ]
  },
  {
   "cell_type": "markdown",
   "metadata": {},
   "source": [
    "<a id=\"interp_vars\"></a>\n",
    "## interp_vars\n",
    "\n",
    "`interp_vars` takes in an item / expression, and a dictionary of variable assignments, and outputs a combined string. This is used in cases like action-add and action-delete segments, where variable expressions need to be filled in with their assigned forms. \n",
    "\n",
    "***Inputs:***\n",
    "* **item**: String: Item or expression to evaluate\n",
    "* **vars**: Dict: Dictionary of assigned variables so far\n",
    "\n",
    "**returns** unparsed string with applicable values substituted into variables expressions"
   ]
  },
  {
   "cell_type": "code",
   "execution_count": 6,
   "metadata": {},
   "outputs": [],
   "source": [
    "def interp_vars(item, vars): \n",
    "    # print('vars: ', vars)\n",
    "    parsed = parse(item)\n",
    "    for i in range(len(parsed)): \n",
    "        if is_variable(parsed[i]):\n",
    "            if parsed[i] in vars.keys(): \n",
    "                parsed[i] = vars[parsed[i]]\n",
    "            else: \n",
    "                # print('Variable not in keys!')\n",
    "                return None\n",
    "\n",
    "    unparsed = ' '.join(parsed)\n",
    "    unparsed = '(' + unparsed + ')'\n",
    "    \n",
    "    return unparsed"
   ]
  },
  {
   "cell_type": "code",
   "execution_count": 7,
   "metadata": {},
   "outputs": [],
   "source": [
    "#Unit tests / assertions\n",
    "vars = {'?item': 'Saw', '?seller': 'Bank', '?purchaser': 'Me'}\n",
    "condition = '(at ?item ?seller)'\n",
    "assert interp_vars(condition, vars) == '(at Saw Bank)'\n",
    "\n",
    "condition = '(at ?item ?purchaser)'\n",
    "assert interp_vars(condition, vars) == '(at Saw Me)'"
   ]
  },
  {
   "cell_type": "markdown",
   "metadata": {},
   "source": [
    "<a id=\"check_conditions\"></a>\n",
    "## check_conditions\n",
    "\n",
    "`check_conditions` takes in a current state and a list of (pre)conditions, and loops through each condition and each state item to determine whether a list of preconditions is met. \n",
    "\n",
    "***Inputs:***\n",
    "* **state**: List[str]: List of current state items\n",
    "* **conditions**: List[str]: List of variable statements, pre-conditions\n",
    "\n",
    "**returns** None if preconditions are not met, otherwise returns variable dictionary"
   ]
  },
  {
   "cell_type": "code",
   "execution_count": 8,
   "metadata": {},
   "outputs": [],
   "source": [
    "def check_conditions(state, conditions): \n",
    "    vars = {}\n",
    "    for condition in conditions:\n",
    "        condition_test = False\n",
    "        if interp_vars(condition, vars): \n",
    "            condition = interp_vars(condition, vars)        \n",
    "\n",
    "        item_test = False\n",
    "        for item in state: #test unify each\n",
    "            unif = unify(condition, item)\n",
    "            if unif != None and unif!= False: #True\n",
    "                item_test, condition_test = True, True\n",
    "                for key in unif: \n",
    "                    vars[key] = unif[key]\n",
    "\n",
    "        if condition_test == False: \n",
    "            return None\n",
    "    \n",
    "    return vars"
   ]
  },
  {
   "cell_type": "code",
   "execution_count": 9,
   "metadata": {},
   "outputs": [],
   "source": [
    "# Unit Tests / Assertions\n",
    "test_conditions = [\"(agent ?agent)\", \"(place ?from)\"]\n",
    "test_state = ['(agent Me)', '(place Store)']\n",
    "assert check_conditions(test_state, test_conditions) == {'?agent': 'Me', '?from': 'Store'}\n",
    "\n",
    "test_state = []\n",
    "assert check_conditions(test_state, test_conditions) == None"
   ]
  },
  {
   "cell_type": "markdown",
   "metadata": {},
   "source": [
    "<a id=\"do_action\"></a>\n",
    "## do_action\n",
    "\n",
    "`do_action` takes in a current state and an action to generate the next state. \n",
    "\n",
    "***Inputs:***\n",
    "* **state**: List[str]: List of current state items\n",
    "* **action**: Dict: Dictionary set of actions, to include conditions, add, delete\n",
    "\n",
    "**returns** Next State - after verifying conditions, adding and deleting necessary items"
   ]
  },
  {
   "cell_type": "code",
   "execution_count": 10,
   "metadata": {},
   "outputs": [],
   "source": [
    "def do_action(state, action): \n",
    "    print('action: ', action)\n",
    "    \n",
    "    vars = check_conditions(state, action['conditions'])\n",
    "    if not vars: #action does not apply\n",
    "        print('action does not apply') \n",
    "        return None #cannot use action\n",
    "\n",
    "    next_state = deepcopy(state)\n",
    "    print('state: ', state)\n",
    "    for el in action['add']: \n",
    "        print('add el: ', el)\n",
    "        next_state.add(interp_vars(el, vars))\n",
    "\n",
    "    for el in action['delete']: \n",
    "        print('delete el: ', el)\n",
    "        next_state.remove(interp_vars(el, vars))\n",
    "\n",
    "    return next_state        "
   ]
  },
  {
   "cell_type": "code",
   "execution_count": 11,
   "metadata": {},
   "outputs": [
    {
     "name": "stdout",
     "output_type": "stream",
     "text": [
      "action:  {'action': '(drive ?agent ?from)', 'conditions': ['(agent ?agent)', '(place ?from)'], 'add': ['(at ?agent ADD)'], 'delete': ['(agent ?agent)']}\n",
      "state:  {'(agent Me)', '(place Store)'}\n",
      "add el:  (at ?agent ADD)\n",
      "delete el:  (agent ?agent)\n"
     ]
    }
   ],
   "source": [
    "#Unit Tests / Assertions\n",
    "test_state = {'(agent Me)', '(place Store)'}\n",
    "test_action = {\n",
    "        \"action\": \"(drive ?agent ?from)\",\n",
    "        \"conditions\": [\n",
    "            \"(agent ?agent)\",\n",
    "            \"(place ?from)\"],\n",
    "        \"add\": [\n",
    "            \"(at ?agent ADD)\"\n",
    "        ],\n",
    "        \"delete\": [\n",
    "            \"(agent ?agent)\"\n",
    "        ]}\n",
    "\n",
    "assert do_action(test_state, test_action) == {'(at Me ADD)', '(place Store)'}"
   ]
  },
  {
   "cell_type": "markdown",
   "metadata": {},
   "source": [
    "<a id=\"forward_planner\"></a>\n",
    "## forward_planner\n",
    "\n",
    "`forward_planner` is the main recursive function. It checks the current state against a goal, and recursively steps through potential actions / preconditions until finding a goal. Unit Tests / assertions are shown in the `plan` call below. \n",
    "\n",
    "***Inputs:***\n",
    "* **start_state**: List[str]: List of current state items\n",
    "* **goal**: List[str]: List of goal items\n",
    "* **actions**: Dict: list of potential actions to apply to the current state\n",
    "* **debug**: Bool: Whether or not debug statements are printed\n",
    "\n",
    "**returns** Plan - list of 'moves' to get from start to goal"
   ]
  },
  {
   "cell_type": "code",
   "execution_count": 12,
   "metadata": {},
   "outputs": [],
   "source": [
    "def forward_planner( start_state, goal, actions, debug=False):\n",
    "    plan, cur_state, iter = [], set(start_state), 0 #init\n",
    "    if set(goal).issubset(start_state): #check goal\n",
    "        return plan\n",
    "    while True and iter < 100: \n",
    "        poss_actions = []\n",
    "        for action in actions: \n",
    "            if do_action(cur_state, actions[action]): \n",
    "                poss_actions.append(action)\n",
    "        return None if not poss_actions else None\n",
    "        for perm in itertools.permutations(cur_state): # create permutations of state\n",
    "            next_action = poss_actions[0]\n",
    "            print('Next action: ', next_action) if debug else None\n",
    "            plan.append(next_action)\n",
    "            cur_state = do_action(perm, actions[next_action])\n",
    "            if set(goal).issubset(cur_state): \n",
    "                return plan\n",
    "            iter+=1\n",
    "            forward_planner(cur_state, goal, actions) #recursive call\n",
    "    return plan"
   ]
  },
  {
   "cell_type": "code",
   "execution_count": 13,
   "metadata": {},
   "outputs": [
    {
     "name": "stdout",
     "output_type": "stream",
     "text": [
      "action:  {'action': '(drive ?agent ?from ?to)', 'conditions': ['(agent ?agent)', '(place ?from)', '(place ?to)', '(at ?agent ?from)'], 'add': ['(at ?agent ?to)'], 'delete': ['(at ?agent ?from)']}\n",
      "state:  {'(place Store)', '(place Bank)', '(at Me Home)', '(agent Me)', '(at Saw Store)', '(at Drill Store)', '(item Drill)', '(place Home)', '(item Saw)'}\n",
      "add el:  (at ?agent ?to)\n",
      "delete el:  (at ?agent ?from)\n",
      "action:  {'action': '(buy ?purchaser ?seller ?item)', 'conditions': ['(item ?item)', '(place ?seller)', '(agent ?purchaser)', '(at ?item ?seller)', '(at ?purchaser ?seller)'], 'add': ['(at ?item ?purchaser)'], 'delete': ['(at ?item ?seller)']}\n",
      "action does not apply\n"
     ]
    }
   ],
   "source": [
    "plan = forward_planner( start_state, goal, actions, True)"
   ]
  },
  {
   "cell_type": "code",
   "execution_count": 14,
   "metadata": {},
   "outputs": [
    {
     "ename": "TypeError",
     "evalue": "'NoneType' object is not iterable",
     "output_type": "error",
     "traceback": [
      "\u001b[0;31m---------------------------------------------------------------------------\u001b[0m",
      "\u001b[0;31mTypeError\u001b[0m                                 Traceback (most recent call last)",
      "Cell \u001b[0;32mIn[14], line 1\u001b[0m\n\u001b[0;32m----> 1\u001b[0m \u001b[38;5;28;43;01mfor\u001b[39;49;00m\u001b[43m \u001b[49m\u001b[43mel\u001b[49m\u001b[43m \u001b[49m\u001b[38;5;129;43;01min\u001b[39;49;00m\u001b[43m \u001b[49m\u001b[43mplan\u001b[49m\u001b[43m:\u001b[49m\n\u001b[1;32m      2\u001b[0m \u001b[43m    \u001b[49m\u001b[38;5;28;43mprint\u001b[39;49m\u001b[43m(\u001b[49m\u001b[43mel\u001b[49m\u001b[43m)\u001b[49m\n",
      "\u001b[0;31mTypeError\u001b[0m: 'NoneType' object is not iterable"
     ]
    }
   ],
   "source": [
    "for el in plan:\n",
    "    print(el)"
   ]
  },
  {
   "cell_type": "markdown",
   "metadata": {},
   "source": [
    "## Before You Submit...\n",
    "\n",
    "1. Did you provide output exactly as requested?\n",
    "2. Did you re-execute the entire notebook? (\"Restart Kernel and Rull All Cells...\")\n",
    "3. If you did not complete the assignment or had difficulty please explain what gave you the most difficulty in the Markdown cell below.\n",
    "4. Did you change the name of the file to `jhed_id.ipynb`?\n",
    "\n",
    "Do not submit any other files."
   ]
  },
  {
   "cell_type": "markdown",
   "metadata": {},
   "source": [
    "## Submission Notes"
   ]
  },
  {
   "cell_type": "markdown",
   "metadata": {},
   "source": [
    "4/7/24: This one was certainly a struggle. I could not figure out how to iterate through various orders of states and preconditions. I spent too much time on that particular problem, and also could not figure out the recursive call to store each potential subsequent state. The messaging around having pseudocode but we shouldn't use it, and we have to figure out modifications... that also confused me and caused quite a bit of churn. I think I was able to figure out the balance of parsing / comparing / unifying strings, but ultimately struggled to build out / store a plan. I'm interested in any and all feedback you're able to provide! "
   ]
  },
  {
   "cell_type": "markdown",
   "metadata": {},
   "source": [
    "## Feedback on Initial Submit\n",
    "- You're on the right track.\n",
    "- The best way to think about the problem is doing a breadth first search. \n",
    "- If you use a dict and list, you can use that to store your parent state and keep searching until you find the goal state.\n",
    "- If the current state isn't a goal state, you just keep trying to transition in the tree.\n",
    "- 5/10 (Revise)"
   ]
  }
 ],
 "metadata": {
  "kernelspec": {
   "display_name": "Python (en605645)",
   "language": "python",
   "name": "en605645"
  },
  "language_info": {
   "codemirror_mode": {
    "name": "ipython",
    "version": 3
   },
   "file_extension": ".py",
   "mimetype": "text/x-python",
   "name": "python",
   "nbconvert_exporter": "python",
   "pygments_lexer": "ipython3",
   "version": "3.11.7"
  },
  "toc": {
   "colors": {
    "hover_highlight": "#DAA520",
    "navigate_num": "#000000",
    "navigate_text": "#333333",
    "running_highlight": "#FF0000",
    "selected_highlight": "#FFD700",
    "sidebar_border": "#EEEEEE",
    "wrapper_background": "#FFFFFF"
   },
   "moveMenuLeft": true,
   "nav_menu": {
    "height": "102px",
    "width": "252px"
   },
   "navigate_menu": true,
   "number_sections": true,
   "sideBar": true,
   "threshold": 4,
   "toc_cell": false,
   "toc_section_display": "block",
   "toc_window_display": false,
   "widenNotebook": false
  }
 },
 "nbformat": 4,
 "nbformat_minor": 4
}
