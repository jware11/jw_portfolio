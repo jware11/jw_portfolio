{
 "cells": [
  {
   "cell_type": "markdown",
   "metadata": {},
   "source": [
    "# Module 2 - Programming Assignment\n",
    "\n",
    "## Directions\n",
    "\n",
    "1. Change the name of this file to be your JHED id as in `jsmith299.ipynb`. Because sure you use your JHED ID (it's made out of your name and not your student id which is just letters and numbers).\n",
    "2. Make sure the notebook you submit is cleanly and fully executed. I do not grade unexecuted notebooks.\n",
    "3. Submit your notebook back in Blackboard where you downloaded this file.\n",
    "\n",
    "*Provide the output **exactly** as requested*"
   ]
  },
  {
   "cell_type": "code",
   "execution_count": 1,
   "metadata": {},
   "outputs": [],
   "source": [
    "from pprint import pprint"
   ]
  },
  {
   "cell_type": "markdown",
   "metadata": {},
   "source": [
    "## Local Search - Genetic Algorithm\n",
    "\n",
    "There are some key ideas in the Genetic Algorithm.\n",
    "\n",
    "First, there is a problem of some kind that either *is* an optimization problem or the solution can be expressed in terms of an optimization problem.\n",
    "For example, if we wanted to minimize the function\n",
    "\n",
    "$$f(x) = \\sum (x_i - 0.5)^2$$\n",
    "\n",
    "where $n = 10$.\n",
    "This *is* an optimization problem. Normally, optimization problems are much, much harder.\n",
    "\n",
    "![Eggholder](http://www.sfu.ca/~ssurjano/egg.png)!\n",
    "\n",
    "The function we wish to optimize is often called the **objective function**.\n",
    "The objective function is closely related to the **fitness** function in the GA.\n",
    "If we have a **maximization** problem, then we can use the objective function directly as a fitness function.\n",
    "If we have a **minimization** problem, then we need to convert the objective function into a suitable fitness function, since fitness functions must always mean \"more is better\".\n",
    "\n",
    "Second, we need to *encode* candidate solutions using an \"alphabet\" analogous to G, A, T, C in DNA.\n",
    "This encoding can be quite abstract.\n",
    "You saw this in the Self Check.\n",
    "There a floating point number was encoded as bits, just as in a computer and a sophisticated decoding scheme was then required.\n",
    "\n",
    "Sometimes, the encoding need not be very complicated at all.\n",
    "For example, in the real-valued GA, discussed in the Lectures, we could represent 2.73 as....2.73.\n",
    "This is similarly true for a string matching problem.\n",
    "We *could* encode \"a\" as \"a\", 97, or '01100001'.\n",
    "And then \"hello\" would be:\n",
    "\n",
    "```\n",
    "[\"h\", \"e\", \"l\", \"l\", \"o\"]\n",
    "```\n",
    "\n",
    "or\n",
    "\n",
    "```\n",
    "[104, 101, 108, 108, 111]\n",
    "```\n",
    "\n",
    "or\n",
    "\n",
    "```\n",
    "0, 1, 1, 0, 1, 0, 0, 0, 0, 1, 1, 0, 0, 1, 0, 1, 0, 1, 1, 0, 1, 1, 0, 0, 0, 1, 1, 0, 1, 1, 0, 0, 0, 1, 1, 0, 1, 1, 1, 1\n",
    "```\n",
    "\n",
    "In Genetics terminology, this is the **chromosome** of the individual. And if this individual had the **phenotype** \"h\" for the first character then they would have the **genotype** for \"h\" (either as \"h\", 104, or 01101000).\n",
    "\n",
    "To keep it straight, think **geno**type is **genes** and **pheno**type is **phenomenon**, the actual thing that the genes express.\n",
    "So while we might encode a number as 10110110 (genotype), the number itself, 182, is what goes into the fitness function.\n",
    "The environment operates on zebras, not the genes for stripes."
   ]
  },
  {
   "cell_type": "markdown",
   "metadata": {},
   "source": [
    "## String Matching\n",
    "\n",
    "You are going to write a Genetic Algorithm that will solve the problem of matching a target string (at least at the start).\n",
    "Now, this is kind of silly because in order for this to work, you need to know the target string and if you know the target string, why are you trying to do it?\n",
    "Well, the problem is *pedagogical*.\n",
    "It's a fun way of visualizing the GA at work, because as the GA finds better and better candidates, they make more and more sense.\n",
    "\n",
    "Now, string matching is not *directly* an optimization problem so this falls under the general category of \"if we convert the problem into an optimization problem we can solve it with an optimization algorithm\" approach to problem solving.\n",
    "This happens all the time.\n",
    "We have a problem.\n",
    "We can't solve it.\n",
    "We convert it to a problem we *can* solve.\n",
    "In this case, we're using the GA to solve the optimization part.\n",
    "\n",
    "And all we need is some sort of measure of the difference between two strings.\n",
    "We can use that measure as a **loss function**.\n",
    "A loss function gives us a score tells us how similar two strings are.\n",
    "The loss function becomes our objective function and we use the GA to minimize it by converting the objective function to a fitness function.\n",
    "So that's the first step, come up with the loss/objective function.\n",
    "The only stipulation is that it must calculate the score based on element to element (character to character) comparisons with no global transformations of the candidate or target strings.\n",
    "\n",
    "And since this is a GA, we need a **genotype**.\n",
    "The genotype for this problem is a list of \"characters\" (individual letters aren't special in Python like they are in some other languages):\n",
    "\n",
    "```\n",
    "[\"h\", \"e\", \"l\", \"l\", \"o\"]\n",
    "```\n",
    "\n",
    "and the **phenotype** is the resulting string:\n",
    "\n",
    "```\n",
    "\"hello\"\n",
    "```\n",
    "\n",
    "In addition to the generic code and problem specific loss function, you'll need to pick parameters for the run.\n",
    "These parameters include:\n",
    "\n",
    "1. population size\n",
    "2. number of generations\n",
    "3. probability of crossover\n",
    "4. probability of mutation\n",
    "\n",
    "You will also need to pick a selection algorithm, either roulette wheel or tournament selection.\n",
    "In the later case, you will need a tournament size.\n",
    "This is all part of the problem.\n",
    "\n",
    "Every **ten** (10) generations, you should print out the fitness, genotype, and phenotype of the best individual in the population for the specific generation.\n",
    "The function should return the best individual *of the entire run*, using the same format."
   ]
  },
  {
   "cell_type": "code",
   "execution_count": 2,
   "metadata": {},
   "outputs": [],
   "source": [
    "ALPHABET = \"abcdefghijklmnopqrstuvwxyz \""
   ]
  },
  {
   "cell_type": "markdown",
   "metadata": {},
   "source": [
    "<a id=\"Helper Functions\"></a>\n",
    "## Helper Functions"
   ]
  },
  {
   "cell_type": "markdown",
   "metadata": {},
   "source": [
    "<a id=\"imports\"></a>\n",
    "### imports"
   ]
  },
  {
   "cell_type": "code",
   "execution_count": 3,
   "metadata": {},
   "outputs": [],
   "source": [
    "from typing import List, Tuple, Dict, Callable\n",
    "import random\n",
    "from numpy.random import randint\n",
    "from numpy.random import rand\n",
    "from copy import deepcopy"
   ]
  },
  {
   "cell_type": "markdown",
   "metadata": {},
   "source": [
    "<a id=\"ENCODER\"></a>\n",
    "### ENCODER\n",
    "\n",
    "`ENCODER` creates a dictionary encoding mechanism using decimal codes for each letter / character in the alphabet. "
   ]
  },
  {
   "cell_type": "code",
   "execution_count": 4,
   "metadata": {},
   "outputs": [],
   "source": [
    "ENCODER = {'a': 97, 'b': 98, 'c': 99, 'd': 100, 'e': 101, 'f': 102, 'g':103, 'h':104, 'i':105, 'j':106, 'k':107, \n",
    "          'l':108, 'm':109, 'n':110, 'o':111, 'p':112, 'q':113, 'r':114, 's':115, 't':116, 'u':117, 'v':118, 'w':119, \n",
    "          'x':120, 'y':121, 'z':122, ' ':32}"
   ]
  },
  {
   "cell_type": "markdown",
   "metadata": {},
   "source": [
    "<a id=\"encode\"></a>\n",
    "### encode\n",
    "\n",
    "`encode` uses an encoding dictionary to encode a target string in decimal values. **Used by**: [generate_population](#generate_population), [evaluate](#evaluate)\n",
    "\n",
    "***Inputs:***\n",
    "* **target**: String: target string - value we're trying to reproduce\n",
    "* **encoder**: Dict[str, int]: Dictionary of encoding scheme, letters > decimal values\n",
    "\n",
    "**returns** genotype: encoded chromosome of target string\n"
   ]
  },
  {
   "cell_type": "code",
   "execution_count": 5,
   "metadata": {},
   "outputs": [],
   "source": [
    "def encode(target: str, encoder: Dict[str, int]): \n",
    "    genotype = []\n",
    "    for char in target: \n",
    "        genotype.append(encoder[char])\n",
    "        \n",
    "    return genotype"
   ]
  },
  {
   "cell_type": "code",
   "execution_count": 6,
   "metadata": {},
   "outputs": [],
   "source": [
    "#Tests / Assertions\n",
    "test_target1 = 'abc'\n",
    "test_genotype = [97, 98, 99]\n",
    "assert encode(test_target1, ENCODER) == test_genotype\n",
    "\n",
    "test_target2 = 'a b c '\n",
    "test_genotype = [97, 32, 98, 32, 99, 32]\n",
    "assert encode(test_target2, ENCODER) == test_genotype\n",
    "\n",
    "test_target3 = 'z a q'\n",
    "test_genotype = [122, 32, 97, 32, 113]\n",
    "assert encode(test_target3, ENCODER) == test_genotype"
   ]
  },
  {
   "cell_type": "markdown",
   "metadata": {},
   "source": [
    "<a id=\"decode\"></a>\n",
    "### decode\n",
    "\n",
    "`decode` takes in a genotype and converts it back to letters in the alphabet. **Used by**: [get_best](#get_best)\n",
    "\n",
    "***Inputs:***\n",
    "* **genotype**: List[int]: encoded value (chromosome) of interest\n",
    "* **encoder**: Dict[str, int]: Dictionary of encoding scheme, letters > decimal values\n",
    "\n",
    "**returns** phenotype: decoded chromosome in letter / alphabet format\n"
   ]
  },
  {
   "cell_type": "code",
   "execution_count": 7,
   "metadata": {},
   "outputs": [],
   "source": [
    "def decode(genotype: List[int], encoder: Dict[str, int]): \n",
    "    phenotype = []\n",
    "    for code in genotype: \n",
    "        phenotype.append(next(key for key, value in encoder.items() if value == code))\n",
    "    # phenotype = ''.join(phenotype)    \n",
    "    return phenotype"
   ]
  },
  {
   "cell_type": "code",
   "execution_count": 8,
   "metadata": {},
   "outputs": [],
   "source": [
    "#Tests / Assertions\n",
    "test_genotype1 = [97, 98, 99]\n",
    "test_phenotype1 = 'abc'\n",
    "assert ''.join(decode(test_genotype1, ENCODER)) == test_phenotype1\n",
    "\n",
    "test_genotype2 = [97, 32, 98, 32, 99, 32]\n",
    "test_phenotype2 = 'a b c '\n",
    "assert ''.join(decode(test_genotype2, ENCODER)) == test_phenotype2\n",
    "\n",
    "test_genotype3 = [122, 32, 97, 32, 113]\n",
    "test_phenotype3 = 'z a q'\n",
    "assert ''.join(decode(test_genotype3, ENCODER)) == test_phenotype3"
   ]
  },
  {
   "cell_type": "markdown",
   "metadata": {},
   "source": [
    "<a id=\"generate_population\"></a>\n",
    "### generate_population\n",
    "\n",
    "`generate_population` creates a randomized population of individuals (chromosomes / genotypes) using size and length parameters, an alphabet, and an encoder dictionary **Used by**: [genetic_algorithm](#genetic_algorithm)\n",
    "\n",
    "***Inputs:***\n",
    "* **pop_size**: Integer: Number of individuals in population\n",
    "* **indiv_length**: Integer: Length of each individual chromosome in the population; this should match the target string length\n",
    "* **alphabet**: String: String of characters used in target string, and phenotypes\n",
    "* **encoder**: Dict[str, int]: Dictionary of encoding scheme, letters > decimal values\n",
    "\n",
    "**returns** population: List[List[int]] of chromosomes in population"
   ]
  },
  {
   "cell_type": "code",
   "execution_count": 9,
   "metadata": {},
   "outputs": [],
   "source": [
    "def generate_population(pop_size: int, indiv_length: int, alphabet: str, encoder: Dict[str, int]): \n",
    "    population = []\n",
    "    for i in range(pop_size): #iterate over population size\n",
    "\n",
    "        random_string = ''.join(random.choice(alphabet) for i in range(indiv_length))\n",
    "        code = encode(random_string, encoder)\n",
    "        population.append(code)\n",
    "    \n",
    "    return population "
   ]
  },
  {
   "cell_type": "code",
   "execution_count": 10,
   "metadata": {},
   "outputs": [],
   "source": [
    "# Tests / Assertions\n",
    "test_pop = generate_population(5, 7, ALPHABET, ENCODER)\n",
    "assert len(test_pop) == 5\n",
    "assert len(test_pop[0]) == 7\n",
    "assert type(test_pop) == list"
   ]
  },
  {
   "cell_type": "markdown",
   "metadata": {},
   "source": [
    "<a id=\"evaluate\"></a>\n",
    "### evaluate\n",
    "\n",
    "`evaluate` takes in a population, compares each individual to a target string on a character to character level, and assigns a fitness score for each individual. **Used by**: [genetic_algorithm](#genetic_algorithm)\n",
    "\n",
    "***Inputs:***\n",
    "* **population**: List[List[int]]: Full population of chromosomes / genotypes\n",
    "* **target**: String: Target string we're trying to reproduce\n",
    "* **encoder**: Dict[str, int]: Dictionary of encoding scheme, letters > decimal values\n",
    "* **method**: String: Evaluation method - linked to Problems 1 - 3: 'default' looks for the closest identical string, 'reverse' looks for the target string reversed, and 'ROT13' looks for the target string encoded with the Caesar Cypher\n",
    "\n",
    "**returns** pop_scores: List[int] of fitness scores for each individual in a population; same size as *population*"
   ]
  },
  {
   "cell_type": "code",
   "execution_count": 11,
   "metadata": {},
   "outputs": [],
   "source": [
    "def evaluate(population: List[List[int]], target: str, encoder: Dict[str, int], method='default'): \n",
    "    genotype = encode(target, encoder) #target\n",
    "    pop_scores = []\n",
    "    for indiv in population: \n",
    "        assert len(indiv) == len(genotype) #double check same length\n",
    "        score = 0 #reset\n",
    "        for i in range(len(indiv)): \n",
    "            if method == 'default': \n",
    "                score += abs(genotype[i] - indiv[i]) #lower score is better\n",
    "            elif method == 'reverse': \n",
    "                score += abs(genotype[(len(genotype)-1-i)] - indiv[i]) #lower score is better\n",
    "            elif method == 'ROT13': \n",
    "                r_index = (genotype[i] - 97 + 13) % 26 + 97\n",
    "                score += abs(r_index - indiv[i]) #lower score is better\n",
    "            else: \n",
    "                print('Evaluation error! Method not acceptable')\n",
    "                return None\n",
    "        pop_scores.append(score)\n",
    "    return pop_scores"
   ]
  },
  {
   "cell_type": "code",
   "execution_count": 12,
   "metadata": {},
   "outputs": [],
   "source": [
    "# Assertions / Tests\n",
    "eval_target = 'abc'\n",
    "eval_pop = [[116, 103, 112], [114, 114, 98], [115, 100, 103]]\n",
    "eval_scores = evaluate(eval_pop, eval_target, ENCODER)\n",
    "assert eval_scores == [37, 34, 24]\n",
    "\n",
    "eval_pop2 = [[97, 98, 99]]\n",
    "eval_scores2 = evaluate(eval_pop2, eval_target, ENCODER)\n",
    "assert eval_scores2 == [0]\n",
    "\n",
    "eval_target = 'cba'\n",
    "eval_pop3 = [[97, 98, 99]]\n",
    "eval_scores3 = evaluate(eval_pop3, eval_target, ENCODER, method='reverse')\n",
    "assert eval_scores3 == [0]"
   ]
  },
  {
   "cell_type": "markdown",
   "metadata": {},
   "source": [
    "<a id=\"pick_parents\"></a>\n",
    "### pick_parents\n",
    "\n",
    "`pick_parents` takes in a population and population scores (from the *evaluate* function), and uses Tournament Selection to select two parents from the population. This function picks 7 random individuals from the population, evaluates each, and selects the one with the best fitness score (lowest evaluation score). This is run twice to select two parents in total. **Used by**: [reproduce](#reproduce)\n",
    "\n",
    "***Inputs:***\n",
    "* **population**: List[List[int]]: Full population of chromosomes / genotypes\n",
    "* **pop_scores**: List[int]: Fitness scores for each individual in population\n",
    "\n",
    "**returns** parents: List[List[int]] two individuals selected from initial population for use in reproduction "
   ]
  },
  {
   "cell_type": "code",
   "execution_count": 13,
   "metadata": {},
   "outputs": [],
   "source": [
    "def pick_parents(population: List[List[int]], pop_scores: List[int]): \n",
    "    assert len(population) == len(pop_scores) #indices line up\n",
    "    assert len(population) >= 6\n",
    "    parents = [] #init\n",
    "    \n",
    "    for iteration in range(2): \n",
    "        indices = []\n",
    "        for i in range(7): indices.append(random.randint(0,len(population)-1)) #pull 7 indices randomly\n",
    "       \n",
    "        subscores, subpop = [], []\n",
    "        for j in indices: \n",
    "            subscores.append(pop_scores[j]) #pull scores for those 7 index vals\n",
    "            subpop.append(population[j]) #pull indiv w/ same index\n",
    "        sub_index = subscores.index(min(subscores)) #min score sub-index\n",
    "        \n",
    "        parents.append(subpop[sub_index]) #add parent individual / genotype\n",
    "    \n",
    "    return parents"
   ]
  },
  {
   "cell_type": "code",
   "execution_count": 14,
   "metadata": {},
   "outputs": [],
   "source": [
    "# Tests / Assertions\n",
    "eval_target = 'abcdefg'\n",
    "test_pop = generate_population(7, 7, ALPHABET, ENCODER)\n",
    "test_scores = evaluate(test_pop, eval_target, ENCODER)\n",
    "# test_pop[test_scores.index(min(test_scores))]\n",
    "parents = pick_parents(test_pop, test_scores)\n",
    "assert len(parents) == 2\n",
    "assert type(parents) == list\n",
    "assert len(parents[0]) == 7"
   ]
  },
  {
   "cell_type": "markdown",
   "metadata": {},
   "source": [
    "<a id=\"crossover\"></a>\n",
    "### crossover\n",
    "\n",
    "`crossover` takes in two parents and a probability of crossover, determines if crossover will happen, then creates two children from the two parents. If crossover does not occur, the parents are returned. **Used by**: [reproduce](#reproduce)\n",
    "\n",
    "***Inputs:***\n",
    "* **parents**: List[List[int]]: Two individuals selected from overall population\n",
    "* **p_cross**: Float: probability of crossover, usually around 0.8\n",
    "\n",
    "**returns** children: List[List[int]] two children resulting from parental crossover"
   ]
  },
  {
   "cell_type": "code",
   "execution_count": 15,
   "metadata": {},
   "outputs": [],
   "source": [
    "def crossover(parents: List[List[int]], p_cross: float): \n",
    "    indiv1, indiv2 = parents[0], parents[1]\n",
    "    child1, child2 = [], [] #init\n",
    "    gene_index = randint(0,len(indiv1))\n",
    "    \n",
    "    if rand() < p_cross: #crossover happens\n",
    "        for i in range(0, gene_index): #build first portion of children\n",
    "            child1.append(indiv1[i])\n",
    "            child2.append(indiv2[i]) \n",
    "        for j in range(gene_index, len(indiv1)): \n",
    "            child1.append(indiv2[j])\n",
    "            child2.append(indiv1[j])\n",
    "    else: #no crossover\n",
    "        return parents\n",
    "        \n",
    "    return [child1, child2]"
   ]
  },
  {
   "cell_type": "code",
   "execution_count": 16,
   "metadata": {},
   "outputs": [],
   "source": [
    "# Tests / Assertions\n",
    "eval_target = 'abcdefg'\n",
    "test_pop = generate_population(7, 7, ALPHABET, ENCODER)\n",
    "test_scores = evaluate(test_pop, eval_target, ENCODER)\n",
    "parents = pick_parents(test_pop, test_scores)\n",
    "children = crossover(parents, 0.8)\n",
    "assert len(children) == 2\n",
    "assert len(children[0]) == len(parents[0])\n",
    "assert type(children) == list\n",
    "# assert children[0][0] == parents[0][0]"
   ]
  },
  {
   "cell_type": "markdown",
   "metadata": {},
   "source": [
    "<a id=\"mutate\"></a>\n",
    "### mutate\n",
    "\n",
    "`mutate` takes in two children and a probability of mutation, determines if mutation will happen, then creates two mutated children from the two original children. If mutation does not occur, the original children are returned. **Used by**: [reproduce](#reproduce)\n",
    "\n",
    "***Inputs:***\n",
    "* **children**: List[List[int]]: Two individual children generated from two selected parents in the overall population\n",
    "* **p_mut**: Float: probability of mutation, usually around 0.05\n",
    "* **encoder**: Dict[str,int]: Dictionary of encoding scheme, letters > decimal values\n",
    "\n",
    "**returns** mutants: List[List[int]] two children resulting from mutation"
   ]
  },
  {
   "cell_type": "code",
   "execution_count": 17,
   "metadata": {},
   "outputs": [],
   "source": [
    "def mutate(children: List[List[int]], p_mut: float, encoder: Dict[str,int]): \n",
    "    mutants = deepcopy(children) \n",
    "    for iter in range(len(children)): \n",
    "        if rand() < p_mut: #mutation occurs\n",
    "            mutation = random.choice(list(encoder.values()))\n",
    "            mut_loc = randint(0, len(children[0]))\n",
    "            mutants[iter][mut_loc] = mutation\n",
    "    return mutants"
   ]
  },
  {
   "cell_type": "code",
   "execution_count": 18,
   "metadata": {},
   "outputs": [],
   "source": [
    "# Tests / Assertions\n",
    "eval_target = 'abcdefg'\n",
    "test_pop = generate_population(7, 7, ALPHABET, ENCODER)\n",
    "test_scores = evaluate(test_pop, eval_target, ENCODER)\n",
    "parents = pick_parents(test_pop, test_scores)\n",
    "children = crossover(parents, 0.8)\n",
    "mutants = mutate(children, 0.05, ENCODER)\n",
    "assert len(mutants) == len(children)\n",
    "assert len(mutants[0]) == len(children[0])\n",
    "assert type(mutants) == list"
   ]
  },
  {
   "cell_type": "markdown",
   "metadata": {},
   "source": [
    "<a id=\"reproduce\"></a>\n",
    "### reproduce\n",
    "\n",
    "`reproduce` takes in a population, population scores, probabilities of crossover and mutation, the alphabet, and a decoder to select parents and reproduce into a new generation. This function repeats the selection / crossover / mutation process until the new population is the same size as the original population. The new population is then returned. **Used by**: [genetic_algorithm](#genetic_algorithm)\n",
    "\n",
    "***Inputs:***\n",
    "* **population**: List[List[int]]: Full population of chromosomes / genotypes\n",
    "* **pop_scores**: List[int]: Fitness scores for each individual in population\n",
    "* **p_cross**: Float: probability of crossover, usually around 0.8\n",
    "* **p_mut**: Float: probability of mutation, usually around 0.05\n",
    "* **alphabet**: String: String of characters used in target string, and phenotypes\n",
    "* **encoder**: Dict[str,int]: Dictionary of encoding scheme, letters > decimal values\n",
    "\n",
    "**returns** new_pop: List[List[int]] new population resulting from parental selection, crossover, and mutation; equal in size to original population"
   ]
  },
  {
   "cell_type": "code",
   "execution_count": 19,
   "metadata": {},
   "outputs": [],
   "source": [
    "def reproduce(population: List[List[int]], pop_scores: List[int], p_cross: float, p_mut: float, \n",
    "              alphabet: str, encoder: Dict[str, int]): \n",
    "    new_pop = []\n",
    "    while len(new_pop) != len(population): \n",
    "        parents = pick_parents(population, pop_scores) #pick parents\n",
    "        children = crossover(parents, p_cross) #crossover\n",
    "        mutants = mutate(children, p_mut, encoder) #mutation\n",
    "        child1, child2 = mutants[0], mutants[1]\n",
    "        new_pop.append(child1)\n",
    "        new_pop.append(child2)\n",
    "    \n",
    "    return new_pop"
   ]
  },
  {
   "cell_type": "code",
   "execution_count": 20,
   "metadata": {},
   "outputs": [],
   "source": [
    "# Tests / Assertions\n",
    "eval_target = 'abcdefg'\n",
    "test_pop = generate_population(10, 7, ALPHABET, ENCODER)\n",
    "test_scores = evaluate(test_pop, eval_target, ENCODER)\n",
    "parents = pick_parents(test_pop, test_scores)\n",
    "children = crossover(parents, 0.8)\n",
    "mutants = mutate(children, 0.05, ENCODER)\n",
    "new_pop = reproduce(test_pop, test_scores, 0.8, 0.05, ALPHABET, ENCODER)\n",
    "new_scores = evaluate(new_pop, eval_target, ENCODER)\n",
    "assert len(new_pop) == len(test_pop)\n",
    "assert len(new_pop[0]) == len(test_pop[0])\n",
    "assert min(new_scores) <= min(test_scores) #new pop is better"
   ]
  },
  {
   "cell_type": "markdown",
   "metadata": {},
   "source": [
    "<a id=\"get_best\"></a>\n",
    "### get_best\n",
    "\n",
    "`get_best` takes in a population, population scores, and an encoder dictionary to find the best individual in the given population. The function finds the best (minimum) fitness score, and uses that index to identify the associated genotype. This value is then decoded using the encoder dictionary. This best individual is stored in a custom dictionary, then returned. **Used by**: [genetic_algorithm](#genetic_algorithm)\n",
    "\n",
    "***Inputs:***\n",
    "* **population**: List[List[int]]: Full population of chromosomes / genotypes\n",
    "* **pop_scores**: List[int]: Fitness scores for each individual in population\n",
    "* **encoder**: Dict[str,int]: Dictionary of encoding scheme, letters > decimal values\n",
    "\n",
    "**returns** best_indiv: Dictionary of best individual genotype, phenotype, and fitness score from a given population."
   ]
  },
  {
   "cell_type": "code",
   "execution_count": 21,
   "metadata": {},
   "outputs": [],
   "source": [
    "def get_best(population: List[List[int]], pop_scores: List[int], encoder: Dict[str,int]): \n",
    "    best_index = pop_scores.index(min(pop_scores))\n",
    "    genotype = population[best_index] #best individual\n",
    "    phenotype = decode(genotype, encoder)\n",
    "    fitness = pop_scores[best_index]\n",
    "    phenotype_f = ''.join(phenotype)\n",
    "\n",
    "    best_indiv = {'genotype': genotype, 'phenotype': phenotype, 'fitness': fitness, 'formatted_phenotype': phenotype_f}\n",
    "    return best_indiv"
   ]
  },
  {
   "cell_type": "code",
   "execution_count": 22,
   "metadata": {},
   "outputs": [],
   "source": [
    "# Tests / Assertions\n",
    "eval_target = 'abcdefg'\n",
    "test_pop = generate_population(10, 7, ALPHABET, ENCODER)\n",
    "test_scores = evaluate(test_pop, eval_target, ENCODER)\n",
    "best_indiv = get_best(test_pop, test_scores, ENCODER)\n",
    "assert type(best_indiv) == dict\n",
    "assert best_indiv['fitness'] == min(test_scores)\n",
    "assert best_indiv['phenotype'] == decode(best_indiv['genotype'], ENCODER)"
   ]
  },
  {
   "cell_type": "markdown",
   "metadata": {},
   "source": [
    "<a id=\"ga_print\"></a>\n",
    "### ga_print\n",
    "\n",
    "`ga_print` takes in a generation number and best individual in a population, decomposes this dictionary, and prints out the requested output. This is called for every 10th generation in *genetic_algorithm*. **Used by**: [genetic_algorithm](#genetic_algorithm)\n",
    "\n",
    "***Inputs:***\n",
    "* **generation**: Integer: generation number within genetic_algorithm loop\n",
    "* **best_indiv**: Dictionary: Best individual from given generation & population; includes genotype, phenotype, and fitness score.\n",
    "\n",
    "**returns** None: print statements"
   ]
  },
  {
   "cell_type": "code",
   "execution_count": 23,
   "metadata": {},
   "outputs": [],
   "source": [
    "def ga_print(generation: int, best_indiv: Dict):\n",
    "    genotype = best_indiv['genotype']\n",
    "    phenotype = best_indiv['phenotype']\n",
    "    fitness = best_indiv['fitness']\n",
    "    print('Gen: ', generation, ' || Phenotype: ', ''.join(phenotype), ' || Genotype: ', genotype, ' || Fitness: ', fitness)\n",
    "    return None"
   ]
  },
  {
   "cell_type": "code",
   "execution_count": 24,
   "metadata": {},
   "outputs": [
    {
     "name": "stdout",
     "output_type": "stream",
     "text": [
      "Gen:  10  || Phenotype:  ikjiqhj  || Genotype:  [105, 107, 106, 105, 113, 104, 106]  || Fitness:  46\n"
     ]
    }
   ],
   "source": [
    "# Tests / Assertions\n",
    "eval_target = 'abcdefg'\n",
    "test_pop = generate_population(10, 7, ALPHABET, ENCODER)\n",
    "test_scores = evaluate(test_pop, eval_target, ENCODER)\n",
    "best_indiv = get_best(test_pop, test_scores, ENCODER)\n",
    "ga_print(10, best_indiv)"
   ]
  },
  {
   "cell_type": "markdown",
   "metadata": {},
   "source": [
    "<div style=\"background: #4682b4\">\n",
    "    \n",
    "***JW Note: Given this is a simple print function, no additional unit tests / assertions are necessary***"
   ]
  },
  {
   "cell_type": "markdown",
   "metadata": {},
   "source": [
    "<a id=\"genetic_algorithm\"></a>\n",
    "### genetic_algorithm\n",
    "\n",
    "`genetic_algorithm` is the main driver function for the genetic algorithm logic. This function calls individual helper functions to create a population, pick parents, reproduce into a new generation, and continue to loop until a generation limit is met. Every 10th generation calls the *ga_print* function to output the best individual's genotype, phenotype, and fitness score. \n",
    "\n",
    "***Inputs:***\n",
    "* **target**: String: set of letters we're trying to replicate\n",
    "* **pop_size**: Integer: Desired number of individuals in a population\n",
    "* **num_gens**: Integer: Iteration limit for algorithm, Number of total generations\n",
    "* **p_cross**: Float: probability of crossover, usually around 0.8\n",
    "* **p_mut**: Float: probability of mutation, usually around 0.05\n",
    "* **alphabet**: String: String of characters used in target string, and phenotypes\n",
    "* **encoder**: Dict[str,int]: Dictionary of encoding scheme, letters > decimal values\n",
    "\n",
    "**returns** best_overall: best individual throughout all generations"
   ]
  },
  {
   "cell_type": "code",
   "execution_count": 25,
   "metadata": {},
   "outputs": [],
   "source": [
    "def genetic_algorithm(target: str, pop_size: int, num_gens: int, p_cross: float, p_mut: float, alphabet: str, \n",
    "                     encoder: Dict[str, int], method='default'):\n",
    "    population = generate_population(pop_size, len(target), alphabet, encoder) #init\n",
    "    for gen in range(num_gens): \n",
    "        pop_scores = evaluate(population, target, encoder, method) #evaluate\n",
    "        best_indiv = get_best(population, pop_scores, encoder) #check best\n",
    "        if (gen == 0) or (best_indiv['fitness'] <= best_overall['fitness']): #first run\n",
    "            best_overall = best_indiv\n",
    "        \n",
    "        if best_overall['fitness'] == 0: # stop & return\n",
    "            print('Solution reached! Generation: ', gen, ' Best: ')\n",
    "            ga_print(gen, best_overall)\n",
    "            return best_overall\n",
    "        \n",
    "        if gen % 10 == 0: #call print\n",
    "            ga_print(gen, best_indiv)\n",
    "        \n",
    "        population = reproduce(population, pop_scores, p_cross, p_mut, alphabet, encoder)\n",
    "    return best_overall # return the best individual of the entire run."
   ]
  },
  {
   "cell_type": "markdown",
   "metadata": {},
   "source": [
    "<div style=\"background: #4682b4\">\n",
    "    \n",
    "***JW Note: No assertions necessary for main function; follow-on Problems will prove out function***"
   ]
  },
  {
   "cell_type": "markdown",
   "metadata": {},
   "source": [
    "## Problem 1\n",
    "\n",
    "The target is the string \"this is so much fun\".\n",
    "The challenge, aside from implementing the basic algorithm, is deriving a fitness function based on \"b\" - \"p\" (for example).\n",
    "The fitness function should come up with a fitness score based on element to element comparisons between target v. phenotype."
   ]
  },
  {
   "cell_type": "code",
   "execution_count": 26,
   "metadata": {},
   "outputs": [],
   "source": [
    "target1 = \"this is so much fun\""
   ]
  },
  {
   "cell_type": "code",
   "execution_count": 27,
   "metadata": {},
   "outputs": [],
   "source": [
    "pop_size = 100\n",
    "num_gens = 1000\n",
    "p_cross = 0.8\n",
    "p_mut = 0.05"
   ]
  },
  {
   "cell_type": "code",
   "execution_count": 28,
   "metadata": {},
   "outputs": [
    {
     "name": "stdout",
     "output_type": "stream",
     "text": [
      "Gen:  0  || Phenotype:  lwbiyiv fvjxkzm ghi  || Genotype:  [108, 119, 98, 105, 121, 105, 118, 32, 102, 118, 106, 120, 107, 122, 109, 32, 103, 104, 105]  || Fitness:  294\n",
      "Gen:  10  || Phenotype:  shgl gn qn kyap btl  || Genotype:  [115, 104, 103, 108, 32, 103, 110, 32, 113, 110, 32, 107, 121, 97, 112, 32, 98, 116, 108]  || Fitness:  43\n",
      "Gen:  20  || Phenotype:  shhv gt qn luab ctl  || Genotype:  [115, 104, 104, 118, 32, 103, 116, 32, 113, 110, 32, 108, 117, 97, 98, 32, 99, 116, 108]  || Fitness:  26\n",
      "Gen:  30  || Phenotype:  shhv gt qn lucf ctn  || Genotype:  [115, 104, 104, 118, 32, 103, 116, 32, 113, 110, 32, 108, 117, 99, 102, 32, 99, 116, 110]  || Fitness:  18\n",
      "Gen:  40  || Phenotype:  shhv gt qn luch ctn  || Genotype:  [115, 104, 104, 118, 32, 103, 116, 32, 113, 110, 32, 108, 117, 99, 104, 32, 99, 116, 110]  || Fitness:  16\n",
      "Gen:  50  || Phenotype:  shhv gt tn luch ftn  || Genotype:  [115, 104, 104, 118, 32, 103, 116, 32, 116, 110, 32, 108, 117, 99, 104, 32, 102, 116, 110]  || Fitness:  12\n",
      "Gen:  60  || Phenotype:  shhu jt sn luch ftn  || Genotype:  [115, 104, 104, 117, 32, 106, 116, 32, 115, 110, 32, 108, 117, 99, 104, 32, 102, 116, 110]  || Fitness:  9\n",
      "Gen:  70  || Phenotype:  shhu jt sn luch ftn  || Genotype:  [115, 104, 104, 117, 32, 106, 116, 32, 115, 110, 32, 108, 117, 99, 104, 32, 102, 116, 110]  || Fitness:  9\n",
      "Gen:  80  || Phenotype:  thhu jt sn luch ftn  || Genotype:  [116, 104, 104, 117, 32, 106, 116, 32, 115, 110, 32, 108, 117, 99, 104, 32, 102, 116, 110]  || Fitness:  8\n",
      "Gen:  90  || Phenotype:  thhu jt sn much ftn  || Genotype:  [116, 104, 104, 117, 32, 106, 116, 32, 115, 110, 32, 109, 117, 99, 104, 32, 102, 116, 110]  || Fitness:  7\n",
      "Gen:  100  || Phenotype:  thhu jt sn much ftn  || Genotype:  [116, 104, 104, 117, 32, 106, 116, 32, 115, 110, 32, 109, 117, 99, 104, 32, 102, 116, 110]  || Fitness:  7\n",
      "Gen:  110  || Phenotype:  thhu it sn much ftn  || Genotype:  [116, 104, 104, 117, 32, 105, 116, 32, 115, 110, 32, 109, 117, 99, 104, 32, 102, 116, 110]  || Fitness:  6\n",
      "Gen:  120  || Phenotype:  thhr it sn much ftn  || Genotype:  [116, 104, 104, 114, 32, 105, 116, 32, 115, 110, 32, 109, 117, 99, 104, 32, 102, 116, 110]  || Fitness:  5\n",
      "Gen:  130  || Phenotype:  thhr it sn much ftn  || Genotype:  [116, 104, 104, 114, 32, 105, 116, 32, 115, 110, 32, 109, 117, 99, 104, 32, 102, 116, 110]  || Fitness:  5\n",
      "Gen:  140  || Phenotype:  thhr it sn much ftn  || Genotype:  [116, 104, 104, 114, 32, 105, 116, 32, 115, 110, 32, 109, 117, 99, 104, 32, 102, 116, 110]  || Fitness:  5\n",
      "Gen:  150  || Phenotype:  thir it sn much ftn  || Genotype:  [116, 104, 105, 114, 32, 105, 116, 32, 115, 110, 32, 109, 117, 99, 104, 32, 102, 116, 110]  || Fitness:  4\n",
      "Gen:  160  || Phenotype:  thir it sn much ftn  || Genotype:  [116, 104, 105, 114, 32, 105, 116, 32, 115, 110, 32, 109, 117, 99, 104, 32, 102, 116, 110]  || Fitness:  4\n",
      "Gen:  170  || Phenotype:  thir it sn much ftn  || Genotype:  [116, 104, 105, 114, 32, 105, 116, 32, 115, 110, 32, 109, 117, 99, 104, 32, 102, 116, 110]  || Fitness:  4\n",
      "Gen:  180  || Phenotype:  thir it sn much ftn  || Genotype:  [116, 104, 105, 114, 32, 105, 116, 32, 115, 110, 32, 109, 117, 99, 104, 32, 102, 116, 110]  || Fitness:  4\n",
      "Gen:  190  || Phenotype:  thir it sn much fun  || Genotype:  [116, 104, 105, 114, 32, 105, 116, 32, 115, 110, 32, 109, 117, 99, 104, 32, 102, 117, 110]  || Fitness:  3\n",
      "Gen:  200  || Phenotype:  thir it so much fun  || Genotype:  [116, 104, 105, 114, 32, 105, 116, 32, 115, 111, 32, 109, 117, 99, 104, 32, 102, 117, 110]  || Fitness:  2\n",
      "Gen:  210  || Phenotype:  thir it so much fun  || Genotype:  [116, 104, 105, 114, 32, 105, 116, 32, 115, 111, 32, 109, 117, 99, 104, 32, 102, 117, 110]  || Fitness:  2\n",
      "Gen:  220  || Phenotype:  thir it so much fun  || Genotype:  [116, 104, 105, 114, 32, 105, 116, 32, 115, 111, 32, 109, 117, 99, 104, 32, 102, 117, 110]  || Fitness:  2\n",
      "Gen:  230  || Phenotype:  thir it so much fun  || Genotype:  [116, 104, 105, 114, 32, 105, 116, 32, 115, 111, 32, 109, 117, 99, 104, 32, 102, 117, 110]  || Fitness:  2\n",
      "Gen:  240  || Phenotype:  this it so much fun  || Genotype:  [116, 104, 105, 115, 32, 105, 116, 32, 115, 111, 32, 109, 117, 99, 104, 32, 102, 117, 110]  || Fitness:  1\n",
      "Gen:  250  || Phenotype:  this it so much fun  || Genotype:  [116, 104, 105, 115, 32, 105, 116, 32, 115, 111, 32, 109, 117, 99, 104, 32, 102, 117, 110]  || Fitness:  1\n",
      "Gen:  260  || Phenotype:  this it so much fun  || Genotype:  [116, 104, 105, 115, 32, 105, 116, 32, 115, 111, 32, 109, 117, 99, 104, 32, 102, 117, 110]  || Fitness:  1\n",
      "Gen:  270  || Phenotype:  this it so much fun  || Genotype:  [116, 104, 105, 115, 32, 105, 116, 32, 115, 111, 32, 109, 117, 99, 104, 32, 102, 117, 110]  || Fitness:  1\n",
      "Gen:  280  || Phenotype:  this it so much fun  || Genotype:  [116, 104, 105, 115, 32, 105, 116, 32, 115, 111, 32, 109, 117, 99, 104, 32, 102, 117, 110]  || Fitness:  1\n",
      "Gen:  290  || Phenotype:  this it so much fun  || Genotype:  [116, 104, 105, 115, 32, 105, 116, 32, 115, 111, 32, 109, 117, 99, 104, 32, 102, 117, 110]  || Fitness:  1\n",
      "Gen:  300  || Phenotype:  this it so much fun  || Genotype:  [116, 104, 105, 115, 32, 105, 116, 32, 115, 111, 32, 109, 117, 99, 104, 32, 102, 117, 110]  || Fitness:  1\n",
      "Gen:  310  || Phenotype:  this it so much fun  || Genotype:  [116, 104, 105, 115, 32, 105, 116, 32, 115, 111, 32, 109, 117, 99, 104, 32, 102, 117, 110]  || Fitness:  1\n",
      "Gen:  320  || Phenotype:  this it so much fun  || Genotype:  [116, 104, 105, 115, 32, 105, 116, 32, 115, 111, 32, 109, 117, 99, 104, 32, 102, 117, 110]  || Fitness:  1\n",
      "Gen:  330  || Phenotype:  this it so much fun  || Genotype:  [116, 104, 105, 115, 32, 105, 116, 32, 115, 111, 32, 109, 117, 99, 104, 32, 102, 117, 110]  || Fitness:  1\n",
      "Gen:  340  || Phenotype:  this it so much fun  || Genotype:  [116, 104, 105, 115, 32, 105, 116, 32, 115, 111, 32, 109, 117, 99, 104, 32, 102, 117, 110]  || Fitness:  1\n",
      "Gen:  350  || Phenotype:  this it so much fun  || Genotype:  [116, 104, 105, 115, 32, 105, 116, 32, 115, 111, 32, 109, 117, 99, 104, 32, 102, 117, 110]  || Fitness:  1\n",
      "Gen:  360  || Phenotype:  this it so much fun  || Genotype:  [116, 104, 105, 115, 32, 105, 116, 32, 115, 111, 32, 109, 117, 99, 104, 32, 102, 117, 110]  || Fitness:  1\n",
      "Gen:  370  || Phenotype:  this it so much fun  || Genotype:  [116, 104, 105, 115, 32, 105, 116, 32, 115, 111, 32, 109, 117, 99, 104, 32, 102, 117, 110]  || Fitness:  1\n",
      "Gen:  380  || Phenotype:  this it so much fun  || Genotype:  [116, 104, 105, 115, 32, 105, 116, 32, 115, 111, 32, 109, 117, 99, 104, 32, 102, 117, 110]  || Fitness:  1\n",
      "Gen:  390  || Phenotype:  this it so much fun  || Genotype:  [116, 104, 105, 115, 32, 105, 116, 32, 115, 111, 32, 109, 117, 99, 104, 32, 102, 117, 110]  || Fitness:  1\n",
      "Gen:  400  || Phenotype:  this it so much fun  || Genotype:  [116, 104, 105, 115, 32, 105, 116, 32, 115, 111, 32, 109, 117, 99, 104, 32, 102, 117, 110]  || Fitness:  1\n",
      "Gen:  410  || Phenotype:  this it so much fun  || Genotype:  [116, 104, 105, 115, 32, 105, 116, 32, 115, 111, 32, 109, 117, 99, 104, 32, 102, 117, 110]  || Fitness:  1\n",
      "Gen:  420  || Phenotype:  this it so much fun  || Genotype:  [116, 104, 105, 115, 32, 105, 116, 32, 115, 111, 32, 109, 117, 99, 104, 32, 102, 117, 110]  || Fitness:  1\n",
      "Gen:  430  || Phenotype:  this it so much fun  || Genotype:  [116, 104, 105, 115, 32, 105, 116, 32, 115, 111, 32, 109, 117, 99, 104, 32, 102, 117, 110]  || Fitness:  1\n",
      "Gen:  440  || Phenotype:  this it so much fun  || Genotype:  [116, 104, 105, 115, 32, 105, 116, 32, 115, 111, 32, 109, 117, 99, 104, 32, 102, 117, 110]  || Fitness:  1\n",
      "Gen:  450  || Phenotype:  this it so much fun  || Genotype:  [116, 104, 105, 115, 32, 105, 116, 32, 115, 111, 32, 109, 117, 99, 104, 32, 102, 117, 110]  || Fitness:  1\n",
      "Gen:  460  || Phenotype:  this it so much fun  || Genotype:  [116, 104, 105, 115, 32, 105, 116, 32, 115, 111, 32, 109, 117, 99, 104, 32, 102, 117, 110]  || Fitness:  1\n",
      "Gen:  470  || Phenotype:  this it so much fun  || Genotype:  [116, 104, 105, 115, 32, 105, 116, 32, 115, 111, 32, 109, 117, 99, 104, 32, 102, 117, 110]  || Fitness:  1\n",
      "Gen:  480  || Phenotype:  this it so much fun  || Genotype:  [116, 104, 105, 115, 32, 105, 116, 32, 115, 111, 32, 109, 117, 99, 104, 32, 102, 117, 110]  || Fitness:  1\n",
      "Gen:  490  || Phenotype:  this it so much fun  || Genotype:  [116, 104, 105, 115, 32, 105, 116, 32, 115, 111, 32, 109, 117, 99, 104, 32, 102, 117, 110]  || Fitness:  1\n",
      "Gen:  500  || Phenotype:  this it so much fun  || Genotype:  [116, 104, 105, 115, 32, 105, 116, 32, 115, 111, 32, 109, 117, 99, 104, 32, 102, 117, 110]  || Fitness:  1\n",
      "Gen:  510  || Phenotype:  this it so much fun  || Genotype:  [116, 104, 105, 115, 32, 105, 116, 32, 115, 111, 32, 109, 117, 99, 104, 32, 102, 117, 110]  || Fitness:  1\n",
      "Solution reached! Generation:  518  Best: \n",
      "Gen:  518  || Phenotype:  this is so much fun  || Genotype:  [116, 104, 105, 115, 32, 105, 115, 32, 115, 111, 32, 109, 117, 99, 104, 32, 102, 117, 110]  || Fitness:  0\n"
     ]
    }
   ],
   "source": [
    "result1 = genetic_algorithm(target1, pop_size, num_gens, p_cross, p_mut, ALPHABET, ENCODER) # do what you need to do for your implementation but don't change the lines above or below."
   ]
  },
  {
   "cell_type": "code",
   "execution_count": 29,
   "metadata": {},
   "outputs": [
    {
     "name": "stdout",
     "output_type": "stream",
     "text": [
      "{'fitness': 0,\n",
      " 'formatted_phenotype': 'this is so much fun',\n",
      " 'genotype': [116, 104, 105, 115, 32, 105, 115, 32, 115, 111, 32, 109, 117, 99,\n",
      "              104, 32, 102, 117, 110],\n",
      " 'phenotype': ['t', 'h', 'i', 's', ' ', 'i', 's', ' ', 's', 'o', ' ', 'm', 'u',\n",
      "               'c', 'h', ' ', 'f', 'u', 'n']}\n"
     ]
    }
   ],
   "source": [
    "pprint(result1, compact=True)"
   ]
  },
  {
   "cell_type": "markdown",
   "metadata": {},
   "source": [
    "## Problem 2\n",
    "\n",
    "You should have working code now.\n",
    "The goal here is to think a bit more about fitness functions.\n",
    "The target string is now, 'nuf hcum os si siht'.\n",
    "This is obviously target #1 but reversed.\n",
    "If we just wanted to match the string, this would be trivial.\n",
    "Instead, this problem, we want to \"decode\" the string so that the best individual displays the target forwards.\n",
    "In order to do this, you'll need to come up with a fitness function that measures how successful candidates are towards this goal.\n",
    "The constraint is that you may not perform any global operations on the target or individuals.\n",
    "Your fitness function must still compare a single gene against a single gene.\n",
    "Your solution will likely not be Pythonic but use indexing.\n",
    "That's ok.\n",
    "<div style=\"background: lemonchiffon; margin:20px; padding: 20px;\">\n",
    "    <strong>Important</strong>\n",
    "    <p>\n",
    "        You may not reverse an entire string (either target or candidate) at any time.\n",
    "        Everything must be a computation of one gene against one gene (one letter against one letter).\n",
    "        Failure to follow these directions will result in 0 points for the problem.\n",
    "    </p>\n",
    "</div>\n",
    "\n",
    "The best individual in the population is the one who expresses this string *forwards*."
   ]
  },
  {
   "cell_type": "code",
   "execution_count": 30,
   "metadata": {},
   "outputs": [],
   "source": [
    "target2 = \"nuf hcum os si siht\""
   ]
  },
  {
   "cell_type": "code",
   "execution_count": 31,
   "metadata": {},
   "outputs": [],
   "source": [
    "pop_size = 100\n",
    "num_gens = 1000\n",
    "p_cross = 0.8\n",
    "p_mut = 0.05"
   ]
  },
  {
   "cell_type": "code",
   "execution_count": 32,
   "metadata": {},
   "outputs": [
    {
     "name": "stdout",
     "output_type": "stream",
     "text": [
      "Gen:  0  || Phenotype:  sbaa vqczkadyhgopti  || Genotype:  [115, 98, 97, 97, 32, 118, 113, 99, 122, 107, 97, 100, 121, 104, 103, 111, 112, 116, 105]  || Fitness:  305\n",
      "Gen:  10  || Phenotype:  yeez nn xm osbf msz  || Genotype:  [121, 101, 101, 122, 32, 110, 110, 32, 120, 109, 32, 111, 115, 98, 102, 32, 109, 115, 122]  || Fitness:  64\n",
      "Gen:  20  || Phenotype:  ueiz nn xm osbf dsi  || Genotype:  [117, 101, 105, 122, 32, 110, 110, 32, 120, 109, 32, 111, 115, 98, 102, 32, 100, 115, 105]  || Fitness:  44\n",
      "Gen:  30  || Phenotype:  ueiz nn vm osbf dsi  || Genotype:  [117, 101, 105, 122, 32, 110, 110, 32, 118, 109, 32, 111, 115, 98, 102, 32, 100, 115, 105]  || Fitness:  42\n",
      "Gen:  40  || Phenotype:  ueiz jn vm osbf esj  || Genotype:  [117, 101, 105, 122, 32, 106, 110, 32, 118, 109, 32, 111, 115, 98, 102, 32, 101, 115, 106]  || Fitness:  36\n",
      "Gen:  50  || Phenotype:  ueiz jn qm osbf eso  || Genotype:  [117, 101, 105, 122, 32, 106, 110, 32, 113, 109, 32, 111, 115, 98, 102, 32, 101, 115, 111]  || Fitness:  32\n",
      "Gen:  60  || Phenotype:  uhiu jn qm oscf euo  || Genotype:  [117, 104, 105, 117, 32, 106, 110, 32, 113, 109, 32, 111, 115, 99, 102, 32, 101, 117, 111]  || Fitness:  21\n",
      "Gen:  70  || Phenotype:  uhiu is qm oscf eun  || Genotype:  [117, 104, 105, 117, 32, 105, 115, 32, 113, 109, 32, 111, 115, 99, 102, 32, 101, 117, 110]  || Fitness:  14\n",
      "Gen:  80  || Phenotype:  uhiu is qm mscf eun  || Genotype:  [117, 104, 105, 117, 32, 105, 115, 32, 113, 109, 32, 109, 115, 99, 102, 32, 101, 117, 110]  || Fitness:  12\n",
      "Gen:  90  || Phenotype:  uhis is qm mscf eun  || Genotype:  [117, 104, 105, 115, 32, 105, 115, 32, 113, 109, 32, 109, 115, 99, 102, 32, 101, 117, 110]  || Fitness:  10\n",
      "Gen:  100  || Phenotype:  uhis is sn mscf eun  || Genotype:  [117, 104, 105, 115, 32, 105, 115, 32, 115, 110, 32, 109, 115, 99, 102, 32, 101, 117, 110]  || Fitness:  7\n",
      "Gen:  110  || Phenotype:  uhis is sn mvcf eun  || Genotype:  [117, 104, 105, 115, 32, 105, 115, 32, 115, 110, 32, 109, 118, 99, 102, 32, 101, 117, 110]  || Fitness:  6\n",
      "Gen:  120  || Phenotype:  uhis is sn much eun  || Genotype:  [117, 104, 105, 115, 32, 105, 115, 32, 115, 110, 32, 109, 117, 99, 104, 32, 101, 117, 110]  || Fitness:  3\n",
      "Gen:  130  || Phenotype:  uhis is so much eun  || Genotype:  [117, 104, 105, 115, 32, 105, 115, 32, 115, 111, 32, 109, 117, 99, 104, 32, 101, 117, 110]  || Fitness:  2\n",
      "Gen:  140  || Phenotype:  uhis is so much eun  || Genotype:  [117, 104, 105, 115, 32, 105, 115, 32, 115, 111, 32, 109, 117, 99, 104, 32, 101, 117, 110]  || Fitness:  2\n",
      "Gen:  150  || Phenotype:  uhis is so much eun  || Genotype:  [117, 104, 105, 115, 32, 105, 115, 32, 115, 111, 32, 109, 117, 99, 104, 32, 101, 117, 110]  || Fitness:  2\n",
      "Gen:  160  || Phenotype:  uhis is so much eun  || Genotype:  [117, 104, 105, 115, 32, 105, 115, 32, 115, 111, 32, 109, 117, 99, 104, 32, 101, 117, 110]  || Fitness:  2\n",
      "Gen:  170  || Phenotype:  uhis is so much eun  || Genotype:  [117, 104, 105, 115, 32, 105, 115, 32, 115, 111, 32, 109, 117, 99, 104, 32, 101, 117, 110]  || Fitness:  2\n",
      "Gen:  180  || Phenotype:  uhis is so much eun  || Genotype:  [117, 104, 105, 115, 32, 105, 115, 32, 115, 111, 32, 109, 117, 99, 104, 32, 101, 117, 110]  || Fitness:  2\n",
      "Gen:  190  || Phenotype:  uhis is so much eun  || Genotype:  [117, 104, 105, 115, 32, 105, 115, 32, 115, 111, 32, 109, 117, 99, 104, 32, 101, 117, 110]  || Fitness:  2\n",
      "Gen:  200  || Phenotype:  uhis is so much eun  || Genotype:  [117, 104, 105, 115, 32, 105, 115, 32, 115, 111, 32, 109, 117, 99, 104, 32, 101, 117, 110]  || Fitness:  2\n",
      "Gen:  210  || Phenotype:  uhis is so much fun  || Genotype:  [117, 104, 105, 115, 32, 105, 115, 32, 115, 111, 32, 109, 117, 99, 104, 32, 102, 117, 110]  || Fitness:  1\n",
      "Solution reached! Generation:  217  Best: \n",
      "Gen:  217  || Phenotype:  this is so much fun  || Genotype:  [116, 104, 105, 115, 32, 105, 115, 32, 115, 111, 32, 109, 117, 99, 104, 32, 102, 117, 110]  || Fitness:  0\n"
     ]
    }
   ],
   "source": [
    "result2 = genetic_algorithm(target2, pop_size, num_gens, p_cross, p_mut, ALPHABET, ENCODER, method='reverse')"
   ]
  },
  {
   "cell_type": "code",
   "execution_count": 33,
   "metadata": {},
   "outputs": [
    {
     "name": "stdout",
     "output_type": "stream",
     "text": [
      "{'fitness': 0,\n",
      " 'formatted_phenotype': 'this is so much fun',\n",
      " 'genotype': [116, 104, 105, 115, 32, 105, 115, 32, 115, 111, 32, 109, 117, 99,\n",
      "              104, 32, 102, 117, 110],\n",
      " 'phenotype': ['t', 'h', 'i', 's', ' ', 'i', 's', ' ', 's', 'o', ' ', 'm', 'u',\n",
      "               'c', 'h', ' ', 'f', 'u', 'n']}\n"
     ]
    }
   ],
   "source": [
    "pprint(result2, compact=True)"
   ]
  },
  {
   "cell_type": "markdown",
   "metadata": {},
   "source": [
    "## Problem 3\n",
    "\n",
    "This is a variation on the theme of Problem 2.\n",
    "The Caeser Cypher replaces each letter of a string with the letter 13 characters down alphabet (rotating from \"z\" back to \"a\" as needed).\n",
    "This is also known as ROT13 (for \"rotate 13\").\n",
    "Latin did not have spaces (and the space is not continguous with the letters a-z) so we'll remove them from our alphabet.\n",
    "Again, the goal is to derive a fitness function that compares a single gene against a single gene, without global transformations.\n",
    "This fitness function assigns higher scores to individuals that correctly decode the target.\n",
    "\n",
    "<div style=\"background: lemonchiffon; margin:20px; padding: 20px;\">\n",
    "    <strong>Important</strong>\n",
    "    <p>\n",
    "        You may not apply ROT13 to an entire string (either target or candidate) at any time.\n",
    "        Everything must be a computation of one gene against one gene.\n",
    "        Failure to follow these directions will result in 0 points for the problem.\n",
    "    </p>\n",
    "</div>\n",
    "\n",
    "The best individual will express the target *decoded*."
   ]
  },
  {
   "cell_type": "code",
   "execution_count": 34,
   "metadata": {},
   "outputs": [],
   "source": [
    "ALPHABET3 = \"abcdefghijklmnopqrstuvwxyz\""
   ]
  },
  {
   "cell_type": "code",
   "execution_count": 35,
   "metadata": {},
   "outputs": [],
   "source": [
    "target3 = \"guvfvffbzhpusha\""
   ]
  },
  {
   "cell_type": "code",
   "execution_count": 36,
   "metadata": {},
   "outputs": [],
   "source": [
    "pop_size = 100\n",
    "num_gens = 1000\n",
    "p_cross = 0.8\n",
    "p_mut = 0.05"
   ]
  },
  {
   "cell_type": "code",
   "execution_count": 37,
   "metadata": {},
   "outputs": [
    {
     "name": "stdout",
     "output_type": "stream",
     "text": [
      "Gen:  0  || Phenotype:  gavtiptmtujfnvf  || Genotype:  [103, 97, 118, 116, 105, 112, 116, 109, 116, 117, 106, 102, 110, 118, 102]  || Fitness:  73\n",
      "Gen:  10  || Phenotype:  thhtiptmrubfhun  || Genotype:  [116, 104, 104, 116, 105, 112, 116, 109, 114, 117, 98, 102, 104, 117, 110]  || Fitness:  18\n",
      "Gen:  20  || Phenotype:  thhtiptmrubfgun  || Genotype:  [116, 104, 104, 116, 105, 112, 116, 109, 114, 117, 98, 102, 103, 117, 110]  || Fitness:  17\n",
      "Gen:  30  || Phenotype:  thhtiptmjubfgun  || Genotype:  [116, 104, 104, 116, 105, 112, 116, 109, 106, 117, 98, 102, 103, 117, 110]  || Fitness:  15\n",
      "Gen:  40  || Phenotype:  thhtiprmlubfgun  || Genotype:  [116, 104, 104, 116, 105, 112, 114, 109, 108, 117, 98, 102, 103, 117, 110]  || Fitness:  13\n",
      "Gen:  50  || Phenotype:  thhtitrmlubfgun  || Genotype:  [116, 104, 104, 116, 105, 116, 114, 109, 108, 117, 98, 102, 103, 117, 110]  || Fitness:  11\n",
      "Gen:  60  || Phenotype:  thhsittolubfgun  || Genotype:  [116, 104, 104, 115, 105, 116, 116, 111, 108, 117, 98, 102, 103, 117, 110]  || Fitness:  8\n",
      "Gen:  70  || Phenotype:  thhsittolucggun  || Genotype:  [116, 104, 104, 115, 105, 116, 116, 111, 108, 117, 99, 103, 103, 117, 110]  || Fitness:  6\n",
      "Gen:  80  || Phenotype:  thhsistolucggun  || Genotype:  [116, 104, 104, 115, 105, 115, 116, 111, 108, 117, 99, 103, 103, 117, 110]  || Fitness:  5\n",
      "Gen:  90  || Phenotype:  thhsistoluchgun  || Genotype:  [116, 104, 104, 115, 105, 115, 116, 111, 108, 117, 99, 104, 103, 117, 110]  || Fitness:  4\n",
      "Gen:  100  || Phenotype:  thhsistoluchgun  || Genotype:  [116, 104, 104, 115, 105, 115, 116, 111, 108, 117, 99, 104, 103, 117, 110]  || Fitness:  4\n",
      "Gen:  110  || Phenotype:  thhsistoluchgun  || Genotype:  [116, 104, 104, 115, 105, 115, 116, 111, 108, 117, 99, 104, 103, 117, 110]  || Fitness:  4\n",
      "Gen:  120  || Phenotype:  thhsistoluchgun  || Genotype:  [116, 104, 104, 115, 105, 115, 116, 111, 108, 117, 99, 104, 103, 117, 110]  || Fitness:  4\n",
      "Gen:  130  || Phenotype:  thhsistoluchgun  || Genotype:  [116, 104, 104, 115, 105, 115, 116, 111, 108, 117, 99, 104, 103, 117, 110]  || Fitness:  4\n",
      "Gen:  140  || Phenotype:  thhsistoluchgun  || Genotype:  [116, 104, 104, 115, 105, 115, 116, 111, 108, 117, 99, 104, 103, 117, 110]  || Fitness:  4\n",
      "Gen:  150  || Phenotype:  thhsistolucheun  || Genotype:  [116, 104, 104, 115, 105, 115, 116, 111, 108, 117, 99, 104, 101, 117, 110]  || Fitness:  4\n",
      "Gen:  160  || Phenotype:  thhsistolucheun  || Genotype:  [116, 104, 104, 115, 105, 115, 116, 111, 108, 117, 99, 104, 101, 117, 110]  || Fitness:  4\n",
      "Gen:  170  || Phenotype:  thhsistolucheun  || Genotype:  [116, 104, 104, 115, 105, 115, 116, 111, 108, 117, 99, 104, 101, 117, 110]  || Fitness:  4\n",
      "Gen:  180  || Phenotype:  thhsistoluchfun  || Genotype:  [116, 104, 104, 115, 105, 115, 116, 111, 108, 117, 99, 104, 102, 117, 110]  || Fitness:  3\n",
      "Gen:  190  || Phenotype:  thhsistoluchfun  || Genotype:  [116, 104, 104, 115, 105, 115, 116, 111, 108, 117, 99, 104, 102, 117, 110]  || Fitness:  3\n",
      "Gen:  200  || Phenotype:  thhsistoluchfun  || Genotype:  [116, 104, 104, 115, 105, 115, 116, 111, 108, 117, 99, 104, 102, 117, 110]  || Fitness:  3\n",
      "Gen:  210  || Phenotype:  thhsistoluchfun  || Genotype:  [116, 104, 104, 115, 105, 115, 116, 111, 108, 117, 99, 104, 102, 117, 110]  || Fitness:  3\n",
      "Gen:  220  || Phenotype:  thhsistoluchfun  || Genotype:  [116, 104, 104, 115, 105, 115, 116, 111, 108, 117, 99, 104, 102, 117, 110]  || Fitness:  3\n",
      "Gen:  230  || Phenotype:  thhsistomuchfun  || Genotype:  [116, 104, 104, 115, 105, 115, 116, 111, 109, 117, 99, 104, 102, 117, 110]  || Fitness:  2\n",
      "Gen:  240  || Phenotype:  thhsistomuchfun  || Genotype:  [116, 104, 104, 115, 105, 115, 116, 111, 109, 117, 99, 104, 102, 117, 110]  || Fitness:  2\n",
      "Gen:  250  || Phenotype:  thhsistomuchfun  || Genotype:  [116, 104, 104, 115, 105, 115, 116, 111, 109, 117, 99, 104, 102, 117, 110]  || Fitness:  2\n",
      "Gen:  260  || Phenotype:  thisistomuchfun  || Genotype:  [116, 104, 105, 115, 105, 115, 116, 111, 109, 117, 99, 104, 102, 117, 110]  || Fitness:  1\n",
      "Gen:  270  || Phenotype:  thisistomuchfun  || Genotype:  [116, 104, 105, 115, 105, 115, 116, 111, 109, 117, 99, 104, 102, 117, 110]  || Fitness:  1\n",
      "Gen:  280  || Phenotype:  thisistomuchfun  || Genotype:  [116, 104, 105, 115, 105, 115, 116, 111, 109, 117, 99, 104, 102, 117, 110]  || Fitness:  1\n",
      "Gen:  290  || Phenotype:  thisistomuchfun  || Genotype:  [116, 104, 105, 115, 105, 115, 116, 111, 109, 117, 99, 104, 102, 117, 110]  || Fitness:  1\n",
      "Gen:  300  || Phenotype:  thisistomuchfun  || Genotype:  [116, 104, 105, 115, 105, 115, 116, 111, 109, 117, 99, 104, 102, 117, 110]  || Fitness:  1\n",
      "Gen:  310  || Phenotype:  thisistomuchfun  || Genotype:  [116, 104, 105, 115, 105, 115, 116, 111, 109, 117, 99, 104, 102, 117, 110]  || Fitness:  1\n",
      "Gen:  320  || Phenotype:  thisistomuchfun  || Genotype:  [116, 104, 105, 115, 105, 115, 116, 111, 109, 117, 99, 104, 102, 117, 110]  || Fitness:  1\n",
      "Gen:  330  || Phenotype:  thisistomuchfun  || Genotype:  [116, 104, 105, 115, 105, 115, 116, 111, 109, 117, 99, 104, 102, 117, 110]  || Fitness:  1\n",
      "Gen:  340  || Phenotype:  thisistomuchfun  || Genotype:  [116, 104, 105, 115, 105, 115, 116, 111, 109, 117, 99, 104, 102, 117, 110]  || Fitness:  1\n",
      "Gen:  350  || Phenotype:  thisistomuchfun  || Genotype:  [116, 104, 105, 115, 105, 115, 116, 111, 109, 117, 99, 104, 102, 117, 110]  || Fitness:  1\n",
      "Gen:  360  || Phenotype:  thisistomuchfun  || Genotype:  [116, 104, 105, 115, 105, 115, 116, 111, 109, 117, 99, 104, 102, 117, 110]  || Fitness:  1\n",
      "Solution reached! Generation:  363  Best: \n",
      "Gen:  363  || Phenotype:  thisissomuchfun  || Genotype:  [116, 104, 105, 115, 105, 115, 115, 111, 109, 117, 99, 104, 102, 117, 110]  || Fitness:  0\n"
     ]
    }
   ],
   "source": [
    "result3 = genetic_algorithm(target3, pop_size, num_gens, p_cross, p_mut, ALPHABET3, ENCODER, method='ROT13')"
   ]
  },
  {
   "cell_type": "code",
   "execution_count": 38,
   "metadata": {},
   "outputs": [
    {
     "name": "stdout",
     "output_type": "stream",
     "text": [
      "{'fitness': 0,\n",
      " 'formatted_phenotype': 'thisissomuchfun',\n",
      " 'genotype': [116, 104, 105, 115, 105, 115, 115, 111, 109, 117, 99, 104, 102,\n",
      "              117, 110],\n",
      " 'phenotype': ['t', 'h', 'i', 's', 'i', 's', 's', 'o', 'm', 'u', 'c', 'h', 'f',\n",
      "               'u', 'n']}\n"
     ]
    }
   ],
   "source": [
    "pprint(result3, compact=True)"
   ]
  },
  {
   "cell_type": "markdown",
   "metadata": {},
   "source": [
    "## Problem 4\n",
    "\n",
    "There is no code for this problem.\n",
    "\n",
    "In Problem 3, we assumed we knew what the shift was in ROT-13.\n",
    "What if we didn't?\n",
    "Describe how you might solve that problem including a description of the solution encoding (chromosome and interpretation) and fitness function. Assume we can add spaces into the message."
   ]
  },
  {
   "cell_type": "markdown",
   "metadata": {},
   "source": [
    "**Answer:** If we assume the letters are still in order and just shifted by a constant value (i.e. 13), and we assume the target value is a readable / logical phrase, we could use a test message and a brute force loop to evaluate the shift. We could create a function to generate an encoding dictionary based on the standard alphabet string and an assumed (variable) offset. This dictionary could be a simple custom numerical encoding (i.e. 1, 2, 3 rather than 32, 97, 98, etc.).  \n",
    "\n",
    "We could run the Genetic Algorithm for ~500 generations in each loop, and loop 27 times (26 letters, one space) each with a different character offset, saving the decoded \"best individual\" from each run. At the end, we'd have a list of 27 individual decoded strings. From here, we can either manually select the index that makes logical sense (i.e. the phrase that is readable), or we could use an imported language model to determine best fit with our list (create secondary fitness function to parse out words, compare to language model). \n",
    "\n",
    "The individual chromosomes and interpretations would be identical in form to the existing implementation, but shifted in values by the constant character offset. The fitness function would still perform a character-to-character evaluation, and the *evaluate* function would still seek to minimize that fitness value within each generation. "
   ]
  },
  {
   "cell_type": "markdown",
   "metadata": {},
   "source": [
    "## Challenge\n",
    "\n",
    "**You do not need to do this problem and it won't be graded if you do. It's just here if you want to push your understanding.**\n",
    "\n",
    "The original GA used binary encodings for everything.\n",
    "We're basically using a Base 27 encoding.\n",
    "You could, however, write a version of the algorithm that uses an 8 bit encoding for each letter (ignore spaces as they're a bit of a bother).\n",
    "That is, a 4 letter candidate looks like this:\n",
    "\n",
    "```\n",
    "0, 1, 1, 0, 1, 0, 0, 0, 0, 1, 1, 0, 0, 1, 0, 1, 0, 1, 1, 0, 1, 1, 0, 0, 0, 1, 1, 0, 1, 1, 0, 0, 0, 1, 1, 0, 1, 1, 1, 1\n",
    "```\n",
    "\n",
    "If you wrote your `genetic_algorithm` code general enough, with higher order functions, you should be able to implement it using bit strings instead of latin strings."
   ]
  },
  {
   "cell_type": "markdown",
   "metadata": {},
   "source": [
    "## Before You Submit...\n",
    "\n",
    "1. Did you provide output exactly as requested?\n",
    "2. Did you re-execute the entire notebook? (\"Restart Kernel and Rull All Cells...\")\n",
    "3. If you did not complete the assignment or had difficulty please explain what gave you the most difficulty in the Markdown cell below.\n",
    "4. Did you change the name of the file to `jhed_id.ipynb`?\n",
    "\n",
    "Do not submit any other files."
   ]
  }
 ],
 "metadata": {
  "kernelspec": {
   "display_name": "Python (en605645)",
   "language": "python",
   "name": "en605645"
  },
  "language_info": {
   "codemirror_mode": {
    "name": "ipython",
    "version": 3
   },
   "file_extension": ".py",
   "mimetype": "text/x-python",
   "name": "python",
   "nbconvert_exporter": "python",
   "pygments_lexer": "ipython3",
   "version": "3.11.7"
  },
  "toc": {
   "colors": {
    "hover_highlight": "#DAA520",
    "navigate_num": "#000000",
    "navigate_text": "#333333",
    "running_highlight": "#FF0000",
    "selected_highlight": "#FFD700",
    "sidebar_border": "#EEEEEE",
    "wrapper_background": "#FFFFFF"
   },
   "moveMenuLeft": true,
   "nav_menu": {
    "height": "120px",
    "width": "252px"
   },
   "navigate_menu": true,
   "number_sections": true,
   "sideBar": true,
   "threshold": 4,
   "toc_cell": false,
   "toc_section_display": "block",
   "toc_window_display": false,
   "widenNotebook": false
  }
 },
 "nbformat": 4,
 "nbformat_minor": 4
}
