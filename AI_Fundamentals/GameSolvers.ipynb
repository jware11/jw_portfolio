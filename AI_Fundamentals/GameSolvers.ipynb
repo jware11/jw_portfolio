{
 "cells": [
  {
   "cell_type": "markdown",
   "metadata": {},
   "source": [
    "# Module 5 - Programming Assignment\n",
    "\n",
    "## Directions\n",
    "\n",
    "1. Change the name of this file to be your JHED id as in `jsmith299.ipynb`. Because sure you use your JHED ID (it's made out of your name and not your student id which is just letters and numbers).\n",
    "2. Make sure the notebook you submit is cleanly and fully executed. I do not grade unexecuted notebooks.\n",
    "3. Submit your notebook back in Blackboard where you downloaded this file.\n",
    "\n",
    "*Provide the output **exactly** as requested*"
   ]
  },
  {
   "cell_type": "markdown",
   "metadata": {},
   "source": [
    "## Solving Normal Form Games"
   ]
  },
  {
   "cell_type": "code",
   "execution_count": 1,
   "metadata": {},
   "outputs": [],
   "source": [
    "from typing import List, Tuple, Dict, Callable"
   ]
  },
  {
   "cell_type": "markdown",
   "metadata": {},
   "source": [
    "In the lecture we talked about the Prisoner's Dilemma game, shown here in Normal Form:\n",
    "\n",
    "Player 1 / Player 2  | Defect | Cooperate\n",
    "------------- | ------------- | -------------\n",
    "Defect  | -5, -5 | -1, -10\n",
    "Cooperate  | -10, -1 | -2, -2\n",
    "\n",
    "where the payoff to Player 1 is the left number and the payoff to Player 2 is the right number. We can represent each payoff cell as a Tuple: `(-5, -5)`, for example. We can represent each row as a List of Tuples: `[(-5, -5), (-1, -10)]` would be the first row and the entire table as a List of Lists:"
   ]
  },
  {
   "cell_type": "code",
   "execution_count": 2,
   "metadata": {},
   "outputs": [
    {
     "data": {
      "text/plain": [
       "[[(-5, -5), (-1, -10)], [(-10, -1), (-2, -2)]]"
      ]
     },
     "execution_count": 2,
     "metadata": {},
     "output_type": "execute_result"
    }
   ],
   "source": [
    "prisoners_dilemma = [\n",
    " [( -5, -5), (-1,-10)],\n",
    " [(-10, -1), (-2, -2)]]\n",
    "\n",
    "prisoners_dilemma"
   ]
  },
  {
   "cell_type": "markdown",
   "metadata": {},
   "source": [
    "in which case the strategies are represented by indices into the List of Lists. For example, `(Defect, Cooperate)` for the above game becomes `prisoners_dilemma[ 0][ 1]` and returns the payoff `(-1, -10)` because 0 is the first row of the table (\"Defect\" for Player 1) and 1 is the 2nd column of the row (\"Cooperate\" for Player 2).\n",
    "\n",
    "For this assignment, you are going write a function that uses Successive Elimination of Dominated Strategies (SEDS) to find the **pure strategy** Nash Equilibrium of a Normal Form Game. The function is called `solve_game`:\n",
    "\n",
    "```python\n",
    "def solve_game( game: List[List[Tuple]], weak=False) -> List[Tuple]:\n",
    "    pass # returns strategy indices of Nash equilibrium or None.\n",
    "```\n",
    "\n",
    "and it takes two parameters: the game, in a format that we described earlier and an optional boolean flag that controls whether the algorithm considers only **strongly dominated strategies** (the default will be false) or whether it should consider **weakly dominated strategies** as well.\n",
    "\n",
    "It should work with game matrices of any size and it will return the **strategy indices** of the Nash Equilibrium. If there is no **pure strategy** equilibrium that can be found using SEDS, return the empty List (`[]`).\n",
    "\n",
    "\n",
    "<div style=\"background: mistyrose; color: firebrick; border: 2px solid darkred; padding: 5px; margin: 10px;\">\n",
    "Do not return the payoff. That's not useful. Return the strategy indices, any other output is incorrect.\n",
    "</div>\n",
    "\n",
    "As before, you must provide your implementation in the space below, one Markdown cell for documentation and one Code cell for implementation, one function and assertations per Codecell.\n",
    "\n",
    "\n",
    "---"
   ]
  },
  {
   "cell_type": "markdown",
   "metadata": {},
   "source": [
    "<a id=\"Helper Functions\"></a>\n",
    "## Helper Functions"
   ]
  },
  {
   "cell_type": "markdown",
   "metadata": {},
   "source": [
    "<a id=\"Imports\"></a>\n",
    "### Imports"
   ]
  },
  {
   "cell_type": "code",
   "execution_count": 3,
   "metadata": {},
   "outputs": [],
   "source": [
    "from itertools import permutations\n",
    "from copy import deepcopy"
   ]
  },
  {
   "cell_type": "markdown",
   "metadata": {},
   "source": [
    "<a id=\"get_cols\"></a>\n",
    "### get_cols\n",
    "\n",
    "`get_cols` takes in a game board, and outputs the columns in list form to be processed in other functions. **Used by**: [get_dominated](#get_dominated)\n",
    "\n",
    "***Inputs:***\n",
    "* **game**: List[List[Tuple]]]: Current game board with each cell in (P1, P2) format\n",
    "\n",
    "**returns** cols: List[List[Tuple]] of all columns in game board"
   ]
  },
  {
   "cell_type": "code",
   "execution_count": 4,
   "metadata": {},
   "outputs": [],
   "source": [
    "def get_cols(game: List[List[Tuple]]): \n",
    "    cols = []\n",
    "    \n",
    "    for j in range(len(game[0])): #each col\n",
    "        col = []    \n",
    "        for i in range(len(game)): #each row\n",
    "            col.append(game[i][j])\n",
    "        cols.append(col)\n",
    "\n",
    "    return cols"
   ]
  },
  {
   "cell_type": "code",
   "execution_count": 5,
   "metadata": {},
   "outputs": [],
   "source": [
    "# Unit Tests\n",
    "test_game = [\n",
    "    [(1, 1), (2, 2)], \n",
    "    [(3, 3), (4, 4)]]\n",
    "assert get_cols(test_game) == [[(1, 1), (3, 3)], [(2, 2), (4, 4)]]\n",
    "test_game = [[(1, 1), (2, 2)]]\n",
    "assert get_cols(test_game) == [[(1, 1)], [(2, 2)]]\n",
    "test_game = [[(1,1)]]\n",
    "assert get_cols(test_game) == [[(1,1)]]"
   ]
  },
  {
   "cell_type": "markdown",
   "metadata": {},
   "source": [
    "<a id=\"get_rows\"></a>\n",
    "### get_rows\n",
    "\n",
    "`get_rows` takes in a game board, and outputs the rows in list form to be processed in other functions. **Used by**: [get_dominated](#get_dominated)\n",
    "\n",
    "***Inputs:***\n",
    "* **game**: List[List[Tuple]]]: Current game board with each cell in (P1, P2) format\n",
    "\n",
    "**returns** rows: List[List[Tuple]] of all rows in game board"
   ]
  },
  {
   "cell_type": "code",
   "execution_count": 6,
   "metadata": {},
   "outputs": [],
   "source": [
    "def get_rows(game: List[List[Tuple]]): \n",
    "    rows = []\n",
    "    for row in game: \n",
    "        rows.append(row)\n",
    "\n",
    "    return rows"
   ]
  },
  {
   "cell_type": "code",
   "execution_count": 7,
   "metadata": {},
   "outputs": [],
   "source": [
    "# Unit Tests / Assertions\n",
    "test_game = [\n",
    "    [(1, 1), (2, 2)], \n",
    "    [(3, 3), (4, 4)]]\n",
    "assert get_rows(test_game) == [[(1, 1), (2, 2)], [(3, 3), (4, 4)]]\n",
    "test_game = [[(1, 1), (2, 2)]]\n",
    "assert get_rows(test_game) == [[(1, 1), (2, 2)]]\n",
    "test_game = [[(1,1)]]\n",
    "assert get_rows(test_game) == [[(1,1)]]"
   ]
  },
  {
   "cell_type": "markdown",
   "metadata": {},
   "source": [
    "<a id=\"get_dominated\"></a>\n",
    "### get_dominated\n",
    "\n",
    "`get_dominated` takes in a game board, and outputs the columns in list form to be processed in other functions. **Used by**: [solve_game](#solve_game)\n",
    "\n",
    "***Inputs:***\n",
    "* **game**: List[List[Tuple]]]: Current game board with each cell in (P1, P2) format\n",
    "* **player**: int: Which player is acting, either 1 or 2\n",
    "* **weak**: bool: Whether or not weakly dominated strategies can be allowed / removed\n",
    "\n",
    "**returns** dominated_list: List[List[Tuple]] of all columns or rows to be deleted"
   ]
  },
  {
   "cell_type": "code",
   "execution_count": 8,
   "metadata": {},
   "outputs": [],
   "source": [
    "def get_dominated(game, player: int, weak:bool=False): \n",
    "    if player == 2: \n",
    "        board = get_cols(game) #player 2 uses columns\n",
    "    else: \n",
    "        board = game\n",
    "    dominated_list, p = [], player-1\n",
    "    for perm in permutations(board, 2): \n",
    "        dominant, one_greater = True, False\n",
    "        len_ind = min(len(game), len(game[0]))\n",
    "        for i in range(len_ind): #assumes square game\n",
    "            if perm[0][i][p] > perm[1][i][p]: #last 0 index for P1\n",
    "                one_greater = True\n",
    "            elif (perm[0][i][p] == perm[1][i][p]) and weak == False: \n",
    "                dominant = False\n",
    "            elif perm[0][i][p] < perm[1][i][p]: #change sign for weak / strong dominated (add equals)\n",
    "                dominant = False\n",
    "        if dominant == True and (perm[1] not in dominated_list) and one_greater == True: \n",
    "            dominated_list.append(perm[1])\n",
    "    return dominated_list"
   ]
  },
  {
   "cell_type": "code",
   "execution_count": 9,
   "metadata": {},
   "outputs": [],
   "source": [
    "# Unit Tests / Assertions\n",
    "test_game = [\n",
    "    [(1, 1), (2, 2)], \n",
    "    [(3, 3), (4, 4)]]\n",
    "assert get_dominated(test_game, 1) == [[(1, 1), (2, 2)]]\n",
    "assert get_dominated(test_game, 1, True) == [[(1, 1), (2, 2)]]\n",
    "assert get_dominated(test_game, 2) == [[(1, 1), (3, 3)]]"
   ]
  },
  {
   "cell_type": "markdown",
   "metadata": {},
   "source": [
    "<a id=\"get_index\"></a>\n",
    "### get_index\n",
    "\n",
    "`get_index` takes in the game, a list of spots to test (individual, row, or column), and the player number to calculate the index of that spot. **Used by**: [remove](#remove)\n",
    "\n",
    "***Inputs:***\n",
    "* **game**: List[List[Tuple]]]: Current game board with each cell in (P1, P2) format\n",
    "* **spot_list**: List[List[Tuple]]: List of spots (or rows or columns) to test\n",
    "* **player**: Int: Player with current turn\n",
    "\n",
    "**returns** index: List[List[Tuple]] of all columns in game board"
   ]
  },
  {
   "cell_type": "code",
   "execution_count": 10,
   "metadata": {},
   "outputs": [],
   "source": [
    "def get_index(game: List[List[Tuple]], spot_list: List[List[Tuple]], player: int): \n",
    "    \n",
    "    if player == 1: \n",
    "        test = get_rows(game)\n",
    "    elif player == 2: \n",
    "        test = get_cols(game)\n",
    "\n",
    "    index = test.index(spot_list)\n",
    "    return index\n",
    "    "
   ]
  },
  {
   "cell_type": "code",
   "execution_count": 11,
   "metadata": {},
   "outputs": [],
   "source": [
    "# Unit Tests / Assertions\n",
    "test_game = [\n",
    "    [(1, 1), (2, 2)], \n",
    "    [(3, 3), (4, 4)]]\n",
    "assert get_index(test_game, [(1, 1), (2,2)], 1) == 0\n",
    "assert get_index(test_game, [(3, 3), (4, 4)], 1) == 1\n",
    "assert get_index(test_game, [(1, 1), (3, 3)], 2) == 0"
   ]
  },
  {
   "cell_type": "markdown",
   "metadata": {},
   "source": [
    "<a id=\"remove\"></a>\n",
    "### remove\n",
    "\n",
    "`remove` takes in a game board, and outputs the columns in list form to be processed in other functions. **Used by**: [solve_game](#solve_game)\n",
    "\n",
    "***Inputs:***\n",
    "* **game**: List[List[Tuple]]]: Current game board with each cell in (P1, P2) format\n",
    "* **del_list**: List[List[Tuple]]: List of spots (or rows or columns) to delete\n",
    "* **player**: Int: Player with current turn\n",
    "\n",
    "**returns** new_board: List[List[Tuple]] of new board after deletion(s)"
   ]
  },
  {
   "cell_type": "code",
   "execution_count": 12,
   "metadata": {},
   "outputs": [],
   "source": [
    "def remove(game, del_list, player): \n",
    "    new_board = deepcopy(game)\n",
    "    index = get_index(game, del_list, player)\n",
    "    p = player - 1\n",
    "\n",
    "    if player == 1: #delete row\n",
    "        del new_board[index]\n",
    "        \n",
    "    if player == 2: #delete col\n",
    "        for j in new_board: \n",
    "            del j[index]\n",
    "                \n",
    "    return new_board"
   ]
  },
  {
   "cell_type": "code",
   "execution_count": 13,
   "metadata": {},
   "outputs": [],
   "source": [
    "# Unit Tests / Assertions\n",
    "test_game = [\n",
    "    [(1, 1), (2, 2)], \n",
    "    [(3, 3), (4, 4)]]\n",
    "assert remove(test_game, [(1, 1), (2, 2)], 1) == [[(3, 3), (4, 4)]]\n",
    "assert remove(test_game, [(3, 3), (4, 4)], 1) == [[(1, 1), (2, 2)]]\n",
    "assert remove(test_game, [(1, 1), (3, 3)], 2) == [[(2, 2)], [(4, 4)]]"
   ]
  },
  {
   "cell_type": "markdown",
   "metadata": {},
   "source": [
    "<a id=\"opp\"></a>\n",
    "### opp\n",
    "\n",
    "`opp` takes in a player number, and returns the other player. This is used to swap players between turns. **Used by**: [solve_game](#solve_game)\n",
    "\n",
    "***Inputs:***\n",
    "* **player**: Int: Player with current turn\n",
    "\n",
    "**returns** player: int, opposite player"
   ]
  },
  {
   "cell_type": "code",
   "execution_count": 14,
   "metadata": {},
   "outputs": [],
   "source": [
    "def opp(player: int): \n",
    "    if player == 1: \n",
    "        return 2\n",
    "    elif player == 2: \n",
    "        return 1\n",
    "    else: \n",
    "        return 'Error!'"
   ]
  },
  {
   "cell_type": "code",
   "execution_count": 15,
   "metadata": {},
   "outputs": [],
   "source": [
    "# Unit Tests / Assertions\n",
    "assert opp(1) == 2\n",
    "assert opp(2) == 1\n",
    "assert opp(3) == 'Error!'"
   ]
  },
  {
   "cell_type": "markdown",
   "metadata": {},
   "source": [
    "<a id=\"get_cartesian\"></a>\n",
    "### get_cartesian\n",
    "\n",
    "`get_cartesian` takes in a game board and a nash equilibrium point, and outputs the cartesian indices of that nash point within the board. **Used by**: [check_nash](#check_nash)\n",
    "\n",
    "***Inputs:***\n",
    "* **game**: List[List[Tuple]]]: Current game board with each cell in (P1, P2) format\n",
    "* **nash_point**: List[List[Tuple]]]: List of nash point in list form\n",
    "\n",
    "**returns** (i,j): Tuple of cartesian index of nash point within game board"
   ]
  },
  {
   "cell_type": "code",
   "execution_count": 16,
   "metadata": {},
   "outputs": [],
   "source": [
    "def get_cartesian(game: List[List[Tuple]], nash_point: Tuple): \n",
    "    for i, row in enumerate(game):\n",
    "        for j, col in enumerate(row): \n",
    "            if game[i][j] == nash_point: \n",
    "                return (i,j)"
   ]
  },
  {
   "cell_type": "code",
   "execution_count": 17,
   "metadata": {},
   "outputs": [],
   "source": [
    "# Unit Tests / Assertions\n",
    "test_game = [\n",
    "    [(1, 1), (2, 2)], \n",
    "    [(3, 3), (4, 4)]]\n",
    "assert get_cartesian(test_game, (1, 1)) == (0, 0)\n",
    "assert get_cartesian(test_game, (4, 4)) == (1, 1)\n",
    "assert get_cartesian(test_game, (3, 3)) == (1, 0)"
   ]
  },
  {
   "cell_type": "markdown",
   "metadata": {},
   "source": [
    "<a id=\"check_nash\"></a>\n",
    "### check_nash\n",
    "\n",
    "`check_nash` takes in a game board, the next state, and the current list of nash equilibrium points. Verifies whether the next point is a nash point, then adds its index to the nash list. **Used by**: [solve_game](#solve_game)\n",
    "\n",
    "***Inputs:***\n",
    "* **game**: List[List[Tuple]]]: Current game board with each cell in (P1, P2) format\n",
    "* **next_board**: List[List[Tuple]]]: Next game board, after deleting a dominated strategy\n",
    "* **nash_list**: List[List[Tuple]] of all current Nash points\n",
    "\n",
    "**returns** nash_list: List[[Tuple]] of all nash equilibrium point indices"
   ]
  },
  {
   "cell_type": "code",
   "execution_count": 18,
   "metadata": {},
   "outputs": [],
   "source": [
    "def check_nash(game: List[List[Tuple]], next_board: List[List[Tuple]], nash_list: List[List[Tuple]]): \n",
    "    \n",
    "    if (len(next_board) == 1 and len(next_board[0]) == 1 and len(next_board[0][0]) == 2): #nash\n",
    "        nash_point = next_board[0][0]\n",
    "        loc = get_cartesian(game, nash_point)\n",
    "        if loc not in nash_list: \n",
    "            nash_list.append(loc)\n",
    "    return nash_list"
   ]
  },
  {
   "cell_type": "code",
   "execution_count": 19,
   "metadata": {},
   "outputs": [],
   "source": [
    "# Unit Tests / Assertions\n",
    "test_game = [[(3, 3), (4, 4)]]\n",
    "next_board = [[(4, 4)]]\n",
    "assert check_nash(test_game, next_board, []) == [(0, 1)]\n",
    "next_board = [[(3, 3)]]\n",
    "assert check_nash(test_game, next_board, []) == [(0, 0)]\n",
    "test_game = [\n",
    "    [(1, 1), (2, 2)], \n",
    "    [(3, 3), (4, 4)]]\n",
    "next_board = [[(3, 3)]]\n",
    "assert check_nash(test_game, next_board, []) == [(1, 0)]"
   ]
  },
  {
   "cell_type": "markdown",
   "metadata": {},
   "source": [
    "<a id=\"nash_print\"></a>\n",
    "### nash_print\n",
    "\n",
    "`nash_print` takes in a game board and the nash list, and prints out the results in a neat format. Given this is a print function, unit tests / assertions are not necessary. \n",
    "\n",
    "***Inputs:***\n",
    "* **game**: List[List[Tuple]]]: Current game board with each cell in (P1, P2) format\n",
    "* **nash**: List[Tuple]: List of nash index points\n",
    "\n",
    "**returns** print statements"
   ]
  },
  {
   "cell_type": "code",
   "execution_count": 20,
   "metadata": {},
   "outputs": [],
   "source": [
    "def nash_print(game: List[List[Tuple]], nash: List[Tuple]): \n",
    "    print('Total Nash Equilibria: ', len(nash))\n",
    "    for i in nash: \n",
    "        print('Player 1 chooses ', i[0], ', and Player 2 chooses ', i[1], '. Payoffs for (P1, P2): ', game[i[0]][i[1]])\n",
    "    print()"
   ]
  },
  {
   "cell_type": "markdown",
   "metadata": {},
   "source": [
    "<a id=\"next_move\"></a>\n",
    "### next_move\n",
    "\n",
    "`next_move` takes in a current game board, initial game, dominated item list, player number, and nash list. Outputs next_board and new nash list (of indices). This is a combo function to reduce line count. **Used by**: [solve_game](#solve_game)\n",
    "\n",
    "***Inputs:***\n",
    "* **game**: List[List[Tuple]]]: Original game board with each cell in (P1, P2) format\n",
    "* **board**: List[List[Tuple]]: Current game board\n",
    "* **dom_item**: List of dominated item to remove\n",
    "* **player**: Int player with current move\n",
    "* **nash**: List of indices for nash equilibrium points\n",
    "\n",
    "**returns** next_board and updated nash list"
   ]
  },
  {
   "cell_type": "code",
   "execution_count": 21,
   "metadata": {},
   "outputs": [],
   "source": [
    "def next_move(board: List[List[Tuple]], dom_item: List[List[Tuple]], player: int, game: List[List[Tuple]], nash: List[Tuple]): \n",
    "    next_board = remove(board, dom_item, player)\n",
    "    nash_list = deepcopy(nash)\n",
    "    nash_list = check_nash(game, next_board, nash)\n",
    "\n",
    "    return next_board, nash"
   ]
  },
  {
   "cell_type": "code",
   "execution_count": 22,
   "metadata": {},
   "outputs": [],
   "source": [
    "# Unit Tests / Assertions\n",
    "test_game = [\n",
    "    [(1, 1), (2, 2)], \n",
    "    [(3, 3), (4, 4)]]\n",
    "board = [[(3, 3), (4, 4)]]\n",
    "next_board, nash = next_move(board, [(3, 3)], 2, test_game, [])\n",
    "assert next_board == [[(4, 4)]]\n",
    "assert len(next_board[0]) == 1\n",
    "assert nash == [(1, 1)]"
   ]
  },
  {
   "cell_type": "markdown",
   "metadata": {},
   "source": [
    "<a id=\"solve_game\"></a>\n",
    "## solve_game\n",
    "\n",
    "`solve_game` is the main driving function. This takes in a game board and a bool value on whether weakly dominated strategies can be eliminated. No assertions are needed, as the following problems will prove/disprove the algorithm. \n",
    "\n",
    "***Inputs:***\n",
    "* **game**: List[List[Tuple]]]: Current game board with each cell in (P1, P2) format\n",
    "\n",
    "**returns** nash: List[Tuple] of all nash equilibrium indices, referencing the original game board"
   ]
  },
  {
   "cell_type": "code",
   "execution_count": 23,
   "metadata": {},
   "outputs": [],
   "source": [
    "def solve_game(game: List[List[Tuple]], weak:bool=False) -> List[Tuple]:\n",
    "    nash = [] #init nash list\n",
    "    for i in range(1, 3): # start with player 1, then 2\n",
    "        player, cur_board, run_list, iteration = i, deepcopy(game), [], 0 #init\n",
    "        run_list.append([game, get_dominated(game, player, weak), player]) #init\n",
    "        while run_list and iteration < 10: \n",
    "            cur_iter = run_list[0]\n",
    "            board, dom_list, player = cur_iter[0], cur_iter[1], cur_iter[2]\n",
    "            if len(dom_list) == 0 and run_list: #no more dominated strategies\n",
    "                run_list.pop(0)\n",
    "                i+= 1\n",
    "                continue\n",
    "            next_board, nash = next_move(board, dom_list[0], player, game, nash)\n",
    "            run_list.append([next_board, get_dominated(next_board, opp(player), weak), opp(player)])\n",
    "            if len(dom_list) > 1: \n",
    "                dom_list.pop(0)\n",
    "                run_list.append([board, dom_list, player])\n",
    "            run_list.pop(0)\n",
    "            iteration +=1\n",
    "    return nash"
   ]
  },
  {
   "cell_type": "markdown",
   "metadata": {},
   "source": [
    "## Additional Directions\n",
    "\n",
    "Create three games as described and according to the following:\n",
    "\n",
    "1. Your games must be created and solved \"by hand\".\n",
    "2. The strategy pairs must **not** be on the main diagonal (0, 0), (1, 1), or (2, 2). And the solution cannot be the same for both Game 1 and Game 2.\n",
    "3. Make sure you fill out the Markdown (\"?\") with your game as well as the solution (\"?\").\n",
    "4. Remember, **do not return the payoff**, return the strategy indices (a list of them)."
   ]
  },
  {
   "cell_type": "markdown",
   "metadata": {},
   "source": [
    "## Before you code...\n",
    "\n",
    "Solve the following game by hand using SEDS and weakly dominated strategies. \n",
    "The game has three (pure) Nash Equilibriums. \n",
    "You should find all of them.\n",
    "This will help you think about what you need to implement to make the algorithm work.\n",
    "**Hint**: You will need State Space Search from Module 1 and SEDS from Module 5 to get the full algorithm to work.\n",
    "\n",
    "| Player 1 / Player 2  | 0 | 1 | 2 |\n",
    "|----|----|----|----|\n",
    "|0  | 1/0 | 3/1 | 1/1 |\n",
    "|1  | 1/1 | 3/0 | 0/1 |\n",
    "|2  | 2/2 | 3/3 | 0/2 |"
   ]
  },
  {
   "cell_type": "markdown",
   "metadata": {
    "jp-MarkdownHeadingCollapsed": true
   },
   "source": [
    "### Test Game - By Hand\n",
    "\n",
    "**Solution #1**: \n",
    "\n",
    "Starting with Player 1, strategy 2 weakly dominates strategy 1, so we can remove strategy 1: \n",
    "| Player 1 / Player 2  | 0 | 1 | 2 |\n",
    "|----|----|----|----|\n",
    "|0  | 1/0 | 3/1 | 1/1 |\n",
    "|2  | 2/2 | 3/3 | 0/2 |\n",
    "\n",
    "For Player 2, strategy 1 weakly dominates strategy 2, so we can eliminate it: \n",
    "| Player 1 / Player 2  | 0 | 1 |\n",
    "|----|----|----|\n",
    "|0  | 1/0 | 3/1 |\n",
    "|2  | 2/2 | 3/3 |\n",
    "\n",
    "For Player 1, strategy 2 weakly dominates strategy 0\n",
    "| Player 1 / Player 2  | 0 | 1 |\n",
    "|----|----|----|\n",
    "|2  | 2/2 | 3/3 |\n",
    "\n",
    "For Player 2, strategy 1 weakly dominates 0, leaving us with the first nash equilibrum: Player 1 chooses 2, Player 2 chooses 1, for payoffs of 2/2\n",
    "| Player 1 / Player 2  | 1 |\n",
    "|----|----|\n",
    "|2  | 3/3 |\n",
    "\n",
    "-----\n",
    "\n",
    "**Solution #2**\n",
    "Player 2, Strategy 2 weakly dominates 0: \n",
    "| Player 1 / Player 2  | 1 | 2 |\n",
    "|----|----|----|\n",
    "|0  | 3/1 | 1/1 |\n",
    "|1  | 3/0 | 0/1 |\n",
    "|2  | 3/3 | 0/2 |\n",
    "\n",
    "Player 1: Strategy 0 weakly dominates 2: \n",
    "| Player 1 / Player 2  | 1 | 2 |\n",
    "|----|----|----|\n",
    "|0  | 3/1 | 1/1 |\n",
    "|1  | 3/0 | 0/1 |\n",
    "\n",
    "Player 2: Strategy 2 weakly dominates 1: \n",
    "| Player 1 / Player 2  | 2 |\n",
    "|----|----|\n",
    "|0  | 1/1 |\n",
    "|1  | 0/1 |\n",
    "\n",
    "Player 1: Strategy 0 weakly dominates 1, leaving us with second nash equilibrium: Player 1 chooses 0, Player 2 chooses 2, for payoffs of 1/1\n",
    "| Player 1 / Player 2  | 2 |\n",
    "|----|----|\n",
    "|0  | 1/1 |\n",
    "\n",
    "**Solution #3** \n",
    "*This solution cannot be found with SEDS alone - we also need to use cell inspection*\n",
    "Player 1: Strategy 0 weakly dominates 1: \n",
    "| Player 1 / Player 2  | 0 | 1 | 2 |\n",
    "|----|----|----|----|\n",
    "|0  | 1/0 | 3/1 | 1/1 |\n",
    "|2  | 2/2 | 3/3 | 0/2 |\n",
    "\n",
    "Player 2: Strategy 2 weakly dominates 0\n",
    "| Player 1 / Player 2  | 1 | 2 |\n",
    "|----|----|----|\n",
    "|0  | 3/1 | 1/1 |\n",
    "|2  | 3/3 | 0/2 |\n",
    "\n",
    "Player 1: Strategy 0 weakly dominates 2, leaving us with: \n",
    "| Player 1 / Player 2  | 1 | 2 |\n",
    "|----|----|----|\n",
    "|0  | 3/1 | 1/1 |\n",
    "\n",
    "Player 2 is the next to go, but since both options result in the same payout (1), we have to resolve this by inspection. If Player 1 chooses 0, Player 2's best option is to choose 1, resulting in payouts of (3,1). \n",
    "| Player 1 / Player 2  | 1 |\n",
    "|----|----|\n",
    "|0  | 3/1 |"
   ]
  },
  {
   "cell_type": "markdown",
   "metadata": {},
   "source": [
    "### Test Game 1. Create a 3x3 two player game\n",
    "\n",
    "**that can only be solved using the Successive Elimintation of Strongly Dominated Strategies**\n",
    "\n",
    "| Player 1 / Player 2  | 0 | 1 | 2 |\n",
    "|----|----|----|----|\n",
    "|0  | 1/0 | 3/1 | 1/1 |\n",
    "|1  | 1/4 | 3/4 | 2/3 |\n",
    "|2  | 2/2 | 5/5 | 3/2 |\n",
    "\n",
    "**Solution:**\n",
    "Player 1: 2 dominates 0\n",
    "| Player 1 / Player 2  | 0 | 1 | 2 |\n",
    "|----|----|----|----|\n",
    "|1  | 1/4 | 3/4 | 2/3 |\n",
    "|2  | 2/2 | 5/5 | 3/2 |\n",
    "\n",
    "Player 2: 1 dominates 2\n",
    "| Player 1 / Player 2  | 0 | 1 |\n",
    "|----|----|----|\n",
    "|1  | 1/4 | 3/4 |\n",
    "|2  | 2/2 | 5/5 |\n",
    "\n",
    "Player 1: 2 dominates 1\n",
    "| Player 1 / Player 2  | 0 | 1 |\n",
    "|----|----|----|\n",
    "|2  | 2/2 | 5/5 |\n",
    "\n",
    "Player 2: 1 dominates 0 --> Nash = 2, 1 indices\n",
    "| Player 1 / Player 2  | 1 |\n",
    "|----|----|\n",
    "|2  | 5/5 |"
   ]
  },
  {
   "cell_type": "code",
   "execution_count": 24,
   "metadata": {},
   "outputs": [
    {
     "name": "stdout",
     "output_type": "stream",
     "text": [
      "[(2, 1)]\n",
      "Total Nash Equilibria:  1\n",
      "Player 1 chooses  2 , and Player 2 chooses  1 . Payoffs for (P1, P2):  (5, 5)\n",
      "\n"
     ]
    }
   ],
   "source": [
    "test_game_1 = [\n",
    "    [(1, 0), (3, 1), (1, 1)],\n",
    "    [(1, 4), (3, 4), (2, 3)],\n",
    "    [(2, 2), (5, 5), (3, 2)]]\n",
    "\n",
    "solution = solve_game(test_game_1)\n",
    "print(solution)\n",
    "nash_print(test_game_1, solution)"
   ]
  },
  {
   "cell_type": "code",
   "execution_count": 25,
   "metadata": {},
   "outputs": [],
   "source": [
    "assert solution == [(2, 1)] # insert your solution from above."
   ]
  },
  {
   "cell_type": "markdown",
   "metadata": {},
   "source": [
    "### Test Game 2. Create a 3x3 two player game\n",
    "\n",
    "**that can only be solved using the Successive Elimintation of Weakly Dominated Strategies**\n",
    "\n",
    "| Player 1 / Player 2  | 0 | 1 | 2 |\n",
    "|----|----|----|----|\n",
    "|0  | 9/4 | 3/1 | 1/9 |\n",
    "|1  | 1/4 | 3/7 | 3/3 |\n",
    "|2  | 2/2 | 5/5 | 3/2 |\n",
    "\n",
    "**Solution:** \n",
    "*Using Weakly Dominated strategies*\n",
    "Player 1: 2 dominates 1\n",
    "| Player 1 / Player 2  | 0 | 1 | 2 |\n",
    "|----|----|----|----|\n",
    "|0  | 9/4 | 3/1 | 1/9 |\n",
    "|2  | 2/2 | 5/5 | 3/2 |\n",
    "\n",
    "Player 2: 2 dominates 0\n",
    "| Player 1 / Player 2  | 1 | 2 |\n",
    "|----|----|----|\n",
    "|0  | 3/1 | 1/9 |\n",
    "|2  | 5/5 | 3/2 |\n",
    "\n",
    "Player 1: 2 dominates 0\n",
    "| Player 1 / Player 2  | 1 | 2 |\n",
    "|----|----|----|\n",
    "|2  | 5/5 | 3/2 |\n",
    "\n",
    "Player 2: 1 dominates 2\n",
    "| Player 1 / Player 2  | 1 |\n",
    "|----|----|\n",
    "|2  | 5/5 |"
   ]
  },
  {
   "cell_type": "code",
   "execution_count": 26,
   "metadata": {},
   "outputs": [
    {
     "name": "stdout",
     "output_type": "stream",
     "text": [
      "Total Nash Equilibria:  0\n",
      "\n",
      "Total Nash Equilibria:  1\n",
      "Player 1 chooses  2 , and Player 2 chooses  1 . Payoffs for (P1, P2):  (5, 5)\n",
      "\n"
     ]
    }
   ],
   "source": [
    "test_game_2 = [\n",
    "    [(9, 4), (3, 1), (1, 9)],\n",
    "    [(1, 4), (3, 7), (3, 3)],\n",
    "    [(2, 2), (5, 5), (3, 2)]]\n",
    "\n",
    "strong_solution = solve_game(test_game_2)\n",
    "weak_solution = solve_game(test_game_2, weak=True)\n",
    "\n",
    "nash_print(test_game_2, strong_solution)\n",
    "nash_print(test_game_2, weak_solution)"
   ]
  },
  {
   "cell_type": "code",
   "execution_count": 27,
   "metadata": {},
   "outputs": [],
   "source": [
    "assert strong_solution == []\n",
    "assert weak_solution == [(2, 1)] # insert your solution from above."
   ]
  },
  {
   "cell_type": "markdown",
   "metadata": {},
   "source": [
    "### Test Game 3. Create a 3x3 two player game\n",
    "\n",
    "**that cannot be solved using the Successive Elimintation of Dominated Strategies at all**\n",
    "\n",
    "| Player 1 / Player 2  | 0 | 1 | 2 |\n",
    "|----|----|----|----|\n",
    "|0  | 9/4 | 4/9 | 9/4 |\n",
    "|1  | 1/4 | 5/2 | 2/5 |\n",
    "|2  | 2/2 | 5/1 | 3/2 |\n",
    "\n",
    "**Solution:** None\n",
    "Player 1 - No dominated strategies\n",
    "Player 2 - No dominated strategies"
   ]
  },
  {
   "cell_type": "code",
   "execution_count": 28,
   "metadata": {},
   "outputs": [
    {
     "name": "stdout",
     "output_type": "stream",
     "text": [
      "Total Nash Equilibria:  0\n",
      "\n",
      "Total Nash Equilibria:  0\n",
      "\n"
     ]
    }
   ],
   "source": [
    "test_game_3 = [\n",
    "    [(9, 4), (4, 9), (9, 4)],\n",
    "    [(1, 4), (5, 2), (2, 5)],\n",
    "    [(2, 2), (5, 1), (3, 2)]]\n",
    "\n",
    "strong_solution = solve_game( test_game_3)\n",
    "weak_solution = solve_game( test_game_3, weak=True)\n",
    "\n",
    "nash_print(test_game_3, strong_solution)\n",
    "nash_print(test_game_3, weak_solution)"
   ]
  },
  {
   "cell_type": "code",
   "execution_count": 29,
   "metadata": {},
   "outputs": [],
   "source": [
    "assert strong_solution == []\n",
    "assert weak_solution == []"
   ]
  },
  {
   "cell_type": "markdown",
   "metadata": {},
   "source": [
    "### Test Game 4. Multiple Equilibria\n",
    "\n",
    "You solve the following game by hand, above.\n",
    "Now use your code to solve it.\n",
    "\n",
    "| Player 1 / Player 2  | 0 | 1 | 2 |\n",
    "|----|----|----|----|\n",
    "|0  | 1/0 | 3/1 | 1/1 |\n",
    "|1  | 1/1 | 3/0 | 0/1 |\n",
    "|2  | 2/2 | 3/3 | 0/2 |\n",
    "\n",
    "**Solutions:** (copy from above)"
   ]
  },
  {
   "cell_type": "code",
   "execution_count": 30,
   "metadata": {},
   "outputs": [],
   "source": [
    "test_game_4 = [\n",
    "[(1, 0), (3, 1), (1, 1)],\n",
    "[(1, 1), (3, 0), (0, 3)],\n",
    "[(2, 2), (3, 3), (0, 2)]]\n",
    "\n",
    "strong_solution = solve_game(test_game_4)\n",
    "weak_solution = solve_game( test_game_4, weak=True)"
   ]
  },
  {
   "cell_type": "code",
   "execution_count": 31,
   "metadata": {},
   "outputs": [
    {
     "name": "stdout",
     "output_type": "stream",
     "text": [
      "Total Nash Equilibria:  0\n",
      "\n",
      "Total Nash Equilibria:  2\n",
      "Player 1 chooses  2 , and Player 2 chooses  1 . Payoffs for (P1, P2):  (3, 3)\n",
      "Player 1 chooses  0 , and Player 2 chooses  2 . Payoffs for (P1, P2):  (1, 1)\n",
      "\n"
     ]
    }
   ],
   "source": [
    "nash_print(test_game_4, strong_solution)\n",
    "nash_print(test_game_4, weak_solution)"
   ]
  },
  {
   "cell_type": "code",
   "execution_count": 32,
   "metadata": {},
   "outputs": [],
   "source": [
    "assert strong_solution == []\n",
    "assert weak_solution == [(2, 1), (0, 2)] # put solution here"
   ]
  },
  {
   "cell_type": "markdown",
   "metadata": {},
   "source": [
    "## Before You Submit...\n",
    "\n",
    "1. Did you provide output exactly as requested? **Don't forget to fill out the Markdown tables with your games**.\n",
    "2. Did you re-execute the entire notebook? (\"Restart Kernel and Rull All Cells...\")\n",
    "3. If you did not complete the assignment or had difficulty please explain what gave you the most difficulty in the Markdown cell below.\n",
    "4. Did you change the name of the file to `jhed_id.ipynb`?\n",
    "\n",
    "Do not submit any other files."
   ]
  }
 ],
 "metadata": {
  "kernelspec": {
   "display_name": "Python (en605645)",
   "language": "python",
   "name": "en605645"
  },
  "language_info": {
   "codemirror_mode": {
    "name": "ipython",
    "version": 3
   },
   "file_extension": ".py",
   "mimetype": "text/x-python",
   "name": "python",
   "nbconvert_exporter": "python",
   "pygments_lexer": "ipython3",
   "version": "3.11.7"
  },
  "toc": {
   "colors": {
    "hover_highlight": "#DAA520",
    "navigate_num": "#000000",
    "navigate_text": "#333333",
    "running_highlight": "#FF0000",
    "selected_highlight": "#FFD700",
    "sidebar_border": "#EEEEEE",
    "wrapper_background": "#FFFFFF"
   },
   "moveMenuLeft": true,
   "nav_menu": {
    "height": "135px",
    "width": "252px"
   },
   "navigate_menu": true,
   "number_sections": true,
   "sideBar": true,
   "threshold": 4,
   "toc_cell": false,
   "toc_section_display": "block",
   "toc_window_display": false,
   "widenNotebook": false
  }
 },
 "nbformat": 4,
 "nbformat_minor": 4
}
