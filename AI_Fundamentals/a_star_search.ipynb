{
 "cells": [
  {
   "cell_type": "markdown",
   "metadata": {
    "jp-MarkdownHeadingCollapsed": true,
    "tags": []
   },
   "source": [
    "# Module 1 - Programming Assignment\n",
    "\n",
    "## General Directions\n",
    "\n",
    "1. You must follow the Programming Requirements outlined on Canvas.\n",
    "2. The Notebook should be cleanly and fully executed before submission.\n",
    "3. You should change the name of this file to be your JHED id. For example, `jsmith299.ipynb` although Canvas will change it to something else... :/\n",
    "\n",
    "<div style=\"background: lemonchiffon; margin:20px; padding: 20px;\">\n",
    "    <strong>Important</strong>\n",
    "    <p>\n",
    "        You should always read the entire assignment before beginning your work, so that you know in advance what the requested output will be and can plan your implementation accordingly.\n",
    "    </p>\n",
    "</div>"
   ]
  },
  {
   "cell_type": "markdown",
   "metadata": {},
   "source": [
    "# State Space Search with A* Search\n",
    "\n",
    "You are going to implement the A\\* Search algorithm for navigation problems.\n",
    "\n",
    "\n",
    "## Motivation\n",
    "\n",
    "Search is often used for path-finding in video games. Although the characters in a video game often move in continuous spaces,\n",
    "it is trivial to layout a \"waypoint\" system as a kind of navigation grid over the continuous space. Then if the character needs\n",
    "to get from Point A to Point B, it does a line of sight (LOS) scan to find the nearest waypoint (let's call it Waypoint A) and\n",
    "finds the nearest, LOS waypoint to Point B (let's call it Waypoint B). The agent then does a A* search for Waypoint B from Waypoint A to find the shortest path. The entire path is thus Point A to Waypoint A to Waypoint B to Point B.\n",
    "\n",
    "We're going to simplify the problem by working in a grid world. The symbols that form the grid have a special meaning as they\n",
    "specify the type of the terrain and the cost to enter a grid cell with that type of terrain:\n",
    "\n",
    "```\n",
    "token   terrain    cost \n",
    "🌾       plains     1\n",
    "🌲       forest     3\n",
    "⛰       hills      5\n",
    "🐊       swamp      7\n",
    "🌋       mountains  impassible\n",
    "```\n",
    "\n",
    "We can think of the raw format of the map as being something like:\n",
    "\n",
    "```\n",
    "🌾🌾🌾🌾🌲🌾🌾\n",
    "🌾🌾🌾🌲🌲🌲🌾\n",
    "🌾⛰⛰⛰🌾🌾🌾\n",
    "🌾🌾⛰⛰🌾🌾🌾\n",
    "🌾🌾⛰🌾🌾🌲🌲\n",
    "🌾🌾🌾🌾🌲🌲🌲\n",
    "🌾🌾🌾🌾🌾🌾🌾\n",
    "```"
   ]
  },
  {
   "cell_type": "markdown",
   "metadata": {},
   "source": [
    "## The World\n",
    "\n",
    "Given a map like the one above, we can easily represent each row as a `List` and the entire map as `List of Lists`:"
   ]
  },
  {
   "cell_type": "code",
   "execution_count": 1,
   "metadata": {},
   "outputs": [],
   "source": [
    "full_world = [\n",
    "['🌾', '🌾', '🌾', '🌾', '🌾', '🌲', '🌲', '🌲', '🌲', '🌲', '🌲', '🌲', '🌲', '🌲', '🌲', '🌾', '🌾', '🌾', '🌾', '🌾', '🌾', '🌾', '🌾', '🌾', '🌾', '🌾', '🌾'],\n",
    "['🌾', '🌾', '🌾', '🌾', '🌾', '🌾', '🌾', '🌲', '🌲', '🌲', '🌲', '🌲', '🌲', '🌲', '🌲', '🌲', '🌾', '🌾', '🌋', '🌋', '🌋', '🌋', '🌋', '🌋', '🌋', '🌾', '🌾'],\n",
    "['🌾', '🌾', '🌾', '🌾', '🌋', '🌋', '🌲', '🌲', '🌲', '🌲', '🌲', '🌲', '🌲', '🌲', '🌲', '🌲', '🌲', '🌋', '🌋', '🌋', '⛰', '⛰', '⛰', '🌋', '🌋', '⛰', '⛰'],\n",
    "['🌾', '🌾', '🌾', '🌾', '⛰', '🌋', '🌋', '🌋', '🌲', '🌲', '🌲', '🌲', '🐊', '🐊', '🌲', '🌲', '🌲', '🌲', '🌲', '🌾', '🌾', '⛰', '⛰', '🌋', '🌋', '⛰', '🌾'],\n",
    "['🌾', '🌾', '🌾', '⛰', '⛰', '🌋', '🌋', '🌲', '🌲', '🌾', '🌾', '🐊', '🐊', '🐊', '🐊', '🌲', '🌲', '🌲', '🌾', '🌾', '🌾', '⛰', '🌋', '🌋', '🌋', '⛰', '🌾'],\n",
    "['🌾', '⛰', '⛰', '⛰', '🌋', '🌋', '⛰', '⛰', '🌾', '🌾', '🌾', '🌾', '🐊', '🐊', '🐊', '🐊', '🐊', '🌾', '🌾', '🌾', '🌾', '🌾', '⛰', '🌋', '⛰', '🌾', '🌾'],\n",
    "['🌾', '⛰', '⛰', '🌋', '🌋', '⛰', '⛰', '🌾', '🌾', '🌾', '🌾', '⛰', '🌋', '🌋', '🌋', '🐊', '🐊', '🐊', '🌾', '🌾', '🌾', '🌾', '🌾', '⛰', '🌾', '🌾', '🌾'],\n",
    "['🌾', '🌾', '⛰', '⛰', '⛰', '⛰', '⛰', '🌾', '🌾', '🌾', '🌾', '🌾', '🌾', '⛰', '🌋', '🌋', '🌋', '🐊', '🐊', '🐊', '🌾', '🌾', '⛰', '⛰', '⛰', '🌾', '🌾'],\n",
    "['🌾', '🌾', '🌾', '⛰', '⛰', '⛰', '🌾', '🌾', '🌾', '🌾', '🌾', '🌾', '⛰', '⛰', '🌋', '🌋', '🌾', '🐊', '🐊', '🌾', '🌾', '⛰', '⛰', '⛰', '🌾', '🌾', '🌾'],\n",
    "['🌾', '🌾', '🌾', '🐊', '🐊', '🐊', '🌾', '🌾', '⛰', '⛰', '⛰', '🌋', '🌋', '🌋', '🌋', '🌾', '🌾', '🌾', '🐊', '🌾', '⛰', '⛰', '⛰', '🌾', '🌾', '🌾', '🌾'],\n",
    "['🌾', '🌾', '🐊', '🐊', '🐊', '🐊', '🐊', '🌾', '⛰', '⛰', '🌋', '🌋', '🌋', '⛰', '🌾', '🌾', '🌾', '🌾', '🌾', '⛰', '🌋', '🌋', '🌋', '⛰', '🌾', '🌾', '🌾'],\n",
    "['🌾', '🐊', '🐊', '🐊', '🐊', '🐊', '🌾', '🌾', '⛰', '🌋', '🌋', '⛰', '🌾', '🌾', '🌾', '🌾', '🐊', '🐊', '🌾', '🌾', '⛰', '🌋', '🌋', '⛰', '🌾', '🌾', '🌾'],\n",
    "['🐊', '🐊', '🐊', '🐊', '🐊', '🌾', '🌾', '⛰', '⛰', '🌋', '🌋', '⛰', '🌾', '🐊', '🐊', '🐊', '🐊', '🌾', '🌾', '🌾', '⛰', '🌋', '⛰', '🌾', '🌾', '🌾', '🌾'],\n",
    "['🌾', '🐊', '🐊', '🐊', '🐊', '🌾', '🌾', '⛰', '🌲', '🌲', '⛰', '🌾', '🌾', '🌾', '🌾', '🐊', '🐊', '🐊', '🐊', '🌾', '🌾', '⛰', '🌾', '🌾', '🌾', '🌾', '🌾'],\n",
    "['🌾', '🌾', '🌾', '🌾', '🌋', '🌾', '🌾', '🌲', '🌲', '🌲', '🌲', '⛰', '⛰', '⛰', '⛰', '🌾', '🐊', '🐊', '🐊', '🌾', '🌾', '⛰', '🌋', '⛰', '🌾', '🌾', '🌾'],\n",
    "['🌾', '🌾', '🌾', '🌋', '🌋', '🌋', '🌲', '🌲', '🌲', '🌲', '🌲', '🌲', '🌋', '🌋', '🌋', '⛰', '⛰', '🌾', '🐊', '🌾', '⛰', '🌋', '🌋', '⛰', '🌾', '🌾', '🌾'],\n",
    "['🌾', '🌾', '🌋', '🌋', '🌲', '🌲', '🌲', '🌲', '🌲', '🌲', '🌲', '🌲', '🌲', '🌲', '🌋', '🌋', '🌋', '🌾', '🌾', '🌋', '🌋', '🌋', '🌾', '🌾', '🌾', '🌾', '🌾'],\n",
    "['🌾', '🌾', '🌾', '🌋', '🌋', '🌲', '🌲', '🌲', '🌲', '🌲', '🌲', '🌲', '🌲', '🌲', '🌲', '🌲', '🌋', '🌋', '🌋', '🌋', '🌾', '🌾', '🌾', '🌾', '🌾', '🌾', '🌾'],\n",
    "['🌾', '🌾', '🌾', '🌋', '🌋', '🌋', '🌲', '🌲', '🌲', '🌲', '🌲', '🌲', '🌲', '🌲', '🌾', '🌾', '🌾', '⛰', '⛰', '🌾', '🌾', '🌾', '🌾', '🌾', '🌾', '🌾', '🌾'],\n",
    "['🌾', '🌾', '🌾', '🌾', '🌋', '🌋', '🌋', '🌲', '🌲', '🌲', '🌲', '🌲', '🌲', '🌾', '🌾', '🌾', '🌾', '🌾', '🌾', '🌾', '🌾', '🌾', '🌾', '🐊', '🐊', '🐊', '🐊'],\n",
    "['🌾', '🌾', '⛰', '⛰', '⛰', '⛰', '🌋', '🌋', '🌲', '🌲', '🌲', '🌲', '🌲', '🌾', '🌋', '🌾', '🌾', '🌾', '🌾', '🌾', '🐊', '🐊', '🐊', '🐊', '🐊', '🐊', '🐊'],\n",
    "['🌾', '🌾', '🌾', '🌾', '⛰', '⛰', '⛰', '🌋', '🌋', '🌋', '🌲', '🌲', '🌋', '🌋', '🌾', '🌾', '🌾', '🌾', '🌾', '🌾', '🐊', '🐊', '🐊', '🐊', '🐊', '🐊', '🐊'],\n",
    "['🌾', '🌾', '🌾', '🌾', '🌾', '🌾', '⛰', '⛰', '⛰', '🌋', '🌋', '🌋', '🌋', '🌾', '🌾', '🌾', '🌾', '⛰', '⛰', '🌾', '🌾', '🐊', '🐊', '🐊', '🐊', '🐊', '🐊'],\n",
    "['🌾', '⛰', '⛰', '🌾', '🌾', '⛰', '⛰', '⛰', '⛰', '⛰', '🌾', '🌾', '🌾', '🌾', '🌾', '⛰', '⛰', '🌋', '🌋', '⛰', '⛰', '🌾', '🐊', '🐊', '🐊', '🐊', '🐊'],\n",
    "['⛰', '🌋', '⛰', '⛰', '⛰', '⛰', '🌾', '🌾', '🌾', '🌾', '🌾', '🌋', '🌋', '🌋', '⛰', '⛰', '🌋', '🌋', '🌾', '🌋', '🌋', '⛰', '⛰', '🐊', '🐊', '🐊', '🐊'],\n",
    "['⛰', '🌋', '🌋', '🌋', '⛰', '🌾', '🌾', '🌾', '🌾', '🌾', '⛰', '⛰', '🌋', '🌋', '🌋', '🌋', '⛰', '⛰', '⛰', '⛰', '🌋', '🌋', '🌋', '🐊', '🐊', '🐊', '🐊'],\n",
    "['⛰', '⛰', '🌾', '🌾', '🌾', '🌾', '🌾', '🌾', '🌾', '🌾', '🌾', '🌾', '⛰', '⛰', '⛰', '⛰', '⛰', '🌾', '🌾', '🌾', '🌾', '⛰', '⛰', '⛰', '🌾', '🌾', '🌾']\n",
    "]"
   ]
  },
  {
   "cell_type": "code",
   "execution_count": 2,
   "metadata": {},
   "outputs": [
    {
     "name": "stdout",
     "output_type": "stream",
     "text": [
      "🌾🌾🌾🌾🌾🌲🌲🌲🌲🌲🌲🌲🌲🌲🌲🌾🌾🌾🌾🌾🌾🌾🌾🌾🌾🌾🌾\n",
      "🌾🌾🌾🌾🌾🌾🌾🌲🌲🌲🌲🌲🌲🌲🌲🌲🌾🌾🌋🌋🌋🌋🌋🌋🌋🌾🌾\n",
      "🌾🌾🌾🌾🌋🌋🌲🌲🌲🌲🌲🌲🌲🌲🌲🌲🌲🌋🌋🌋⛰⛰⛰🌋🌋⛰⛰\n",
      "🌾🌾🌾🌾⛰🌋🌋🌋🌲🌲🌲🌲🐊🐊🌲🌲🌲🌲🌲🌾🌾⛰⛰🌋🌋⛰🌾\n",
      "🌾🌾🌾⛰⛰🌋🌋🌲🌲🌾🌾🐊🐊🐊🐊🌲🌲🌲🌾🌾🌾⛰🌋🌋🌋⛰🌾\n",
      "🌾⛰⛰⛰🌋🌋⛰⛰🌾🌾🌾🌾🐊🐊🐊🐊🐊🌾🌾🌾🌾🌾⛰🌋⛰🌾🌾\n",
      "🌾⛰⛰🌋🌋⛰⛰🌾🌾🌾🌾⛰🌋🌋🌋🐊🐊🐊🌾🌾🌾🌾🌾⛰🌾🌾🌾\n",
      "🌾🌾⛰⛰⛰⛰⛰🌾🌾🌾🌾🌾🌾⛰🌋🌋🌋🐊🐊🐊🌾🌾⛰⛰⛰🌾🌾\n",
      "🌾🌾🌾⛰⛰⛰🌾🌾🌾🌾🌾🌾⛰⛰🌋🌋🌾🐊🐊🌾🌾⛰⛰⛰🌾🌾🌾\n",
      "🌾🌾🌾🐊🐊🐊🌾🌾⛰⛰⛰🌋🌋🌋🌋🌾🌾🌾🐊🌾⛰⛰⛰🌾🌾🌾🌾\n",
      "🌾🌾🐊🐊🐊🐊🐊🌾⛰⛰🌋🌋🌋⛰🌾🌾🌾🌾🌾⛰🌋🌋🌋⛰🌾🌾🌾\n",
      "🌾🐊🐊🐊🐊🐊🌾🌾⛰🌋🌋⛰🌾🌾🌾🌾🐊🐊🌾🌾⛰🌋🌋⛰🌾🌾🌾\n",
      "🐊🐊🐊🐊🐊🌾🌾⛰⛰🌋🌋⛰🌾🐊🐊🐊🐊🌾🌾🌾⛰🌋⛰🌾🌾🌾🌾\n",
      "🌾🐊🐊🐊🐊🌾🌾⛰🌲🌲⛰🌾🌾🌾🌾🐊🐊🐊🐊🌾🌾⛰🌾🌾🌾🌾🌾\n",
      "🌾🌾🌾🌾🌋🌾🌾🌲🌲🌲🌲⛰⛰⛰⛰🌾🐊🐊🐊🌾🌾⛰🌋⛰🌾🌾🌾\n",
      "🌾🌾🌾🌋🌋🌋🌲🌲🌲🌲🌲🌲🌋🌋🌋⛰⛰🌾🐊🌾⛰🌋🌋⛰🌾🌾🌾\n",
      "🌾🌾🌋🌋🌲🌲🌲🌲🌲🌲🌲🌲🌲🌲🌋🌋🌋🌾🌾🌋🌋🌋🌾🌾🌾🌾🌾\n",
      "🌾🌾🌾🌋🌋🌲🌲🌲🌲🌲🌲🌲🌲🌲🌲🌲🌋🌋🌋🌋🌾🌾🌾🌾🌾🌾🌾\n",
      "🌾🌾🌾🌋🌋🌋🌲🌲🌲🌲🌲🌲🌲🌲🌾🌾🌾⛰⛰🌾🌾🌾🌾🌾🌾🌾🌾\n",
      "🌾🌾🌾🌾🌋🌋🌋🌲🌲🌲🌲🌲🌲🌾🌾🌾🌾🌾🌾🌾🌾🌾🌾🐊🐊🐊🐊\n",
      "🌾🌾⛰⛰⛰⛰🌋🌋🌲🌲🌲🌲🌲🌾🌋🌾🌾🌾🌾🌾🐊🐊🐊🐊🐊🐊🐊\n",
      "🌾🌾🌾🌾⛰⛰⛰🌋🌋🌋🌲🌲🌋🌋🌾🌾🌾🌾🌾🌾🐊🐊🐊🐊🐊🐊🐊\n",
      "🌾🌾🌾🌾🌾🌾⛰⛰⛰🌋🌋🌋🌋🌾🌾🌾🌾⛰⛰🌾🌾🐊🐊🐊🐊🐊🐊\n",
      "🌾⛰⛰🌾🌾⛰⛰⛰⛰⛰🌾🌾🌾🌾🌾⛰⛰🌋🌋⛰⛰🌾🐊🐊🐊🐊🐊\n",
      "⛰🌋⛰⛰⛰⛰🌾🌾🌾🌾🌾🌋🌋🌋⛰⛰🌋🌋🌾🌋🌋⛰⛰🐊🐊🐊🐊\n",
      "⛰🌋🌋🌋⛰🌾🌾🌾🌾🌾⛰⛰🌋🌋🌋🌋⛰⛰⛰⛰🌋🌋🌋🐊🐊🐊🐊\n",
      "⛰⛰🌾🌾🌾🌾🌾🌾🌾🌾🌾🌾⛰⛰⛰⛰⛰🌾🌾🌾🌾⛰⛰⛰🌾🌾🌾\n"
     ]
    }
   ],
   "source": [
    "for line in full_world:\n",
    "    print(\"\".join(line))"
   ]
  },
  {
   "cell_type": "markdown",
   "metadata": {},
   "source": [
    "## Warning\n",
    "\n",
    "One implication of this representation is that (x, y) is world[ y][ x] so that (3, 2) is world[ 2][ 3] and world[ 7][ 9] is (9, 7). Yes, there are many ways to do this. I picked this representation because when you look at it, it *looks* like a regular x, y cartesian grid and it's easy to print out.\n",
    "\n",
    "It is often easier to begin your programming by operating on test input that has an obvious solution. If we had a small 7x7 world with the following characteristics:"
   ]
  },
  {
   "cell_type": "code",
   "execution_count": 3,
   "metadata": {},
   "outputs": [],
   "source": [
    "small_world = [\n",
    "    ['🌾', '🌲', '🌲', '🌲', '🌲', '🌲', '🌲'],\n",
    "    ['🌾', '🌲', '🌲', '🌲', '🌲', '🌲', '🌲'],\n",
    "    ['🌾', '🌲', '🌲', '🌲', '🌲', '🌲', '🌲'],\n",
    "    ['🌾', '🌾', '🌾', '🌾', '🌾', '🌾', '🌾'],\n",
    "    ['🌲', '🌲', '🌲', '🌲', '🌲', '🌲', '🌾'],\n",
    "    ['🌲', '🌲', '🌲', '🌲', '🌲', '🌲', '🌾'],\n",
    "    ['🌲', '🌲', '🌲', '🌲', '🌲', '🌲', '🌾']\n",
    "]"
   ]
  },
  {
   "cell_type": "markdown",
   "metadata": {},
   "source": [
    "**what do you expect the policy would be?** Think about it for a bit. This will help you with your programming and debugging."
   ]
  },
  {
   "cell_type": "markdown",
   "metadata": {},
   "source": [
    "## States and State Representation\n",
    "\n",
    "The canonical pieces of a State Space Search problem are the States, Actions, Transitions and Costs. \n",
    "\n",
    "We'll start with the state representation. For the navigation problem, a state is the current position of the agent, `(x,y)`. The entire set of possible states is implicitly represented by the world map."
   ]
  },
  {
   "cell_type": "markdown",
   "metadata": {},
   "source": [
    "## Actions and Transitions\n",
    "\n",
    "Next we need to specify the actions. In general, there are a number of different possible action sets in such a world. The agent might be constrained to move north/south/east/west or diagonal moves might be permitted as well (or really anything). When combined with the set of States, the *permissible* actions forms the Transition set.\n",
    "\n",
    "Rather than enumerate the Transition set directly, for this problem it's easier to calculate the available actions and transitions on the fly. This can be done by specifying a *movement model* as offsets to the current state and then checking to see which of the potential successor states are actually permitted. This can be done in the successor function mentioned in the pseudocode.\n",
    "\n",
    "One such example of a movement model is shown below."
   ]
  },
  {
   "cell_type": "code",
   "execution_count": 4,
   "metadata": {},
   "outputs": [],
   "source": [
    "MOVES = [(0,-1), (1,0), (0,1), (-1,0)]"
   ]
  },
  {
   "cell_type": "markdown",
   "metadata": {},
   "source": [
    "## Costs\n",
    "\n",
    "We can encode the costs described above in a `Dict`:"
   ]
  },
  {
   "cell_type": "code",
   "execution_count": 5,
   "metadata": {},
   "outputs": [],
   "source": [
    "COSTS = { '🌾': 1, '🌲': 3, '⛰': 5, '🐊': 7}"
   ]
  },
  {
   "cell_type": "markdown",
   "metadata": {},
   "source": [
    "<div style=\"background: #4682b4\">\n",
    "    \n",
    "*JW Note - v2: This COST Dict was revised back to the original state; mountains were removed.*"
   ]
  },
  {
   "cell_type": "markdown",
   "metadata": {},
   "source": [
    "## Specification\n",
    "\n",
    "You will implement a function called `a_star_search` that takes the parameters and returns the value as specified below. The return value is going to look like this:\n",
    "\n",
    "`[(0,1), (0,1), (0,1), (1,0), (1,0), (1,0), (1,0), (1,0), (1,0), (0,1), (0,1), (0,1)]`\n",
    "\n",
    "You should also implement a function called `pretty_print_path`. \n",
    "The `pretty_print_path` function prints an ASCII representation of the path generated by the `a_star_search` on top of the terrain map. \n",
    "For example, for the test world, it would print this:\n",
    "\n",
    "```\n",
    "⏬🌲🌲🌲🌲🌲🌲\n",
    "⏬🌲🌲🌲🌲🌲🌲\n",
    "⏬🌲🌲🌲🌲🌲🌲\n",
    "⏩⏩⏩⏩⏩⏩⏬\n",
    "🌲🌲🌲🌲🌲🌲⏬\n",
    "🌲🌲🌲🌲🌲🌲⏬\n",
    "🌲🌲🌲🌲🌲🌲🎁\n",
    "```\n",
    "\n",
    "using ⏩,⏪,⏫ ⏬ to represent actions and `🎁` to represent the goal. (Note the format of the output...there are no spaces, commas, or extraneous characters). You are printing the path over the terrain.\n",
    "This is an impure function (because it has side effects, the printing, before returning anything).\n",
    "\n",
    "Note that in Python:\n",
    "```\n",
    "> a = [\"*\", \"-\", \"*\"]\n",
    "> \"\".join(a)\n",
    "*-*\n",
    "```\n",
    "* Do not print raw data structures\n",
    "* Do not insert unneeded/unrequested spaces\n",
    "* Use the provided emojis!\n",
    "\n",
    "### Additional comments\n",
    "\n",
    "As Python is an interpreted language, you're going to need to insert all of your functions *before* the actual `a_star_search` function implementation. \n",
    "Do not make unwarranted assumptions (for example, do not assume that the start is always (0, 0).\n",
    "Do not refer to global variables, pass them as parameters (functional programming).\n",
    "\n",
    "Simple and correct is better than inefficient and incorrect, or worse, incomplete.\n",
    "For example, you can use a simple List, with some helper functions, as a Stack or a Queue or a Priority Queue.\n",
    "Avoid the Python implementations of HeapQ, PriorityQueue implementation unless you are very sure about what you're doing as they require *immutable* keys."
   ]
  },
  {
   "cell_type": "code",
   "execution_count": 6,
   "metadata": {},
   "outputs": [],
   "source": [
    "from typing import List, Tuple, Dict, Callable\n",
    "from copy import deepcopy"
   ]
  },
  {
   "cell_type": "markdown",
   "metadata": {},
   "source": [
    "*add as many markdown and code cells here as you need for helper functions. We have added `heuristic` for you*"
   ]
  },
  {
   "cell_type": "markdown",
   "metadata": {},
   "source": [
    "<a id=\"heuristic\"></a>\n",
    "## heuristic\n",
    "\n",
    "`heuristic` takes in the current state and goal state, and calculates the euclidean distance between the two points. **Used by**: [get_next_state](#get_next_state)\n",
    "\n",
    "* **state** Tuple[int,int]: cartesian position of the current state on the map\n",
    "* **goal**: Tuple[int,int]: cartesian position of the goal state on the map\n",
    "\n",
    "**returns** euc: Float euclidean distance between state and goal"
   ]
  },
  {
   "cell_type": "code",
   "execution_count": 7,
   "metadata": {},
   "outputs": [],
   "source": [
    "import numpy as np\n",
    "def heuristic(state: Tuple[int,int], goal: Tuple[int,int]):\n",
    "    euc = np.sqrt((state[0] - goal[0])**2 + (state[1] - goal[1])**2)\n",
    "\n",
    "    return euc"
   ]
  },
  {
   "cell_type": "code",
   "execution_count": 8,
   "metadata": {},
   "outputs": [],
   "source": [
    "# assertions/unit tests\n",
    "state = [1,1]\n",
    "goal = [2,1]\n",
    "euc = heuristic(state, goal)\n",
    "assert euc == 1\n",
    "\n",
    "state = [0,0]\n",
    "goal = [5,5]\n",
    "euc = heuristic(state, goal)\n",
    "assert euc == np.sqrt(50)\n",
    "\n",
    "state = [5, 6]\n",
    "goal = [1,2]\n",
    "euc = heuristic(state, goal)\n",
    "assert euc == np.sqrt(32)"
   ]
  },
  {
   "cell_type": "markdown",
   "metadata": {},
   "source": [
    "<a id=\"Additional Helper Functions\"></a>\n",
    "## Additional Helper Functions"
   ]
  },
  {
   "cell_type": "markdown",
   "metadata": {},
   "source": [
    "<a id=\"get_neighbors\"></a>\n",
    "### get_neighbors\n",
    "\n",
    "`get_neighbors` takes in the world, current state, and possible moves to generate a list of all valid children of the current state. Validity is checked against the bounds of the given world. **Used by**: [a_star_search](#a_star_search)\n",
    "\n",
    "* **world**: List[List[str]]: Input world map\n",
    "* **current_state**: Tuple[int,int]: cartesian position of the current state on the map\n",
    "* **moves**: List[Tuple[int, int]]: list of possible valid moves in cartesian space\n",
    "* **costs**: Dict[str,int]: dictionary of possible symbols and associated cost to occupy / move\n",
    "\n",
    "**returns** neighbors: List of valid neighbors (children) of current state in List[Tuple[int,int]] form"
   ]
  },
  {
   "cell_type": "code",
   "execution_count": 9,
   "metadata": {},
   "outputs": [],
   "source": [
    "def get_neighbors(world: List[List[str]], current_state: Tuple[int, int], moves: List[Tuple[int, int]], \n",
    "                  costs: Dict[str, int]): \n",
    "    neighbors = []\n",
    "    for move in moves: \n",
    "        x_move, y_move = move[0], move[1]\n",
    "        test_x, test_y = current_state[0]+x_move, current_state[1]+y_move\n",
    "        \n",
    "        if (test_x < 0) or (test_y < 0): #out of bounds - negative\n",
    "            continue\n",
    "        if (test_x >= len(world)) or (test_y >= len(world[0])): #out of bounds\n",
    "            continue\n",
    "        if world[test_x][test_y] not in costs: #move not allowed\n",
    "            continue\n",
    "\n",
    "        neighbor = [test_x, test_y]\n",
    "        neighbors.append(neighbor)\n",
    "    \n",
    "    return neighbors"
   ]
  },
  {
   "cell_type": "code",
   "execution_count": 10,
   "metadata": {},
   "outputs": [],
   "source": [
    "#assertions / unit tests\n",
    "world = small_world\n",
    "moves = MOVES\n",
    "current_state = [0,0]\n",
    "neighbors = get_neighbors(world, current_state, moves, COSTS)\n",
    "assert neighbors == [[1,0], [0,1]]\n",
    "\n",
    "current_state = [6, 6]\n",
    "neighbors = get_neighbors(world, current_state, moves, COSTS)\n",
    "assert neighbors == [[6,5], [5,6]]\n",
    "\n",
    "current_state = [3,3]\n",
    "neighbors = get_neighbors(world, current_state, moves, COSTS)\n",
    "assert neighbors == [[3,2], [4,3], [3,4], [2,3]]"
   ]
  },
  {
   "cell_type": "markdown",
   "metadata": {},
   "source": [
    "<a id=\"get_cost\"></a>\n",
    "### get_cost\n",
    "\n",
    "`get_cost` takes in the world, current state, and cost dictionary to generate the cost of a state in the map. The state (cartesian position) is translated to the world map, and the corresponding symbol is checked in the dictionary. **Used by**: [get_next_state](#get_next_state), [a_star_search](#a_star_search)\n",
    "\n",
    "* **world**: List[List[str]]: Input world map\n",
    "* **current_state**: Tuple[int,int]: cartesian position of the current state on the map\n",
    "* **costs**: Dict[str,int]: dictionary of possible symbols and associated cost to occupy / move\n",
    "\n",
    "**returns** cost: Integer value of map cost for given location\n"
   ]
  },
  {
   "cell_type": "code",
   "execution_count": 11,
   "metadata": {},
   "outputs": [],
   "source": [
    "def get_cost(world: List[List[str]], current_state: Tuple[int, int], costs: Dict[str,int]): \n",
    "    cur_x, cur_y = current_state[0], current_state[1]\n",
    "    symbol = world[current_state[0]][current_state[1]]\n",
    "    cost = costs[symbol]\n",
    "\n",
    "    return cost"
   ]
  },
  {
   "cell_type": "code",
   "execution_count": 12,
   "metadata": {},
   "outputs": [],
   "source": [
    "#assertions / unit tests\n",
    "world = small_world\n",
    "costs = COSTS\n",
    "current_state = [0,0]\n",
    "cost = get_cost(world, current_state, costs)\n",
    "assert cost == 1\n",
    "\n",
    "current_state = [0,1]\n",
    "cost = get_cost(world, current_state, costs)\n",
    "assert cost == 3\n",
    "\n",
    "current_state = [3,0]\n",
    "cost = get_cost(world, current_state, costs)\n",
    "assert cost == 1"
   ]
  },
  {
   "cell_type": "markdown",
   "metadata": {},
   "source": [
    "<a id=\"on_list\"></a>\n",
    "### on_list\n",
    "\n",
    "`on_list` takes in a neighbor (state) and a list of positions, and checks if the neighbor is on that list. Used to check states against frontier and explored lists. **Used by**: [a_star_search](#a_star_search)\n",
    "\n",
    "* **neighbor**: Tuple[int,int]: cartesian position of the neighbor state under consideration\n",
    "* **list**: List[Tuple[int,int]: list of states to search (such as explored or frontier)\n",
    "\n",
    "**returns** found: Boolean value for whether the neighbor was found in the given list\n"
   ]
  },
  {
   "cell_type": "code",
   "execution_count": 13,
   "metadata": {},
   "outputs": [],
   "source": [
    "def on_list(neighbor: Tuple[int,int], list: List[Tuple[int,int]]): \n",
    "    found = False\n",
    "    for state in list: \n",
    "        if state == neighbor: \n",
    "            found = True\n",
    "\n",
    "    return found"
   ]
  },
  {
   "cell_type": "code",
   "execution_count": 14,
   "metadata": {},
   "outputs": [],
   "source": [
    "#assertions / unit tests\n",
    "list = [[0,0], [1,2], [3,3], [2, 5]]\n",
    "neighbor = [0,0]\n",
    "assert on_list(neighbor, list) == True\n",
    "\n",
    "neighbor = [3,3]\n",
    "assert on_list(neighbor, list) == True\n",
    "\n",
    "neighbor = [2,2]\n",
    "assert on_list(neighbor, list) == False"
   ]
  },
  {
   "cell_type": "markdown",
   "metadata": {},
   "source": [
    "<a id=\"get_next_state\"></a>\n",
    "### get_next_state\n",
    "\n",
    "`get_next_state` takes in the world, frontier list, costs, goal, and total running cost (g) to evaluate the frontier list for the best next move. This function acts as a priority queue, without reorganizing the frontier list. The output state is the state with the lowest f = g + h value, and can then be removed from the frontier list in the host function. **Used by**: [a_star_search](#a_star_search)\n",
    "\n",
    "* **world**: List[List[str]]: Input world map\n",
    "* **frontier**: List[Tuple[int,int]]: List of future states to explore\n",
    "* **costs**: Dict[str,int]: dictionary of possible symbols and associated cost to occupy / move\n",
    "* **goal**: Tuple[int,int]: cartesian position of the goal state on the map\n",
    "* **g**: float: running cost of exploration from start to current point\n",
    "\n",
    "**returns** best_move: state on the frontier with lowest f value (g+h) "
   ]
  },
  {
   "cell_type": "code",
   "execution_count": 15,
   "metadata": {},
   "outputs": [],
   "source": [
    "def get_next_state(world: List[List[str]], frontier: List[Tuple[int,int]], costs: Dict[str, int], \n",
    "                   goal: Tuple[int, int], g: float):\n",
    "    best_move = frontier[0]\n",
    "    best_f = g + get_cost(world, best_move, costs) + heuristic(best_move, goal) #running cost + next cost + h\n",
    "    \n",
    "    for state in frontier: \n",
    "        test_f = g + get_cost(world, state, costs) + heuristic(state, goal)\n",
    "        if test_f < best_f: #new best \n",
    "            best_move = state\n",
    "            best_f = test_f\n",
    "\n",
    "    return best_move"
   ]
  },
  {
   "cell_type": "code",
   "execution_count": 16,
   "metadata": {},
   "outputs": [],
   "source": [
    "# assertions / unit tests\n",
    "world = small_world\n",
    "costs = COSTS\n",
    "frontier = [[1,0], [0,1]]\n",
    "goal = [6,6]\n",
    "g = 1.0\n",
    "assert get_next_state(world, frontier, costs, goal, g) == [1,0]\n",
    "\n",
    "frontier = [[0, 1], [1, 1], [0, 0], [2, 1], [4, 0], [3, 1]]\n",
    "g = 4.0\n",
    "assert get_next_state(world, frontier, costs, goal, g) == [3,1]\n",
    "\n",
    "frontier = [[0, 1], [1, 1], [0, 0], [2, 4], [4, 5], [2, 5], [2, 6], [5, 6]]\n",
    "g = 10.0\n",
    "assert get_next_state(world, frontier, costs, goal, g) == [5,6]\n"
   ]
  },
  {
   "cell_type": "markdown",
   "metadata": {},
   "source": [
    "<a id=\"get_direction\"></a>\n",
    "### get_direction\n",
    "\n",
    "`get_direction` takes in the current state, and next move (state), and outputs a direction in the form of an emoji.  **Used by**: [pretty_print_path](#pretty_print_path)\n",
    "\n",
    "* **current**: Tuple[int,int]: current state (cartesian)\n",
    "* **next**: Tuple[int,int]: next state (cartesian)\n",
    "\n",
    "**returns** emoji: orientation of next move"
   ]
  },
  {
   "cell_type": "code",
   "execution_count": 17,
   "metadata": {},
   "outputs": [],
   "source": [
    "def get_direction(current: Tuple[int, int], next: Tuple[int, int]): \n",
    "    x1, y1 = current[0], current[1]\n",
    "    x2, y2 = next[0], next[1]\n",
    "    dy = x2 - x1 #translated for this world\n",
    "    dx = y2 - y1 #translated for this world\n",
    "    if dx == 0 and dy > 0: #pos y move\n",
    "        return '⏬'\n",
    "    if dx == 0 and dy < 0: #neg y move\n",
    "        return '⏫'\n",
    "    if dx > 0 and dy == 0: #pos x move\n",
    "        return '⏩'\n",
    "    if dx < 0 and dy == 0: #neg x move\n",
    "        return '⏪'\n",
    "    else: \n",
    "        return '❌'"
   ]
  },
  {
   "cell_type": "code",
   "execution_count": 18,
   "metadata": {},
   "outputs": [],
   "source": [
    "# assertions / unit tests\n",
    "current = [0,0]\n",
    "next = [1,0]\n",
    "assert get_direction(current, next) == '⏬'\n",
    "\n",
    "current = [0,0]\n",
    "next = [0,1]\n",
    "assert get_direction(current, next) == '⏩'\n",
    "\n",
    "current = [0,1]\n",
    "next = [0,0]\n",
    "assert get_direction(current, next) == '⏪'"
   ]
  },
  {
   "cell_type": "markdown",
   "metadata": {},
   "source": [
    "<a id=\"simple_path\"></a>\n",
    "### simple_path\n",
    "\n",
    "`simple_path` takes in the path dictionary from `a_star_search` and outputs a simple list of the path. This is the desired path output for the assignment. **Used by**: [a_star_search](#a_star_search)\n",
    "\n",
    "* **path_dict**: Dict: custom path dictionary generated by `a_star_search`, storing node cost and previous node\n",
    "* **start**: Tuple[int, int]: the starting location of the bot, `(x, y)`.\n",
    "* **goal**: Tuple[int, int]: cartesian position of the goal state on the map\n",
    "\n",
    "\n",
    "**returns** simple_path: List[Tuple[int, int]] of nodes from start to goal"
   ]
  },
  {
   "cell_type": "code",
   "execution_count": 19,
   "metadata": {},
   "outputs": [],
   "source": [
    "def simple_path(path_dict: Dict, start: Tuple[int, int], goal: Tuple[int, int]):\n",
    "    start = [start[0], start[1]] #convert to list\n",
    "    goal = [goal[0], goal[1]] #convert to list\n",
    "    # print(path_dict)\n",
    "    cur_state, simple_path = goal, [goal]  #init\n",
    "    \n",
    "    while cur_state != start:\n",
    "        prev_state = path_dict[str(cur_state)]['prev_pos']\n",
    "        simple_path.insert(0, prev_state)\n",
    "        cur_state = prev_state\n",
    "    \n",
    "    return simple_path"
   ]
  },
  {
   "cell_type": "code",
   "execution_count": 20,
   "metadata": {},
   "outputs": [],
   "source": [
    "#Unit Tests / Assertions\n",
    "dict = {'[1, 0]': {'cost': 1, 'prev_pos': [0, 0]}, '[0, 1]': {'cost': 3, 'prev_pos': [0, 0]}, '[2, 0]': {'cost': 1, 'prev_pos': [1, 0]}, '[1, 1]': {'cost': 3, 'prev_pos': [1, 0]}, '[3, 0]': {'cost': 1, 'prev_pos': [2, 0]}, '[2, 1]': {'cost': 3, 'prev_pos': [2, 0]}, '[4, 0]': {'cost': 3, 'prev_pos': [3, 0]}, '[3, 1]': {'cost': 1, 'prev_pos': [3, 0]}, '[4, 1]': {'cost': 3, 'prev_pos': [3, 1]}, '[3, 2]': {'cost': 1, 'prev_pos': [3, 1]}, '[4, 2]': {'cost': 3, 'prev_pos': [3, 2]}, '[3, 3]': {'cost': 1, 'prev_pos': [3, 2]}, '[2, 2]': {'cost': 3, 'prev_pos': [3, 2]}, '[4, 3]': {'cost': 3, 'prev_pos': [3, 3]}, '[3, 4]': {'cost': 1, 'prev_pos': [3, 3]}, '[2, 3]': {'cost': 3, 'prev_pos': [3, 3]}, '[4, 4]': {'cost': 3, 'prev_pos': [3, 4]}, '[3, 5]': {'cost': 1, 'prev_pos': [3, 4]}, '[2, 4]': {'cost': 3, 'prev_pos': [3, 4]}, '[4, 5]': {'cost': 3, 'prev_pos': [3, 5]}, '[3, 6]': {'cost': 1, 'prev_pos': [3, 5]}, '[2, 5]': {'cost': 3, 'prev_pos': [3, 5]}, '[4, 6]': {'cost': 1, 'prev_pos': [3, 6]}, '[2, 6]': {'cost': 3, 'prev_pos': [3, 6]}, '[5, 6]': {'cost': 1, 'prev_pos': [4, 6]}, '[5, 5]': {'cost': 3, 'prev_pos': [5, 6]}, '[6, 6]': {'cost': 1, 'prev_pos': [5, 6]}}\n",
    "start = [0,0]\n",
    "goal = [3,1]\n",
    "assert(simple_path(dict, start, goal)) == [[0, 0], [1, 0], [2, 0], [3, 0], [3, 1]]\n",
    "\n",
    "goal = [3, 5]\n",
    "assert(simple_path(dict, start, goal)) == [[0, 0], [1, 0], [2, 0], [3, 0], [3, 1], [3, 2], [3, 3], [3, 4], [3, 5]]\n",
    "\n",
    "goal = [6, 6]\n",
    "assert(simple_path(dict, start, goal)) == [[0, 0], [1, 0], [2, 0], [3, 0], [3, 1], [3, 2], [3, 3], [3, 4], [3, 5], [3, 6], [4, 6], [5, 6], [6, 6]]"
   ]
  },
  {
   "cell_type": "markdown",
   "metadata": {},
   "source": [
    "<a id=\"a_star_search\"></a>\n",
    "## a_star_search\n",
    "\n",
    "This block uses the A* algorithm to traverse a world map from a start point to a goal. The algorithm initiates a list of frontier and explored positions, evaluates neighbors based on a movement model, chooses a next move (state) based on a cost model (f = g+h). The cost metric f is defined as g (actual running cost from start to current position) + h (euclidean distance from current position to goal). \n",
    "\n",
    "Once a next state is chosen from the frontier (in a priority queue fashion, based on f), that state is removed from the frontier. This process continues until a goal is reached, or all states in the frontier have been explored. \n",
    "\n",
    "* **world** List[List[str]]: the actual context for the navigation problem.\n",
    "* **start** Tuple[int, int]: the starting location of the bot, `(x, y)`.\n",
    "* **goal** Tuple[int, int]: the desired goal position for the bot, `(x, y)`.\n",
    "* **costs** Dict[str, int]: is a `Dict` of costs for each type of terrain in **world**.\n",
    "* **moves** List[Tuple[int, int]]: the legal movement model expressed in offsets in **world**.\n",
    "* **heuristic** Callable: is a heuristic function, $h(n)$.\n",
    "\n",
    "\n",
    "**returns** List[Tuple[int, int]]: the offsets needed to get from start state to the goal as a `List`.\n"
   ]
  },
  {
   "cell_type": "code",
   "execution_count": 21,
   "metadata": {},
   "outputs": [],
   "source": [
    "def a_star_search(world: List[List[str]], start: Tuple[int, int], goal: Tuple[int, int], costs: Dict[str, int], moves: List[Tuple[int, int]], heuristic: Callable) -> List[Tuple[int, int]]:\n",
    "    start, goal = [start[0], start[1]], [goal[0], goal[1]] #convert to list\n",
    "    frontier, explored, path_dict, g, current_state = [start], [], {}, 0, start #init\n",
    "    while len(frontier) > 0: \n",
    "        prev_state = current_state #store\n",
    "        current_state = get_next_state(world, frontier, costs, goal, g) #tuple position\n",
    "        frontier.remove(current_state) #like pop\n",
    "        cur_cost = get_cost(world, current_state, costs)\n",
    "        g += cur_cost  #running cost        \n",
    "        if (current_state[0] == goal[0]) and (current_state[1] == goal[1]): #we're done\n",
    "            explored.append(current_state)            \n",
    "            return simple_path(path_dict, start, goal)\n",
    "        neighbors = get_neighbors(world, current_state, moves, costs)\n",
    "        for neighbor in neighbors: \n",
    "            if (not on_list(neighbor, frontier)) and (not on_list(neighbor, explored)) and (not neighbor == current_state) and (not neighbor == prev_state): #valid move\n",
    "                frontier.append(neighbor)\n",
    "                path_dict[str(neighbor)] = {'cost': get_cost(world, neighbor, costs), 'prev_pos': current_state}\n",
    "        explored.append(current_state)\n",
    "    return 'NO PATH FOUND' #path not found"
   ]
  },
  {
   "cell_type": "code",
   "execution_count": 22,
   "metadata": {},
   "outputs": [],
   "source": [
    "# assertions / unit tests\n",
    "world = [\n",
    "    ['🌾', '🌲', '🌲', '🌲', '🌲', '🌲', '🌲'],\n",
    "    ['🌾', '🌲', '🌲', '🌲', '🌲', '🌲', '🌲'],\n",
    "    ['🌾', '🌲', '🌲', '🌲', '🌲', '🌲', '🌲'],\n",
    "    ['🌾', '🌾', '🌾', '🌾', '🌾', '🌾', '🌾'],\n",
    "    ['🌲', '🌲', '🌲', '🌲', '🌲', '🌲', '🌾'],\n",
    "    ['🌲', '🌲', '🌲', '🌲', '🌲', '🌲', '🌾'],\n",
    "    ['🌲', '🌲', '🌲', '🌲', '🌲', '🌲', '🌾']\n",
    "]\n",
    "start = (0, 0)\n",
    "goal = (len(world[0]) - 1, len(world) - 1)\n",
    "path = a_star_search(world, start, goal, COSTS, MOVES, heuristic)\n",
    "# print(path)\n",
    "assert path == [[0, 0], [1, 0], [2, 0], [3, 0], [3, 1], [3, 2], [3, 3], [3, 4], [3, 5], [3, 6], [4, 6], [5, 6], [6, 6]]\n",
    "\n",
    "world = [\n",
    "    ['🌾', '🌲', '🌲', '🌲'],\n",
    "    ['🌾', '🌲', '🌲', '🌲'],\n",
    "    ['🌾', '🌲', '🌲', '🌲'],\n",
    "    ['🌾', '🌾', '🌾', '🌾']\n",
    "]\n",
    "start = [0,0]\n",
    "goal = [3,3]\n",
    "path = a_star_search(world, start, goal, COSTS, MOVES, heuristic)\n",
    "assert path == [[0, 0], [1, 0], [2, 0], [3, 0], [3, 1], [3, 2], [3, 3]]\n",
    "\n",
    "world = [\n",
    "    ['🌾', '🌲', '🌲', '🌲'],\n",
    "    ['🌾', '🌲', '🌲', '🌲'],\n",
    "    ['⛰', '🌲', '🌲', '🌲'],\n",
    "    ['🌾', '🌾', '🌾', '🌾']\n",
    "]\n",
    "start = [0,0]\n",
    "goal = [3,3]\n",
    "path = a_star_search(world, start, goal, COSTS, MOVES, heuristic)\n",
    "assert path == [[0, 0], [1, 0], [1, 1], [2, 1], [3, 1], [3, 2], [3, 3]]\n"
   ]
  },
  {
   "cell_type": "markdown",
   "metadata": {
    "tags": []
   },
   "source": [
    "<a id=\"pretty_print_path\"></a>\n",
    "### pretty_print_path\n",
    "\n",
    "`pretty_print_path` takes in the simplified List path output of `simple_path`, determines the proper emoji to indicate direction of motion (along with goal state), and updates the world map with these symbols. This function returns the total path cost. Unit Tests for this code utilizes print statements to visually verify the desired print output.\n",
    "\n",
    "* **world** List[List[str]]: the world (terrain map) for the path to be printed upon.\n",
    "* **path** List[Tuple[int, int]]: the path from start to goal, in offsets.\n",
    "* **start** Tuple[int, int]: the starting location for the path.\n",
    "* **goal** Tuple[int, int]: the goal location for the path.\n",
    "* **costs** Dict[str, int]: the costs for each action.\n",
    "\n",
    "**returns** int - The path cost."
   ]
  },
  {
   "cell_type": "markdown",
   "metadata": {},
   "source": [
    "\n",
    "<div style=\"background: lemonchiffon; margin:20px; padding: 20px;\">\n",
    "    <strong>Important</strong>\n",
    "    <p>\n",
    "        Does your output of pretty_print_path really look like the specification? Go check again.\n",
    "    </p>\n",
    "</div>"
   ]
  },
  {
   "cell_type": "code",
   "execution_count": 23,
   "metadata": {},
   "outputs": [],
   "source": [
    "def pretty_print_path(world: List[List[str]], path: List[Tuple[int, int]], start: Tuple[int, int], \n",
    "                      goal: Tuple[int, int], costs: Dict[str, int]) -> int:\n",
    "    start = [start[0], start[1]] #convert to list\n",
    "    goal = [goal[0], goal[1]] #convert to list\n",
    "    total_cost = 0 #init\n",
    "    cur_state = path[-1]  #init\n",
    "    new_world = deepcopy(world) #copy\n",
    "    for i in range(len(path)-1, 0, -1): \n",
    "        cur_state = path[i]\n",
    "        total_cost += get_cost(world, cur_state, costs)\n",
    "        if i != 0: \n",
    "            prev_state = path[i-1]\n",
    "            dir_symbol = get_direction(prev_state, cur_state)\n",
    "            new_world[prev_state[0]][prev_state[1]] = dir_symbol\n",
    "    new_world[goal[0]][goal[1]] = '🎁' # goal symbol\n",
    "\n",
    "    for row in new_world: \n",
    "        print(\"\".join(row))\n",
    "    return total_cost # replace with the real value!"
   ]
  },
  {
   "cell_type": "code",
   "execution_count": 24,
   "metadata": {},
   "outputs": [
    {
     "name": "stdout",
     "output_type": "stream",
     "text": [
      "⏬🌲🌲🌲🌲🌲🌲\n",
      "⏬🌲🌲🌲🌲🌲🌲\n",
      "⏬🌲🌲🌲🌲🌲🌲\n",
      "⏩⏩⏩⏩⏩⏩⏬\n",
      "🌲🌲🌲🌲🌲🌲⏬\n",
      "🌲🌲🌲🌲🌲🌲⏬\n",
      "🌲🌲🌲🌲🌲🌲🎁\n",
      "total path cost: 12\n",
      "\n",
      "⏬🌲🌲🌲\n",
      "⏬🌲🌲🌲\n",
      "⏬🌲🌲🌲\n",
      "⏩⏩⏩🎁\n",
      "total path cost: 6\n",
      "\n",
      "⏬🌲🌲🌲\n",
      "⏩⏬🌲🌲\n",
      "⛰⏬🌲🌲\n",
      "🌾⏩⏩🎁\n",
      "total path cost: 10\n"
     ]
    }
   ],
   "source": [
    "# unit tests (visual verification)\n",
    "world = [\n",
    "    ['🌾', '🌲', '🌲', '🌲', '🌲', '🌲', '🌲'],\n",
    "    ['🌾', '🌲', '🌲', '🌲', '🌲', '🌲', '🌲'],\n",
    "    ['🌾', '🌲', '🌲', '🌲', '🌲', '🌲', '🌲'],\n",
    "    ['🌾', '🌾', '🌾', '🌾', '🌾', '🌾', '🌾'],\n",
    "    ['🌲', '🌲', '🌲', '🌲', '🌲', '🌲', '🌾'],\n",
    "    ['🌲', '🌲', '🌲', '🌲', '🌲', '🌲', '🌾'],\n",
    "    ['🌲', '🌲', '🌲', '🌲', '🌲', '🌲', '🌾']\n",
    "]\n",
    "start = (0, 0)\n",
    "goal = (len(world[0]) - 1, len(world) - 1)\n",
    "path = a_star_search(world, start, goal, COSTS, MOVES, heuristic)\n",
    "path_cost = pretty_print_path(world, path, start, goal, COSTS)\n",
    "print(f\"total path cost: {path_cost}\")\n",
    "print('')\n",
    "\n",
    "world = [\n",
    "    ['🌾', '🌲', '🌲', '🌲'],\n",
    "    ['🌾', '🌲', '🌲', '🌲'],\n",
    "    ['🌾', '🌲', '🌲', '🌲'],\n",
    "    ['🌾', '🌾', '🌾', '🌾']\n",
    "]\n",
    "start = [0,0]\n",
    "goal = [3,3]\n",
    "path = a_star_search(world, start, goal, COSTS, MOVES, heuristic)\n",
    "path_cost = pretty_print_path(world, path, start, goal, COSTS)\n",
    "print(f\"total path cost: {path_cost}\")\n",
    "print('')\n",
    "\n",
    "world = [\n",
    "    ['🌾', '🌲', '🌲', '🌲'],\n",
    "    ['🌾', '🌲', '🌲', '🌲'],\n",
    "    ['⛰', '🌲', '🌲', '🌲'],\n",
    "    ['🌾', '🌾', '🌾', '🌾']\n",
    "]\n",
    "start = [0,0]\n",
    "goal = [3,3]\n",
    "path = a_star_search(world, start, goal, COSTS, MOVES, heuristic)\n",
    "path_cost = pretty_print_path(world, path, start, goal, COSTS)\n",
    "print(f\"total path cost: {path_cost}\")"
   ]
  },
  {
   "cell_type": "markdown",
   "metadata": {},
   "source": [
    "## Problems"
   ]
  },
  {
   "cell_type": "markdown",
   "metadata": {},
   "source": [
    "## Problem 1 \n",
    "\n",
    "Execute `a_star_search` and `pretty_print_path` for the `small_world`.\n",
    "\n",
    "If you change any values while developing your code, make sure you change them back! (Better yet, don't do it. Copy them elsewhere and change the values, then delete those experiments)."
   ]
  },
  {
   "cell_type": "code",
   "execution_count": 25,
   "metadata": {},
   "outputs": [
    {
     "name": "stdout",
     "output_type": "stream",
     "text": [
      "⏬🌲🌲🌲🌲🌲🌲\n",
      "⏬🌲🌲🌲🌲🌲🌲\n",
      "⏬🌲🌲🌲🌲🌲🌲\n",
      "⏩⏩⏩⏩⏩⏩⏬\n",
      "🌲🌲🌲🌲🌲🌲⏬\n",
      "🌲🌲🌲🌲🌲🌲⏬\n",
      "🌲🌲🌲🌲🌲🌲🎁\n",
      "total path cost: 12\n",
      "[[0, 0], [1, 0], [2, 0], [3, 0], [3, 1], [3, 2], [3, 3], [3, 4], [3, 5], [3, 6], [4, 6], [5, 6], [6, 6]]\n"
     ]
    }
   ],
   "source": [
    "small_start = (0, 0)\n",
    "small_goal = (len(small_world[0]) - 1, len(small_world) - 1)\n",
    "small_path = a_star_search(small_world, small_start, small_goal, COSTS, MOVES, heuristic)\n",
    "small_path_cost = pretty_print_path(small_world, small_path, small_start, small_goal, COSTS)\n",
    "print(f\"total path cost: {small_path_cost}\")\n",
    "print(small_path)"
   ]
  },
  {
   "cell_type": "markdown",
   "metadata": {},
   "source": [
    "## Problem 2\n",
    "\n",
    "Execute `a_star_search` and `print_path` for the `full_world`"
   ]
  },
  {
   "cell_type": "code",
   "execution_count": 26,
   "metadata": {},
   "outputs": [
    {
     "name": "stdout",
     "output_type": "stream",
     "text": [
      "⏬🌾🌾🌾🌾🌲🌲🌲🌲🌲🌲🌲🌲🌲🌲🌾🌾🌾🌾🌾🌾🌾🌾🌾🌾🌾🌾\n",
      "⏩⏬🌾⏩⏩⏩⏬🌲🌲🌲🌲🌲🌲🌲🌲🌲🌾🌾🌋🌋🌋🌋🌋🌋🌋🌾🌾\n",
      "🌾⏩⏩⏫🌋🌋⏩⏩⏬🌲🌲🌲🌲🌲🌲🌲🌲🌋🌋🌋⛰⛰⛰🌋🌋⛰⛰\n",
      "🌾🌾🌾🌾⛰🌋🌋🌋⏬🌲🌲🌲🐊🐊🌲🌲🌲🌲🌲🌾🌾⛰⛰🌋🌋⛰🌾\n",
      "🌾🌾🌾⛰⛰🌋🌋🌲⏬🌾🌾🐊🐊🐊🐊🌲🌲🌲🌾🌾🌾⛰🌋🌋🌋⛰🌾\n",
      "🌾⛰⛰⛰🌋🌋⛰⛰⏬🌾🌾🌾🐊🐊🐊🐊🐊🌾🌾🌾🌾🌾⛰🌋⛰🌾🌾\n",
      "🌾⛰⛰🌋🌋⛰⛰🌾⏬🌾🌾⛰🌋🌋🌋🐊🐊🐊🌾🌾🌾🌾🌾⛰🌾🌾🌾\n",
      "🌾🌾⛰⛰⛰⛰⛰🌾⏬🌾🌾🌾🌾⛰🌋🌋🌋🐊🐊🐊🌾🌾⛰⛰⛰🌾🌾\n",
      "🌾🌾🌾⛰⛰⛰🌾⏬⏪🌾🌾🌾⛰⛰🌋🌋🌾🐊🐊🌾🌾⛰⛰⛰🌾🌾🌾\n",
      "🌾🌾🌾🐊🐊🐊🌾⏬⛰⛰⛰🌋🌋🌋🌋🌾🌾🌾🐊🌾⛰⛰⛰🌾🌾🌾🌾\n",
      "🌾🌾🐊🐊🐊🐊🐊⏬⛰⛰🌋🌋🌋⛰🌾🌾🌾🌾🌾⛰🌋🌋🌋⛰🌾🌾🌾\n",
      "🌾🐊🐊🐊🐊🐊⏬⏪⛰🌋🌋⛰🌾🌾🌾🌾🐊🐊🌾🌾⛰🌋🌋⛰🌾🌾🌾\n",
      "🐊🐊🐊🐊🐊🌾⏬⛰⛰🌋🌋⛰🌾🐊🐊🐊🐊🌾🌾🌾⛰🌋⛰🌾🌾🌾🌾\n",
      "🌾🐊🐊🐊🐊🌾⏬⛰🌲🌲⛰🌾🌾🌾🌾🐊🐊🐊🐊🌾🌾⛰🌾🌾🌾🌾🌾\n",
      "🌾🌾🌾🌾🌋🌾⏩⏩⏩⏩⏬⛰⛰⛰⛰🌾🐊🐊🐊🌾🌾⛰🌋⛰🌾🌾🌾\n",
      "🌾🌾🌾🌋🌋🌋🌲🌲🌲🌲⏩⏬🌋🌋🌋⛰⛰🌾🐊🌾⛰🌋🌋⛰🌾🌾🌾\n",
      "🌾🌾🌋🌋🌲🌲🌲🌲🌲🌲🌲⏩⏩⏬🌋🌋🌋🌾🌾🌋🌋🌋🌾🌾🌾🌾🌾\n",
      "🌾🌾🌾🌋🌋🌲🌲🌲🌲🌲🌲🌲🌲⏩⏬🌲🌋🌋🌋🌋🌾🌾🌾🌾🌾🌾🌾\n",
      "🌾🌾🌾🌋🌋🌋🌲🌲🌲🌲🌲🌲🌲🌲⏩⏩⏬⛰⛰🌾🌾🌾🌾🌾🌾🌾🌾\n",
      "🌾🌾🌾🌾🌋🌋🌋🌲🌲🌲🌲🌲🌲🌾🌾🌾⏩⏩⏩⏬🌾🌾🌾🐊🐊🐊🐊\n",
      "🌾🌾⛰⛰⛰⛰🌋🌋🌲🌲🌲🌲🌲🌾🌋🌾🌾🌾🌾⏬🐊🐊🐊🐊🐊🐊🐊\n",
      "🌾🌾🌾🌾⛰⛰⛰🌋🌋🌋🌲🌲🌋🌋🌾🌾🌾🌾🌾⏬🐊🐊🐊🐊🐊🐊🐊\n",
      "🌾🌾🌾🌾🌾🌾⛰⛰⛰🌋🌋🌋🌋🌾🌾🌾🌾⛰⛰⏩⏬🐊🐊🐊🐊🐊🐊\n",
      "🌾⛰⛰🌾🌾⛰⛰⛰⛰⛰🌾🌾🌾🌾🌾⛰⛰🌋🌋⛰⏩⏬🐊🐊🐊🐊🐊\n",
      "⛰🌋⛰⛰⛰⛰🌾🌾🌾🌾🌾🌋🌋🌋⛰⛰🌋🌋🌾🌋🌋⏩⏩⏩⏬🐊🐊\n",
      "⛰🌋🌋🌋⛰🌾🌾🌾🌾🌾⛰⛰🌋🌋🌋🌋⛰⛰⛰⛰🌋🌋🌋🐊⏬🐊🐊\n",
      "⛰⛰🌾🌾🌾🌾🌾🌾🌾🌾🌾🌾⛰⛰⛰⛰⛰🌾🌾🌾🌾⛰⛰⛰⏩⏩🎁\n",
      "total path cost: 120\n",
      "[[0, 0], [1, 0], [1, 1], [2, 1], [2, 2], [2, 3], [1, 3], [1, 4], [1, 5], [1, 6], [2, 6], [2, 7], [2, 8], [3, 8], [4, 8], [5, 8], [6, 8], [7, 8], [8, 8], [8, 7], [9, 7], [10, 7], [11, 7], [11, 6], [12, 6], [13, 6], [14, 6], [14, 7], [14, 8], [14, 9], [14, 10], [15, 10], [15, 11], [16, 11], [16, 12], [16, 13], [17, 13], [17, 14], [18, 14], [18, 15], [18, 16], [19, 16], [19, 17], [19, 18], [19, 19], [20, 19], [21, 19], [22, 19], [22, 20], [23, 20], [23, 21], [24, 21], [24, 22], [24, 23], [24, 24], [25, 24], [26, 24], [26, 25], [26, 26]]\n"
     ]
    }
   ],
   "source": [
    "full_start = (0, 0)\n",
    "full_goal = (len(full_world[0]) - 1, len(full_world) - 1)\n",
    "full_path = a_star_search(full_world, full_start, full_goal, COSTS, MOVES, heuristic)\n",
    "full_path_cost = pretty_print_path(full_world, full_path, full_start, full_goal, COSTS)\n",
    "print(f\"total path cost: {full_path_cost}\")\n",
    "print(full_path)"
   ]
  },
  {
   "cell_type": "markdown",
   "metadata": {},
   "source": [
    "<a id=\"Comments\"></a>\n",
    "## Comments from Original Submittal\n",
    "\n",
    "(This is the place to leave me comments)\n",
    "- COSTS was updated to include the mountain; value set to 10000 as a high marker rather than np.inf\n",
    "- I think my approach of outputting the explored list is incorrect - it works on the small world, but not on the full map. The path shows all explored nodes, including those that resulted in a deadend. The red X markers show where my direction function threw an error, usually because states were not progressing cleanly.\n",
    "- I believe I need to track parents / last position as I progress through the tree...but I wasn't sure how to do this without using what is essentially object oriented data structures. In other courses I would have used a custom \"node\" class with a \"node.parent\" parameter, essentially building out a tree as I go. In this case, I tried a dictionary with individual keys for each node, but was unsuccessful in my implementation. I'm interested in hearing your thoughts / solution on this! "
   ]
  },
  {
   "cell_type": "markdown",
   "metadata": {},
   "source": [
    "<a id=\"Notes for Resubmit\"></a>\n",
    "## Comments for Resubmit\n",
    "\n",
    "**Grading Feedback**\n",
    "- *Setting mountains to a really high cost isn't always going to work. - For example, if you had mountains that were diagonal across a 10000 x 1000 map except for the the left most bottom, a_star would have you navigate over the mountains when that's not allowed. Better to just add logic in the generate succesors method to just not allow the move*\n",
    "- *a_star_search over 20 lines*\n",
    "- *As you said in your comments, your implementation is slightly off. The optimal cost is just under 100 for the hard problem*\n",
    "- *To answer your comment: you can use a dict as a place holder for a class. I know this doesn't feel much different than just making a node class, but for the class, its good enough. - So, in your dict, you'd have something like - dict( (x,y) = dict( cost=value_1, prev_node=(a,b), ... ) (x+1,y) = dict( cost=value_2, prev_node=(c,b), ... ) ... )*\n",
    "\n",
    "**Changes Made in this Resubmit**\n",
    "* Cost Dict was revised back to original - mountains were removed\n",
    "* `get_neighbors` function updated to intake costs, check possible neighbors against cost dictionary; if not in Dict, move is not allowed, and location is not included in neighbors. All necessary function calls were updated to pass the costs dict.\n",
    "* `path_cost` helper function no longer needed - eliminated\n",
    "* `a_star_search` updated logic to build a path dictionary, storing each node's cost and previous connecting node; this dictionary was passed to a new function `simple_path` to output the path in the desired format. Free lines reduced to get total count < 20 (this makes the function less readable, but meets requirements).\n",
    "* `simple_path` function added to translate path dictionary output from `a_star_search` into the assignment's desired list format\n",
    "* `pretty_print_path` updated to print from output of `simple_path`\n",
    "\n",
    "**Additional Notes** \n",
    "* A few questions were sent to Dr. Strasser ~48 hours prior to the resubmit deadline regarding the output format, and total path cost. No answers were received prior to this resubmittal, so assumptions were made around the creation of `simple_path` and the total path cost shown above.\n",
    "* In office hours, it was stated the optimal path should track the left boundary down, then snake across to the goal on the right. My emailed questions were targeting this discrepancy... I'm not sure what is causing my math to drive me in a diagonal fashion towards the goal. I'm interested in your thoughts here. "
   ]
  },
  {
   "cell_type": "markdown",
   "metadata": {},
   "source": [
    "## To think about for future assignments..."
   ]
  },
  {
   "cell_type": "markdown",
   "metadata": {},
   "source": [
    "This first assignment may not have been difficult for you if you've encountered A* search before in your Algorithms course. In preparation for future assignments that build on State Space Search, you can think about the following or even do an implementation if you like. You should **not** submit it as part of this assignment.\n",
    "\n",
    "In several future assignments, we will have a need for a \"plain ol'\" Depth First Search algorithm.\n",
    "\n",
    "1. Implement DFS Search to solve the problem presented in this programming assignment. Try to be as general as possible (don't hard code anything you can pass as a formal parameter).\n",
    "2. Can you implement DFS Search as a higher order function and supply your own `is_goal`, `successors`, and `path` functions? How do you handle *state*?\n",
    "3. Can you write a version of DFS that returns all the solutions?\n",
    "\n",
    "In one future assignment a Breadth First Search algorithm will be very handy. Can you implement a search algorithm that changes whether it uses DFS or BFS by parameterization?"
   ]
  },
  {
   "cell_type": "markdown",
   "metadata": {},
   "source": [
    "## Before You Submit...\n",
    "\n",
    "1. Did you provide output exactly as requested?\n",
    "2. Did you follow the Programming Requirements on Canvas?\n",
    "\n",
    "Do not submit any other files."
   ]
  }
 ],
 "metadata": {
  "kernelspec": {
   "display_name": "Python (en605645)",
   "language": "python",
   "name": "en605645"
  },
  "language_info": {
   "codemirror_mode": {
    "name": "ipython",
    "version": 3
   },
   "file_extension": ".py",
   "mimetype": "text/x-python",
   "name": "python",
   "nbconvert_exporter": "python",
   "pygments_lexer": "ipython3",
   "version": "3.11.7"
  },
  "toc": {
   "colors": {
    "hover_highlight": "#DAA520",
    "navigate_num": "#000000",
    "navigate_text": "#333333",
    "running_highlight": "#FF0000",
    "selected_highlight": "#FFD700",
    "sidebar_border": "#EEEEEE",
    "wrapper_background": "#FFFFFF"
   },
   "moveMenuLeft": true,
   "nav_menu": {
    "height": "192px",
    "width": "252px"
   },
   "navigate_menu": true,
   "number_sections": true,
   "sideBar": true,
   "threshold": 4,
   "toc_cell": false,
   "toc_section_display": "block",
   "toc_window_display": false,
   "widenNotebook": false
  }
 },
 "nbformat": 4,
 "nbformat_minor": 4
}
